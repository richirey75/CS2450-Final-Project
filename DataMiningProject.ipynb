{
  "cells": [
    {
      "cell_type": "markdown",
      "metadata": {
        "id": "view-in-github",
        "colab_type": "text"
      },
      "source": [
        "<a href=\"https://colab.research.google.com/github/richirey75/Data-Mining-CS4990/blob/tiff/DataMiningProject.ipynb\" target=\"_parent\"><img src=\"https://colab.research.google.com/assets/colab-badge.svg\" alt=\"Open In Colab\"/></a>"
      ]
    },
    {
      "cell_type": "markdown",
      "metadata": {
        "id": "YIe97mI8ZitR"
      },
      "source": [
        "## Mounting my drive"
      ]
    },
    {
      "cell_type": "code",
      "execution_count": 1,
      "metadata": {
        "id": "xLKF-AtAXxF4",
        "colab": {
          "base_uri": "https://localhost:8080/"
        },
        "outputId": "b673a7e1-15b6-4e94-eff1-f8d12a9543c1"
      },
      "outputs": [
        {
          "output_type": "stream",
          "name": "stdout",
          "text": [
            "Mounted at /content/drive\n"
          ]
        }
      ],
      "source": [
        "from google.colab import drive\n",
        "\n",
        "drive.mount('/content/drive')\n"
      ]
    },
    {
      "cell_type": "markdown",
      "metadata": {
        "id": "GLaEPJlCaoFh"
      },
      "source": [
        "## To make shell commands we need the \"!\" before the command"
      ]
    },
    {
      "cell_type": "code",
      "execution_count": 2,
      "metadata": {
        "id": "_ytZ9IYEZtFr",
        "colab": {
          "base_uri": "https://localhost:8080/"
        },
        "outputId": "b4337fe7-8919-49aa-dc60-4c701fe1cf17"
      },
      "outputs": [
        {
          "output_type": "stream",
          "name": "stdout",
          "text": [
            "Python 3.10.12\n"
          ]
        }
      ],
      "source": [
        "!python --version"
      ]
    },
    {
      "cell_type": "markdown",
      "metadata": {
        "id": "serx2AaBb-V7"
      },
      "source": [
        "- The % is a special command in Google Colab and Jupyter notebooks called a \"magic command\". These commands provide special functionalities.\n",
        "\n",
        "- %cd is one such magic command which is used to change the current working directory."
      ]
    },
    {
      "cell_type": "code",
      "execution_count": 3,
      "metadata": {
        "colab": {
          "base_uri": "https://localhost:8080/"
        },
        "id": "mlOkpC4ybFyA",
        "outputId": "0e25005f-e9a0-4aab-e5a8-9cd6ede6743c"
      },
      "outputs": [
        {
          "output_type": "stream",
          "name": "stdout",
          "text": [
            "/content/drive/.shortcut-targets-by-id/1hLEMmjmhbJwf5855ZTdx4nTzxGUxkruH/CS4990GroupProject/CSV_files\n",
            "/content/drive/.shortcut-targets-by-id/1hLEMmjmhbJwf5855ZTdx4nTzxGUxkruH/CS4990GroupProject/CSV_files\n"
          ]
        }
      ],
      "source": [
        "%cd /content/drive/MyDrive/CS4990GroupProject/CSV_files\n",
        "!pwd"
      ]
    },
    {
      "cell_type": "markdown",
      "metadata": {
        "id": "ez9LiiPNfxIs"
      },
      "source": [
        "## USEFUL SHORTSCUTS\n",
        "\n",
        "- Ctrl + M + H: Show all shortcuts\n",
        "- Ctrl + M + B: Create a new cell below\n",
        "- Ctrl + M + A: Create a new cell above\n",
        "- Ctrl + M + D: Delete the current cell\n",
        "- Ctrl + M + Y: Change cell to code\n",
        "- Ctrl + M + M: Change cell to text\n",
        "- Ctrl + Enter: Run the current cell\n",
        "- Ctrl + Shift + Enter: Run the current cell and select the below cell"
      ]
    },
    {
      "cell_type": "markdown",
      "source": [
        "## Installation of Library\n",
        "- We will using this library\n",
        "  - [spotify library](https://spotipy.readthedocs.io/en/2.24.0/)\n"
      ],
      "metadata": {
        "id": "JFjXEGoBNhfq"
      }
    },
    {
      "cell_type": "code",
      "execution_count": 4,
      "metadata": {
        "colab": {
          "base_uri": "https://localhost:8080/"
        },
        "id": "7hlQXW-egyEb",
        "outputId": "ebe9f819-8fcb-4c33-88c8-9ec1cce332d3"
      },
      "outputs": [
        {
          "output_type": "stream",
          "name": "stdout",
          "text": [
            "Collecting spotipy\n",
            "  Downloading spotipy-2.24.0-py3-none-any.whl.metadata (4.9 kB)\n",
            "Collecting redis>=3.5.3 (from spotipy)\n",
            "  Downloading redis-5.1.0-py3-none-any.whl.metadata (9.1 kB)\n",
            "Requirement already satisfied: requests>=2.25.0 in /usr/local/lib/python3.10/dist-packages (from spotipy) (2.32.3)\n",
            "Requirement already satisfied: urllib3>=1.26.0 in /usr/local/lib/python3.10/dist-packages (from spotipy) (2.2.3)\n",
            "Requirement already satisfied: async-timeout>=4.0.3 in /usr/local/lib/python3.10/dist-packages (from redis>=3.5.3->spotipy) (4.0.3)\n",
            "Requirement already satisfied: charset-normalizer<4,>=2 in /usr/local/lib/python3.10/dist-packages (from requests>=2.25.0->spotipy) (3.3.2)\n",
            "Requirement already satisfied: idna<4,>=2.5 in /usr/local/lib/python3.10/dist-packages (from requests>=2.25.0->spotipy) (3.10)\n",
            "Requirement already satisfied: certifi>=2017.4.17 in /usr/local/lib/python3.10/dist-packages (from requests>=2.25.0->spotipy) (2024.8.30)\n",
            "Downloading spotipy-2.24.0-py3-none-any.whl (30 kB)\n",
            "Downloading redis-5.1.0-py3-none-any.whl (261 kB)\n",
            "\u001b[2K   \u001b[90m━━━━━━━━━━━━━━━━━━━━━━━━━━━━━━━━━━━━━━━━\u001b[0m \u001b[32m261.2/261.2 kB\u001b[0m \u001b[31m6.2 MB/s\u001b[0m eta \u001b[36m0:00:00\u001b[0m\n",
            "\u001b[?25hInstalling collected packages: redis, spotipy\n",
            "Successfully installed redis-5.1.0 spotipy-2.24.0\n"
          ]
        }
      ],
      "source": [
        "!pip install spotipy --upgrade"
      ]
    },
    {
      "cell_type": "markdown",
      "metadata": {
        "id": "Sp9DUBB3t21T"
      },
      "source": [
        "## We need to import our libraries we will be using for the project\n",
        "  - spotipy\n",
        "  - pandas\n",
        "  - numpy"
      ]
    },
    {
      "cell_type": "code",
      "execution_count": 5,
      "metadata": {
        "id": "w6uabVyprPpu"
      },
      "outputs": [],
      "source": [
        "import spotipy\n",
        "from spotipy.oauth2 import SpotifyClientCredentials\n",
        "\n",
        "import pandas as pd\n",
        "import numpy as np"
      ]
    },
    {
      "cell_type": "markdown",
      "metadata": {
        "id": "JB5cpesluEcJ"
      },
      "source": [
        "## This is how we will identify to the API\n",
        "- We need to first get a key from [spotify dev](https://developer.spotify.com/)\n",
        "- Will get two keys\n",
        "  - Client Id key\n",
        "  - Client Secret key\n",
        "\n",
        "- Follow by inputting our keys and autheticating"
      ]
    },
    {
      "cell_type": "code",
      "execution_count": 6,
      "metadata": {
        "id": "-Ea0oXkPsokV",
        "outputId": "085b374c-85ff-4b12-c157-92d264e509bf",
        "colab": {
          "base_uri": "https://localhost:8080/"
        }
      },
      "outputs": [
        {
          "name": "stdout",
          "output_type": "stream",
          "text": [
            "Enter your client_id: 685b0de0fda641d892d411674647b015\n",
            "Enter your client_secret: 01f2e18ab7ce4d4a8b740c7d3a007ae6\n"
          ]
        }
      ],
      "source": [
        "client_id = input(\"Enter your client_id: \")\n",
        "client_secret = input(\"Enter your client_secret: \")\n",
        "\n",
        "auth_manager = SpotifyClientCredentials(client_id=client_id, client_secret=client_secret)\n",
        "sp = spotipy.Spotify(auth_manager=auth_manager)"
      ]
    },
    {
      "cell_type": "markdown",
      "metadata": {
        "id": "j4GszzFEwtk9"
      },
      "source": [
        "## Search function to query an artist\n",
        "- As an example we the band call \"the cramberries\"\n",
        "- This is just as if you were searching for an artists in the spotify environnement\n",
        "- We get the artist ID"
      ]
    },
    {
      "cell_type": "code",
      "execution_count": 7,
      "metadata": {
        "colab": {
          "base_uri": "https://localhost:8080/",
          "height": 35
        },
        "id": "hIya5gY7ty9t",
        "outputId": "eed2f8da-5950-4408-bd79-8691bae470df"
      },
      "outputs": [
        {
          "output_type": "execute_result",
          "data": {
            "text/plain": [
              "'7t0rwkOPGlDPEhaOcVtOt9'"
            ],
            "application/vnd.google.colaboratory.intrinsic+json": {
              "type": "string"
            }
          },
          "metadata": {},
          "execution_count": 7
        }
      ],
      "source": [
        "results = sp.search(q='The Cranberries', limit=1, type='artist')\n",
        "artist_id = results['artists']['items'][0]['id']\n",
        "artist_id"
      ]
    },
    {
      "cell_type": "markdown",
      "metadata": {
        "id": "yoOISDh60D5h"
      },
      "source": [
        "## Here is how to retreve albums from the artist_id from above\n",
        "- We will use the artist ID to retrieve the albums from the artist page"
      ]
    },
    {
      "cell_type": "code",
      "execution_count": 8,
      "metadata": {
        "colab": {
          "base_uri": "https://localhost:8080/"
        },
        "id": "oaeqPehDvkzQ",
        "outputId": "6169d5e5-88a4-49eb-a072-39d97f7e72a0"
      },
      "outputs": [
        {
          "output_type": "execute_result",
          "data": {
            "text/plain": [
              "['To The Faithful Departed (Deluxe Edition)',\n",
              " 'Remembering Dolores',\n",
              " 'No Need To Argue (Remastered 2020)',\n",
              " 'No Need To Argue (Deluxe)',\n",
              " 'In the End',\n",
              " 'Something Else',\n",
              " 'Live At the Hammersmith Apollo, London 2012',\n",
              " 'Roses',\n",
              " 'Live 2010 - Zenith Paris, 22.03.10',\n",
              " 'Bualadh Bos: The Cranberries Live',\n",
              " 'Wake Up And Smell The Coffee',\n",
              " 'Bury The Hatchet (The Complete Sessions 1998-1999)',\n",
              " 'Bury The Hatchet',\n",
              " 'To The Faithful Departed (The Complete Sessions 1996-1997)',\n",
              " 'To The Faithful Departed',\n",
              " 'No Need To Argue (The Complete Sessions 1994-1995)',\n",
              " \"Everybody Else Is Doing It, So Why Can't We? (The Complete Sessions 1991-1993)\",\n",
              " \"Everybody Else Is Doing It, So Why Can't We? (Super Deluxe)\",\n",
              " \"Everybody Else Is Doing It, So Why Can't We?\"]"
            ]
          },
          "metadata": {},
          "execution_count": 8
        }
      ],
      "source": [
        "albums = sp.artist_albums(artist_id, album_type='album')\n",
        "\n",
        "album_names = [album['name'] for album in albums['items']]\n",
        "\n",
        "album_names"
      ]
    },
    {
      "cell_type": "markdown",
      "metadata": {
        "id": "yaUfvxT_0QZk"
      },
      "source": [
        "## We can extract the songs from an album\n",
        "- Here the code gives back the album songs from the 18 position on the list above"
      ]
    },
    {
      "cell_type": "code",
      "execution_count": 9,
      "metadata": {
        "colab": {
          "base_uri": "https://localhost:8080/"
        },
        "id": "_QV_DZa5vxIr",
        "outputId": "2a70bce2-e175-4386-cec8-25b01d194aca"
      },
      "outputs": [
        {
          "output_type": "execute_result",
          "data": {
            "text/plain": [
              "['I Still Do',\n",
              " 'Dreams',\n",
              " 'Sunday',\n",
              " 'Pretty',\n",
              " 'Waltzing Back',\n",
              " 'Not Sorry',\n",
              " 'Linger',\n",
              " 'Wanted',\n",
              " \"Still Can't...\",\n",
              " 'I Will Always',\n",
              " 'How',\n",
              " 'Put Me Down']"
            ]
          },
          "metadata": {},
          "execution_count": 9
        }
      ],
      "source": [
        "tracks = sp.album_tracks(albums['items'][18]['id'])\n",
        "track_names = [track['name'] for track in tracks['items']]\n",
        "\n",
        "track_names"
      ]
    },
    {
      "cell_type": "markdown",
      "source": [
        "## Using Pandas to organize\n",
        "- We can use pandas to oprganize our data into a CSV file"
      ],
      "metadata": {
        "id": "0oqWgfL2WJ31"
      }
    },
    {
      "cell_type": "code",
      "execution_count": 10,
      "metadata": {
        "id": "neWLV59gxaRj",
        "colab": {
          "base_uri": "https://localhost:8080/",
          "height": 426
        },
        "outputId": "7de933e2-172a-400e-8709-ff48b09d3cd8"
      },
      "outputs": [
        {
          "output_type": "execute_result",
          "data": {
            "text/plain": [
              "       Track Names\n",
              "0       I Still Do\n",
              "1           Dreams\n",
              "2           Sunday\n",
              "3           Pretty\n",
              "4    Waltzing Back\n",
              "5        Not Sorry\n",
              "6           Linger\n",
              "7           Wanted\n",
              "8   Still Can't...\n",
              "9    I Will Always\n",
              "10             How\n",
              "11     Put Me Down"
            ],
            "text/html": [
              "\n",
              "  <div id=\"df-690b4a51-bdc2-445d-bc35-4706b2e8ad20\" class=\"colab-df-container\">\n",
              "    <div>\n",
              "<style scoped>\n",
              "    .dataframe tbody tr th:only-of-type {\n",
              "        vertical-align: middle;\n",
              "    }\n",
              "\n",
              "    .dataframe tbody tr th {\n",
              "        vertical-align: top;\n",
              "    }\n",
              "\n",
              "    .dataframe thead th {\n",
              "        text-align: right;\n",
              "    }\n",
              "</style>\n",
              "<table border=\"1\" class=\"dataframe\">\n",
              "  <thead>\n",
              "    <tr style=\"text-align: right;\">\n",
              "      <th></th>\n",
              "      <th>Track Names</th>\n",
              "    </tr>\n",
              "  </thead>\n",
              "  <tbody>\n",
              "    <tr>\n",
              "      <th>0</th>\n",
              "      <td>I Still Do</td>\n",
              "    </tr>\n",
              "    <tr>\n",
              "      <th>1</th>\n",
              "      <td>Dreams</td>\n",
              "    </tr>\n",
              "    <tr>\n",
              "      <th>2</th>\n",
              "      <td>Sunday</td>\n",
              "    </tr>\n",
              "    <tr>\n",
              "      <th>3</th>\n",
              "      <td>Pretty</td>\n",
              "    </tr>\n",
              "    <tr>\n",
              "      <th>4</th>\n",
              "      <td>Waltzing Back</td>\n",
              "    </tr>\n",
              "    <tr>\n",
              "      <th>5</th>\n",
              "      <td>Not Sorry</td>\n",
              "    </tr>\n",
              "    <tr>\n",
              "      <th>6</th>\n",
              "      <td>Linger</td>\n",
              "    </tr>\n",
              "    <tr>\n",
              "      <th>7</th>\n",
              "      <td>Wanted</td>\n",
              "    </tr>\n",
              "    <tr>\n",
              "      <th>8</th>\n",
              "      <td>Still Can't...</td>\n",
              "    </tr>\n",
              "    <tr>\n",
              "      <th>9</th>\n",
              "      <td>I Will Always</td>\n",
              "    </tr>\n",
              "    <tr>\n",
              "      <th>10</th>\n",
              "      <td>How</td>\n",
              "    </tr>\n",
              "    <tr>\n",
              "      <th>11</th>\n",
              "      <td>Put Me Down</td>\n",
              "    </tr>\n",
              "  </tbody>\n",
              "</table>\n",
              "</div>\n",
              "    <div class=\"colab-df-buttons\">\n",
              "\n",
              "  <div class=\"colab-df-container\">\n",
              "    <button class=\"colab-df-convert\" onclick=\"convertToInteractive('df-690b4a51-bdc2-445d-bc35-4706b2e8ad20')\"\n",
              "            title=\"Convert this dataframe to an interactive table.\"\n",
              "            style=\"display:none;\">\n",
              "\n",
              "  <svg xmlns=\"http://www.w3.org/2000/svg\" height=\"24px\" viewBox=\"0 -960 960 960\">\n",
              "    <path d=\"M120-120v-720h720v720H120Zm60-500h600v-160H180v160Zm220 220h160v-160H400v160Zm0 220h160v-160H400v160ZM180-400h160v-160H180v160Zm440 0h160v-160H620v160ZM180-180h160v-160H180v160Zm440 0h160v-160H620v160Z\"/>\n",
              "  </svg>\n",
              "    </button>\n",
              "\n",
              "  <style>\n",
              "    .colab-df-container {\n",
              "      display:flex;\n",
              "      gap: 12px;\n",
              "    }\n",
              "\n",
              "    .colab-df-convert {\n",
              "      background-color: #E8F0FE;\n",
              "      border: none;\n",
              "      border-radius: 50%;\n",
              "      cursor: pointer;\n",
              "      display: none;\n",
              "      fill: #1967D2;\n",
              "      height: 32px;\n",
              "      padding: 0 0 0 0;\n",
              "      width: 32px;\n",
              "    }\n",
              "\n",
              "    .colab-df-convert:hover {\n",
              "      background-color: #E2EBFA;\n",
              "      box-shadow: 0px 1px 2px rgba(60, 64, 67, 0.3), 0px 1px 3px 1px rgba(60, 64, 67, 0.15);\n",
              "      fill: #174EA6;\n",
              "    }\n",
              "\n",
              "    .colab-df-buttons div {\n",
              "      margin-bottom: 4px;\n",
              "    }\n",
              "\n",
              "    [theme=dark] .colab-df-convert {\n",
              "      background-color: #3B4455;\n",
              "      fill: #D2E3FC;\n",
              "    }\n",
              "\n",
              "    [theme=dark] .colab-df-convert:hover {\n",
              "      background-color: #434B5C;\n",
              "      box-shadow: 0px 1px 3px 1px rgba(0, 0, 0, 0.15);\n",
              "      filter: drop-shadow(0px 1px 2px rgba(0, 0, 0, 0.3));\n",
              "      fill: #FFFFFF;\n",
              "    }\n",
              "  </style>\n",
              "\n",
              "    <script>\n",
              "      const buttonEl =\n",
              "        document.querySelector('#df-690b4a51-bdc2-445d-bc35-4706b2e8ad20 button.colab-df-convert');\n",
              "      buttonEl.style.display =\n",
              "        google.colab.kernel.accessAllowed ? 'block' : 'none';\n",
              "\n",
              "      async function convertToInteractive(key) {\n",
              "        const element = document.querySelector('#df-690b4a51-bdc2-445d-bc35-4706b2e8ad20');\n",
              "        const dataTable =\n",
              "          await google.colab.kernel.invokeFunction('convertToInteractive',\n",
              "                                                    [key], {});\n",
              "        if (!dataTable) return;\n",
              "\n",
              "        const docLinkHtml = 'Like what you see? Visit the ' +\n",
              "          '<a target=\"_blank\" href=https://colab.research.google.com/notebooks/data_table.ipynb>data table notebook</a>'\n",
              "          + ' to learn more about interactive tables.';\n",
              "        element.innerHTML = '';\n",
              "        dataTable['output_type'] = 'display_data';\n",
              "        await google.colab.output.renderOutput(dataTable, element);\n",
              "        const docLink = document.createElement('div');\n",
              "        docLink.innerHTML = docLinkHtml;\n",
              "        element.appendChild(docLink);\n",
              "      }\n",
              "    </script>\n",
              "  </div>\n",
              "\n",
              "\n",
              "<div id=\"df-1c1f5937-a113-4a61-a1ee-557775ce1751\">\n",
              "  <button class=\"colab-df-quickchart\" onclick=\"quickchart('df-1c1f5937-a113-4a61-a1ee-557775ce1751')\"\n",
              "            title=\"Suggest charts\"\n",
              "            style=\"display:none;\">\n",
              "\n",
              "<svg xmlns=\"http://www.w3.org/2000/svg\" height=\"24px\"viewBox=\"0 0 24 24\"\n",
              "     width=\"24px\">\n",
              "    <g>\n",
              "        <path d=\"M19 3H5c-1.1 0-2 .9-2 2v14c0 1.1.9 2 2 2h14c1.1 0 2-.9 2-2V5c0-1.1-.9-2-2-2zM9 17H7v-7h2v7zm4 0h-2V7h2v10zm4 0h-2v-4h2v4z\"/>\n",
              "    </g>\n",
              "</svg>\n",
              "  </button>\n",
              "\n",
              "<style>\n",
              "  .colab-df-quickchart {\n",
              "      --bg-color: #E8F0FE;\n",
              "      --fill-color: #1967D2;\n",
              "      --hover-bg-color: #E2EBFA;\n",
              "      --hover-fill-color: #174EA6;\n",
              "      --disabled-fill-color: #AAA;\n",
              "      --disabled-bg-color: #DDD;\n",
              "  }\n",
              "\n",
              "  [theme=dark] .colab-df-quickchart {\n",
              "      --bg-color: #3B4455;\n",
              "      --fill-color: #D2E3FC;\n",
              "      --hover-bg-color: #434B5C;\n",
              "      --hover-fill-color: #FFFFFF;\n",
              "      --disabled-bg-color: #3B4455;\n",
              "      --disabled-fill-color: #666;\n",
              "  }\n",
              "\n",
              "  .colab-df-quickchart {\n",
              "    background-color: var(--bg-color);\n",
              "    border: none;\n",
              "    border-radius: 50%;\n",
              "    cursor: pointer;\n",
              "    display: none;\n",
              "    fill: var(--fill-color);\n",
              "    height: 32px;\n",
              "    padding: 0;\n",
              "    width: 32px;\n",
              "  }\n",
              "\n",
              "  .colab-df-quickchart:hover {\n",
              "    background-color: var(--hover-bg-color);\n",
              "    box-shadow: 0 1px 2px rgba(60, 64, 67, 0.3), 0 1px 3px 1px rgba(60, 64, 67, 0.15);\n",
              "    fill: var(--button-hover-fill-color);\n",
              "  }\n",
              "\n",
              "  .colab-df-quickchart-complete:disabled,\n",
              "  .colab-df-quickchart-complete:disabled:hover {\n",
              "    background-color: var(--disabled-bg-color);\n",
              "    fill: var(--disabled-fill-color);\n",
              "    box-shadow: none;\n",
              "  }\n",
              "\n",
              "  .colab-df-spinner {\n",
              "    border: 2px solid var(--fill-color);\n",
              "    border-color: transparent;\n",
              "    border-bottom-color: var(--fill-color);\n",
              "    animation:\n",
              "      spin 1s steps(1) infinite;\n",
              "  }\n",
              "\n",
              "  @keyframes spin {\n",
              "    0% {\n",
              "      border-color: transparent;\n",
              "      border-bottom-color: var(--fill-color);\n",
              "      border-left-color: var(--fill-color);\n",
              "    }\n",
              "    20% {\n",
              "      border-color: transparent;\n",
              "      border-left-color: var(--fill-color);\n",
              "      border-top-color: var(--fill-color);\n",
              "    }\n",
              "    30% {\n",
              "      border-color: transparent;\n",
              "      border-left-color: var(--fill-color);\n",
              "      border-top-color: var(--fill-color);\n",
              "      border-right-color: var(--fill-color);\n",
              "    }\n",
              "    40% {\n",
              "      border-color: transparent;\n",
              "      border-right-color: var(--fill-color);\n",
              "      border-top-color: var(--fill-color);\n",
              "    }\n",
              "    60% {\n",
              "      border-color: transparent;\n",
              "      border-right-color: var(--fill-color);\n",
              "    }\n",
              "    80% {\n",
              "      border-color: transparent;\n",
              "      border-right-color: var(--fill-color);\n",
              "      border-bottom-color: var(--fill-color);\n",
              "    }\n",
              "    90% {\n",
              "      border-color: transparent;\n",
              "      border-bottom-color: var(--fill-color);\n",
              "    }\n",
              "  }\n",
              "</style>\n",
              "\n",
              "  <script>\n",
              "    async function quickchart(key) {\n",
              "      const quickchartButtonEl =\n",
              "        document.querySelector('#' + key + ' button');\n",
              "      quickchartButtonEl.disabled = true;  // To prevent multiple clicks.\n",
              "      quickchartButtonEl.classList.add('colab-df-spinner');\n",
              "      try {\n",
              "        const charts = await google.colab.kernel.invokeFunction(\n",
              "            'suggestCharts', [key], {});\n",
              "      } catch (error) {\n",
              "        console.error('Error during call to suggestCharts:', error);\n",
              "      }\n",
              "      quickchartButtonEl.classList.remove('colab-df-spinner');\n",
              "      quickchartButtonEl.classList.add('colab-df-quickchart-complete');\n",
              "    }\n",
              "    (() => {\n",
              "      let quickchartButtonEl =\n",
              "        document.querySelector('#df-1c1f5937-a113-4a61-a1ee-557775ce1751 button');\n",
              "      quickchartButtonEl.style.display =\n",
              "        google.colab.kernel.accessAllowed ? 'block' : 'none';\n",
              "    })();\n",
              "  </script>\n",
              "</div>\n",
              "\n",
              "  <div id=\"id_446264b1-eb9c-42d5-9e12-448b1f64cab5\">\n",
              "    <style>\n",
              "      .colab-df-generate {\n",
              "        background-color: #E8F0FE;\n",
              "        border: none;\n",
              "        border-radius: 50%;\n",
              "        cursor: pointer;\n",
              "        display: none;\n",
              "        fill: #1967D2;\n",
              "        height: 32px;\n",
              "        padding: 0 0 0 0;\n",
              "        width: 32px;\n",
              "      }\n",
              "\n",
              "      .colab-df-generate:hover {\n",
              "        background-color: #E2EBFA;\n",
              "        box-shadow: 0px 1px 2px rgba(60, 64, 67, 0.3), 0px 1px 3px 1px rgba(60, 64, 67, 0.15);\n",
              "        fill: #174EA6;\n",
              "      }\n",
              "\n",
              "      [theme=dark] .colab-df-generate {\n",
              "        background-color: #3B4455;\n",
              "        fill: #D2E3FC;\n",
              "      }\n",
              "\n",
              "      [theme=dark] .colab-df-generate:hover {\n",
              "        background-color: #434B5C;\n",
              "        box-shadow: 0px 1px 3px 1px rgba(0, 0, 0, 0.15);\n",
              "        filter: drop-shadow(0px 1px 2px rgba(0, 0, 0, 0.3));\n",
              "        fill: #FFFFFF;\n",
              "      }\n",
              "    </style>\n",
              "    <button class=\"colab-df-generate\" onclick=\"generateWithVariable('df')\"\n",
              "            title=\"Generate code using this dataframe.\"\n",
              "            style=\"display:none;\">\n",
              "\n",
              "  <svg xmlns=\"http://www.w3.org/2000/svg\" height=\"24px\"viewBox=\"0 0 24 24\"\n",
              "       width=\"24px\">\n",
              "    <path d=\"M7,19H8.4L18.45,9,17,7.55,7,17.6ZM5,21V16.75L18.45,3.32a2,2,0,0,1,2.83,0l1.4,1.43a1.91,1.91,0,0,1,.58,1.4,1.91,1.91,0,0,1-.58,1.4L9.25,21ZM18.45,9,17,7.55Zm-12,3A5.31,5.31,0,0,0,4.9,8.1,5.31,5.31,0,0,0,1,6.5,5.31,5.31,0,0,0,4.9,4.9,5.31,5.31,0,0,0,6.5,1,5.31,5.31,0,0,0,8.1,4.9,5.31,5.31,0,0,0,12,6.5,5.46,5.46,0,0,0,6.5,12Z\"/>\n",
              "  </svg>\n",
              "    </button>\n",
              "    <script>\n",
              "      (() => {\n",
              "      const buttonEl =\n",
              "        document.querySelector('#id_446264b1-eb9c-42d5-9e12-448b1f64cab5 button.colab-df-generate');\n",
              "      buttonEl.style.display =\n",
              "        google.colab.kernel.accessAllowed ? 'block' : 'none';\n",
              "\n",
              "      buttonEl.onclick = () => {\n",
              "        google.colab.notebook.generateWithVariable('df');\n",
              "      }\n",
              "      })();\n",
              "    </script>\n",
              "  </div>\n",
              "\n",
              "    </div>\n",
              "  </div>\n"
            ],
            "application/vnd.google.colaboratory.intrinsic+json": {
              "type": "dataframe",
              "variable_name": "df",
              "summary": "{\n  \"name\": \"df\",\n  \"rows\": 12,\n  \"fields\": [\n    {\n      \"column\": \"Track Names\",\n      \"properties\": {\n        \"dtype\": \"string\",\n        \"num_unique_values\": 12,\n        \"samples\": [\n          \"How\",\n          \"I Will Always\",\n          \"I Still Do\"\n        ],\n        \"semantic_type\": \"\",\n        \"description\": \"\"\n      }\n    }\n  ]\n}"
            }
          },
          "metadata": {},
          "execution_count": 10
        }
      ],
      "source": [
        "df = pd.DataFrame({'Track Names': track_names})\n",
        "df.to_csv('track_names.csv', index=False)\n",
        "df"
      ]
    },
    {
      "cell_type": "markdown",
      "source": [
        "## We enter the file that we want to save the svc files to"
      ],
      "metadata": {
        "id": "c_Fm5lFOXYOh"
      }
    },
    {
      "cell_type": "code",
      "source": [
        "%cd /content/drive/MyDrive/CS4990GroupProject/CSV_files\n",
        "!pwd"
      ],
      "metadata": {
        "colab": {
          "base_uri": "https://localhost:8080/"
        },
        "id": "8bQvxu3MXDbk",
        "outputId": "de086e3b-ced7-400a-83bb-fa5a26deea7c"
      },
      "execution_count": 11,
      "outputs": [
        {
          "output_type": "stream",
          "name": "stdout",
          "text": [
            "/content/drive/.shortcut-targets-by-id/1hLEMmjmhbJwf5855ZTdx4nTzxGUxkruH/CS4990GroupProject/CSV_files\n",
            "/content/drive/.shortcut-targets-by-id/1hLEMmjmhbJwf5855ZTdx4nTzxGUxkruH/CS4990GroupProject/CSV_files\n"
          ]
        }
      ]
    },
    {
      "cell_type": "markdown",
      "source": [
        "# Now we use all the tools we learn above to queary an artist and retrieve all their information\n",
        "- We query the artist\n",
        "- Scrape their information\n",
        "- Scrape their albums\n",
        "- Scrape each song in their discography\n",
        "- Use panda to save them in CSV files\n",
        "- Lastly we save them in our drive"
      ],
      "metadata": {
        "id": "AHesw18KIrAJ"
      }
    },
    {
      "cell_type": "code",
      "source": [
        "# Artist information\n",
        "artist_name = input(\"Enter an artist name: \")\n",
        "result = sp.search(q=artist_name, limit=1, type='artist')\n",
        "artist = result['artists']['items'][0]\n",
        "\n",
        "artist_info = {\n",
        "    'name': artist['name'],\n",
        "    'id': artist['id'],\n",
        "    'popularity': artist['popularity'],\n",
        "    'genres': artist['genres'],\n",
        "    'followers': artist['followers']['total']\n",
        "}\n",
        "\n",
        "# Album and track information with audio features\n",
        "albums = sp.artist_albums(artist['id'], album_type='album')\n",
        "all_tracks = []\n",
        "\n",
        "for album in albums['items']:\n",
        "    album_info = {\n",
        "        'album_name': album['name'],\n",
        "        'album_id': album['id'],\n",
        "        'release_date': album['release_date'],\n",
        "        'total_tracks': album['total_tracks']\n",
        "    }\n",
        "\n",
        "    tracks = sp.album_tracks(album['id'])\n",
        "    for track in tracks['items']:\n",
        "        track_info = {\n",
        "            'track_name': track['name'],\n",
        "            'track_id': track['id'],\n",
        "            'duration_min': track['duration_ms'] / 60000\n",
        "        }\n",
        "        try:\n",
        "            track_info['popularity'] = track['popularity']\n",
        "        except KeyError:\n",
        "            track_info['popularity'] = None\n",
        "\n",
        "        # Get audio features\n",
        "        audio_features = sp.audio_features(track['id'])[0]\n",
        "        if audio_features:\n",
        "            track_info.update(audio_features)\n",
        "\n",
        "        all_tracks.append({**album_info, **track_info})\n",
        "\n",
        "# Create DataFrames\n",
        "artist_df = pd.DataFrame([artist_info])\n",
        "tracks_df = pd.DataFrame(all_tracks)\n",
        "\n",
        "# Save to CSV\n",
        "artist_df.to_csv(f'{artist_name}_artist_info.csv', index=False)\n",
        "tracks_df.to_csv(f'{artist_name}_tracks_info.csv', index=False)"
      ],
      "metadata": {
        "colab": {
          "base_uri": "https://localhost:8080/"
        },
        "id": "st-hY1ls0xc_",
        "outputId": "637772d1-9e3e-4fcf-e3f5-5db3b01e755e"
      },
      "execution_count": 12,
      "outputs": [
        {
          "name": "stdout",
          "output_type": "stream",
          "text": [
            "Enter an artist name: Backstreet Boys\n"
          ]
        }
      ]
    },
    {
      "cell_type": "markdown",
      "source": [
        "## Here is to concatenate the CSV files"
      ],
      "metadata": {
        "id": "NtNNxO-JI64B"
      }
    },
    {
      "cell_type": "code",
      "source": [
        "# df1 = pd.read_csv('Oasis_tracks_info.csv')\n",
        "# df2 = pd.read_csv('cranberries_tracks_info.csv')\n",
        "\n",
        "df1 = pd.read_csv('Backstreet Boys_tracks_info.csv')\n",
        "df2 = pd.read_csv('*NSYNC_tracks_info.csv')\n",
        "\n",
        "combined_df = pd.concat([df1, df2]) # add more DataFrames to the list if needed\n",
        "combined_df.to_csv('combined_tracks_info.csv', index=False)"
      ],
      "metadata": {
        "id": "DgdiD8WC6YeL"
      },
      "execution_count": 13,
      "outputs": []
    },
    {
      "cell_type": "code",
      "source": [
        "combined_df.head()"
      ],
      "metadata": {
        "id": "OryJ1sSkK7t-",
        "outputId": "a650a84e-bb4f-481f-a726-96ee463bf507",
        "colab": {
          "base_uri": "https://localhost:8080/",
          "height": 446
        }
      },
      "execution_count": 14,
      "outputs": [
        {
          "output_type": "execute_result",
          "data": {
            "text/plain": [
              "                    album_name                album_id release_date  \\\n",
              "0  A Very Backstreet Christmas  0DmM20iJ1NjdQSxGs6kCGt   2022-10-14   \n",
              "1  A Very Backstreet Christmas  0DmM20iJ1NjdQSxGs6kCGt   2022-10-14   \n",
              "2  A Very Backstreet Christmas  0DmM20iJ1NjdQSxGs6kCGt   2022-10-14   \n",
              "3  A Very Backstreet Christmas  0DmM20iJ1NjdQSxGs6kCGt   2022-10-14   \n",
              "4  A Very Backstreet Christmas  0DmM20iJ1NjdQSxGs6kCGt   2022-10-14   \n",
              "\n",
              "   total_tracks                              track_name  \\\n",
              "0            13                         White Christmas   \n",
              "1            13                      The Christmas Song   \n",
              "2            13                       Winter Wonderland   \n",
              "3            13  Have Yourself A Merry Little Christmas   \n",
              "4            13                          Last Christmas   \n",
              "\n",
              "                 track_id  duration_min  popularity  danceability  energy  \\\n",
              "0  4bFPVxyEZSh3kY59DYQK2E      2.750000         NaN         0.601   0.647   \n",
              "1  6FVpqckXY1Fy7uUG7FWoS7      3.687383         NaN         0.511   0.633   \n",
              "2  7ecfZxGVN2PphzwOLd4GSQ      1.675800         NaN         0.591   0.426   \n",
              "3  64lfXz9wH5sFTGypE1aPiM      3.507783         NaN         0.366   0.458   \n",
              "4  3Zzvc5u4V0jC6vwHroHKcJ      3.776400         NaN         0.681   0.815   \n",
              "\n",
              "   ...  liveness  valence    tempo            type                      id  \\\n",
              "0  ...     0.154    0.717  128.019  audio_features  4bFPVxyEZSh3kY59DYQK2E   \n",
              "1  ...     0.106    0.296  118.368  audio_features  6FVpqckXY1Fy7uUG7FWoS7   \n",
              "2  ...     0.124    0.758   74.874  audio_features  7ecfZxGVN2PphzwOLd4GSQ   \n",
              "3  ...     0.277    0.239   76.710  audio_features  64lfXz9wH5sFTGypE1aPiM   \n",
              "4  ...     0.130    0.253  112.005  audio_features  3Zzvc5u4V0jC6vwHroHKcJ   \n",
              "\n",
              "                                    uri  \\\n",
              "0  spotify:track:4bFPVxyEZSh3kY59DYQK2E   \n",
              "1  spotify:track:6FVpqckXY1Fy7uUG7FWoS7   \n",
              "2  spotify:track:7ecfZxGVN2PphzwOLd4GSQ   \n",
              "3  spotify:track:64lfXz9wH5sFTGypE1aPiM   \n",
              "4  spotify:track:3Zzvc5u4V0jC6vwHroHKcJ   \n",
              "\n",
              "                                          track_href  \\\n",
              "0  https://api.spotify.com/v1/tracks/4bFPVxyEZSh3...   \n",
              "1  https://api.spotify.com/v1/tracks/6FVpqckXY1Fy...   \n",
              "2  https://api.spotify.com/v1/tracks/7ecfZxGVN2Pp...   \n",
              "3  https://api.spotify.com/v1/tracks/64lfXz9wH5sF...   \n",
              "4  https://api.spotify.com/v1/tracks/3Zzvc5u4V0jC...   \n",
              "\n",
              "                                        analysis_url  duration_ms  \\\n",
              "0  https://api.spotify.com/v1/audio-analysis/4bFP...       165000   \n",
              "1  https://api.spotify.com/v1/audio-analysis/6FVp...       221243   \n",
              "2  https://api.spotify.com/v1/audio-analysis/7ecf...       100548   \n",
              "3  https://api.spotify.com/v1/audio-analysis/64lf...       210467   \n",
              "4  https://api.spotify.com/v1/audio-analysis/3Zzv...       226585   \n",
              "\n",
              "  time_signature  \n",
              "0              4  \n",
              "1              4  \n",
              "2              4  \n",
              "3              4  \n",
              "4              4  \n",
              "\n",
              "[5 rows x 26 columns]"
            ],
            "text/html": [
              "\n",
              "  <div id=\"df-93f42055-48ff-4a0a-a496-8abca7a5e2fb\" class=\"colab-df-container\">\n",
              "    <div>\n",
              "<style scoped>\n",
              "    .dataframe tbody tr th:only-of-type {\n",
              "        vertical-align: middle;\n",
              "    }\n",
              "\n",
              "    .dataframe tbody tr th {\n",
              "        vertical-align: top;\n",
              "    }\n",
              "\n",
              "    .dataframe thead th {\n",
              "        text-align: right;\n",
              "    }\n",
              "</style>\n",
              "<table border=\"1\" class=\"dataframe\">\n",
              "  <thead>\n",
              "    <tr style=\"text-align: right;\">\n",
              "      <th></th>\n",
              "      <th>album_name</th>\n",
              "      <th>album_id</th>\n",
              "      <th>release_date</th>\n",
              "      <th>total_tracks</th>\n",
              "      <th>track_name</th>\n",
              "      <th>track_id</th>\n",
              "      <th>duration_min</th>\n",
              "      <th>popularity</th>\n",
              "      <th>danceability</th>\n",
              "      <th>energy</th>\n",
              "      <th>...</th>\n",
              "      <th>liveness</th>\n",
              "      <th>valence</th>\n",
              "      <th>tempo</th>\n",
              "      <th>type</th>\n",
              "      <th>id</th>\n",
              "      <th>uri</th>\n",
              "      <th>track_href</th>\n",
              "      <th>analysis_url</th>\n",
              "      <th>duration_ms</th>\n",
              "      <th>time_signature</th>\n",
              "    </tr>\n",
              "  </thead>\n",
              "  <tbody>\n",
              "    <tr>\n",
              "      <th>0</th>\n",
              "      <td>A Very Backstreet Christmas</td>\n",
              "      <td>0DmM20iJ1NjdQSxGs6kCGt</td>\n",
              "      <td>2022-10-14</td>\n",
              "      <td>13</td>\n",
              "      <td>White Christmas</td>\n",
              "      <td>4bFPVxyEZSh3kY59DYQK2E</td>\n",
              "      <td>2.750000</td>\n",
              "      <td>NaN</td>\n",
              "      <td>0.601</td>\n",
              "      <td>0.647</td>\n",
              "      <td>...</td>\n",
              "      <td>0.154</td>\n",
              "      <td>0.717</td>\n",
              "      <td>128.019</td>\n",
              "      <td>audio_features</td>\n",
              "      <td>4bFPVxyEZSh3kY59DYQK2E</td>\n",
              "      <td>spotify:track:4bFPVxyEZSh3kY59DYQK2E</td>\n",
              "      <td>https://api.spotify.com/v1/tracks/4bFPVxyEZSh3...</td>\n",
              "      <td>https://api.spotify.com/v1/audio-analysis/4bFP...</td>\n",
              "      <td>165000</td>\n",
              "      <td>4</td>\n",
              "    </tr>\n",
              "    <tr>\n",
              "      <th>1</th>\n",
              "      <td>A Very Backstreet Christmas</td>\n",
              "      <td>0DmM20iJ1NjdQSxGs6kCGt</td>\n",
              "      <td>2022-10-14</td>\n",
              "      <td>13</td>\n",
              "      <td>The Christmas Song</td>\n",
              "      <td>6FVpqckXY1Fy7uUG7FWoS7</td>\n",
              "      <td>3.687383</td>\n",
              "      <td>NaN</td>\n",
              "      <td>0.511</td>\n",
              "      <td>0.633</td>\n",
              "      <td>...</td>\n",
              "      <td>0.106</td>\n",
              "      <td>0.296</td>\n",
              "      <td>118.368</td>\n",
              "      <td>audio_features</td>\n",
              "      <td>6FVpqckXY1Fy7uUG7FWoS7</td>\n",
              "      <td>spotify:track:6FVpqckXY1Fy7uUG7FWoS7</td>\n",
              "      <td>https://api.spotify.com/v1/tracks/6FVpqckXY1Fy...</td>\n",
              "      <td>https://api.spotify.com/v1/audio-analysis/6FVp...</td>\n",
              "      <td>221243</td>\n",
              "      <td>4</td>\n",
              "    </tr>\n",
              "    <tr>\n",
              "      <th>2</th>\n",
              "      <td>A Very Backstreet Christmas</td>\n",
              "      <td>0DmM20iJ1NjdQSxGs6kCGt</td>\n",
              "      <td>2022-10-14</td>\n",
              "      <td>13</td>\n",
              "      <td>Winter Wonderland</td>\n",
              "      <td>7ecfZxGVN2PphzwOLd4GSQ</td>\n",
              "      <td>1.675800</td>\n",
              "      <td>NaN</td>\n",
              "      <td>0.591</td>\n",
              "      <td>0.426</td>\n",
              "      <td>...</td>\n",
              "      <td>0.124</td>\n",
              "      <td>0.758</td>\n",
              "      <td>74.874</td>\n",
              "      <td>audio_features</td>\n",
              "      <td>7ecfZxGVN2PphzwOLd4GSQ</td>\n",
              "      <td>spotify:track:7ecfZxGVN2PphzwOLd4GSQ</td>\n",
              "      <td>https://api.spotify.com/v1/tracks/7ecfZxGVN2Pp...</td>\n",
              "      <td>https://api.spotify.com/v1/audio-analysis/7ecf...</td>\n",
              "      <td>100548</td>\n",
              "      <td>4</td>\n",
              "    </tr>\n",
              "    <tr>\n",
              "      <th>3</th>\n",
              "      <td>A Very Backstreet Christmas</td>\n",
              "      <td>0DmM20iJ1NjdQSxGs6kCGt</td>\n",
              "      <td>2022-10-14</td>\n",
              "      <td>13</td>\n",
              "      <td>Have Yourself A Merry Little Christmas</td>\n",
              "      <td>64lfXz9wH5sFTGypE1aPiM</td>\n",
              "      <td>3.507783</td>\n",
              "      <td>NaN</td>\n",
              "      <td>0.366</td>\n",
              "      <td>0.458</td>\n",
              "      <td>...</td>\n",
              "      <td>0.277</td>\n",
              "      <td>0.239</td>\n",
              "      <td>76.710</td>\n",
              "      <td>audio_features</td>\n",
              "      <td>64lfXz9wH5sFTGypE1aPiM</td>\n",
              "      <td>spotify:track:64lfXz9wH5sFTGypE1aPiM</td>\n",
              "      <td>https://api.spotify.com/v1/tracks/64lfXz9wH5sF...</td>\n",
              "      <td>https://api.spotify.com/v1/audio-analysis/64lf...</td>\n",
              "      <td>210467</td>\n",
              "      <td>4</td>\n",
              "    </tr>\n",
              "    <tr>\n",
              "      <th>4</th>\n",
              "      <td>A Very Backstreet Christmas</td>\n",
              "      <td>0DmM20iJ1NjdQSxGs6kCGt</td>\n",
              "      <td>2022-10-14</td>\n",
              "      <td>13</td>\n",
              "      <td>Last Christmas</td>\n",
              "      <td>3Zzvc5u4V0jC6vwHroHKcJ</td>\n",
              "      <td>3.776400</td>\n",
              "      <td>NaN</td>\n",
              "      <td>0.681</td>\n",
              "      <td>0.815</td>\n",
              "      <td>...</td>\n",
              "      <td>0.130</td>\n",
              "      <td>0.253</td>\n",
              "      <td>112.005</td>\n",
              "      <td>audio_features</td>\n",
              "      <td>3Zzvc5u4V0jC6vwHroHKcJ</td>\n",
              "      <td>spotify:track:3Zzvc5u4V0jC6vwHroHKcJ</td>\n",
              "      <td>https://api.spotify.com/v1/tracks/3Zzvc5u4V0jC...</td>\n",
              "      <td>https://api.spotify.com/v1/audio-analysis/3Zzv...</td>\n",
              "      <td>226585</td>\n",
              "      <td>4</td>\n",
              "    </tr>\n",
              "  </tbody>\n",
              "</table>\n",
              "<p>5 rows × 26 columns</p>\n",
              "</div>\n",
              "    <div class=\"colab-df-buttons\">\n",
              "\n",
              "  <div class=\"colab-df-container\">\n",
              "    <button class=\"colab-df-convert\" onclick=\"convertToInteractive('df-93f42055-48ff-4a0a-a496-8abca7a5e2fb')\"\n",
              "            title=\"Convert this dataframe to an interactive table.\"\n",
              "            style=\"display:none;\">\n",
              "\n",
              "  <svg xmlns=\"http://www.w3.org/2000/svg\" height=\"24px\" viewBox=\"0 -960 960 960\">\n",
              "    <path d=\"M120-120v-720h720v720H120Zm60-500h600v-160H180v160Zm220 220h160v-160H400v160Zm0 220h160v-160H400v160ZM180-400h160v-160H180v160Zm440 0h160v-160H620v160ZM180-180h160v-160H180v160Zm440 0h160v-160H620v160Z\"/>\n",
              "  </svg>\n",
              "    </button>\n",
              "\n",
              "  <style>\n",
              "    .colab-df-container {\n",
              "      display:flex;\n",
              "      gap: 12px;\n",
              "    }\n",
              "\n",
              "    .colab-df-convert {\n",
              "      background-color: #E8F0FE;\n",
              "      border: none;\n",
              "      border-radius: 50%;\n",
              "      cursor: pointer;\n",
              "      display: none;\n",
              "      fill: #1967D2;\n",
              "      height: 32px;\n",
              "      padding: 0 0 0 0;\n",
              "      width: 32px;\n",
              "    }\n",
              "\n",
              "    .colab-df-convert:hover {\n",
              "      background-color: #E2EBFA;\n",
              "      box-shadow: 0px 1px 2px rgba(60, 64, 67, 0.3), 0px 1px 3px 1px rgba(60, 64, 67, 0.15);\n",
              "      fill: #174EA6;\n",
              "    }\n",
              "\n",
              "    .colab-df-buttons div {\n",
              "      margin-bottom: 4px;\n",
              "    }\n",
              "\n",
              "    [theme=dark] .colab-df-convert {\n",
              "      background-color: #3B4455;\n",
              "      fill: #D2E3FC;\n",
              "    }\n",
              "\n",
              "    [theme=dark] .colab-df-convert:hover {\n",
              "      background-color: #434B5C;\n",
              "      box-shadow: 0px 1px 3px 1px rgba(0, 0, 0, 0.15);\n",
              "      filter: drop-shadow(0px 1px 2px rgba(0, 0, 0, 0.3));\n",
              "      fill: #FFFFFF;\n",
              "    }\n",
              "  </style>\n",
              "\n",
              "    <script>\n",
              "      const buttonEl =\n",
              "        document.querySelector('#df-93f42055-48ff-4a0a-a496-8abca7a5e2fb button.colab-df-convert');\n",
              "      buttonEl.style.display =\n",
              "        google.colab.kernel.accessAllowed ? 'block' : 'none';\n",
              "\n",
              "      async function convertToInteractive(key) {\n",
              "        const element = document.querySelector('#df-93f42055-48ff-4a0a-a496-8abca7a5e2fb');\n",
              "        const dataTable =\n",
              "          await google.colab.kernel.invokeFunction('convertToInteractive',\n",
              "                                                    [key], {});\n",
              "        if (!dataTable) return;\n",
              "\n",
              "        const docLinkHtml = 'Like what you see? Visit the ' +\n",
              "          '<a target=\"_blank\" href=https://colab.research.google.com/notebooks/data_table.ipynb>data table notebook</a>'\n",
              "          + ' to learn more about interactive tables.';\n",
              "        element.innerHTML = '';\n",
              "        dataTable['output_type'] = 'display_data';\n",
              "        await google.colab.output.renderOutput(dataTable, element);\n",
              "        const docLink = document.createElement('div');\n",
              "        docLink.innerHTML = docLinkHtml;\n",
              "        element.appendChild(docLink);\n",
              "      }\n",
              "    </script>\n",
              "  </div>\n",
              "\n",
              "\n",
              "<div id=\"df-7261dc11-7110-4f0f-b442-9da53b55272d\">\n",
              "  <button class=\"colab-df-quickchart\" onclick=\"quickchart('df-7261dc11-7110-4f0f-b442-9da53b55272d')\"\n",
              "            title=\"Suggest charts\"\n",
              "            style=\"display:none;\">\n",
              "\n",
              "<svg xmlns=\"http://www.w3.org/2000/svg\" height=\"24px\"viewBox=\"0 0 24 24\"\n",
              "     width=\"24px\">\n",
              "    <g>\n",
              "        <path d=\"M19 3H5c-1.1 0-2 .9-2 2v14c0 1.1.9 2 2 2h14c1.1 0 2-.9 2-2V5c0-1.1-.9-2-2-2zM9 17H7v-7h2v7zm4 0h-2V7h2v10zm4 0h-2v-4h2v4z\"/>\n",
              "    </g>\n",
              "</svg>\n",
              "  </button>\n",
              "\n",
              "<style>\n",
              "  .colab-df-quickchart {\n",
              "      --bg-color: #E8F0FE;\n",
              "      --fill-color: #1967D2;\n",
              "      --hover-bg-color: #E2EBFA;\n",
              "      --hover-fill-color: #174EA6;\n",
              "      --disabled-fill-color: #AAA;\n",
              "      --disabled-bg-color: #DDD;\n",
              "  }\n",
              "\n",
              "  [theme=dark] .colab-df-quickchart {\n",
              "      --bg-color: #3B4455;\n",
              "      --fill-color: #D2E3FC;\n",
              "      --hover-bg-color: #434B5C;\n",
              "      --hover-fill-color: #FFFFFF;\n",
              "      --disabled-bg-color: #3B4455;\n",
              "      --disabled-fill-color: #666;\n",
              "  }\n",
              "\n",
              "  .colab-df-quickchart {\n",
              "    background-color: var(--bg-color);\n",
              "    border: none;\n",
              "    border-radius: 50%;\n",
              "    cursor: pointer;\n",
              "    display: none;\n",
              "    fill: var(--fill-color);\n",
              "    height: 32px;\n",
              "    padding: 0;\n",
              "    width: 32px;\n",
              "  }\n",
              "\n",
              "  .colab-df-quickchart:hover {\n",
              "    background-color: var(--hover-bg-color);\n",
              "    box-shadow: 0 1px 2px rgba(60, 64, 67, 0.3), 0 1px 3px 1px rgba(60, 64, 67, 0.15);\n",
              "    fill: var(--button-hover-fill-color);\n",
              "  }\n",
              "\n",
              "  .colab-df-quickchart-complete:disabled,\n",
              "  .colab-df-quickchart-complete:disabled:hover {\n",
              "    background-color: var(--disabled-bg-color);\n",
              "    fill: var(--disabled-fill-color);\n",
              "    box-shadow: none;\n",
              "  }\n",
              "\n",
              "  .colab-df-spinner {\n",
              "    border: 2px solid var(--fill-color);\n",
              "    border-color: transparent;\n",
              "    border-bottom-color: var(--fill-color);\n",
              "    animation:\n",
              "      spin 1s steps(1) infinite;\n",
              "  }\n",
              "\n",
              "  @keyframes spin {\n",
              "    0% {\n",
              "      border-color: transparent;\n",
              "      border-bottom-color: var(--fill-color);\n",
              "      border-left-color: var(--fill-color);\n",
              "    }\n",
              "    20% {\n",
              "      border-color: transparent;\n",
              "      border-left-color: var(--fill-color);\n",
              "      border-top-color: var(--fill-color);\n",
              "    }\n",
              "    30% {\n",
              "      border-color: transparent;\n",
              "      border-left-color: var(--fill-color);\n",
              "      border-top-color: var(--fill-color);\n",
              "      border-right-color: var(--fill-color);\n",
              "    }\n",
              "    40% {\n",
              "      border-color: transparent;\n",
              "      border-right-color: var(--fill-color);\n",
              "      border-top-color: var(--fill-color);\n",
              "    }\n",
              "    60% {\n",
              "      border-color: transparent;\n",
              "      border-right-color: var(--fill-color);\n",
              "    }\n",
              "    80% {\n",
              "      border-color: transparent;\n",
              "      border-right-color: var(--fill-color);\n",
              "      border-bottom-color: var(--fill-color);\n",
              "    }\n",
              "    90% {\n",
              "      border-color: transparent;\n",
              "      border-bottom-color: var(--fill-color);\n",
              "    }\n",
              "  }\n",
              "</style>\n",
              "\n",
              "  <script>\n",
              "    async function quickchart(key) {\n",
              "      const quickchartButtonEl =\n",
              "        document.querySelector('#' + key + ' button');\n",
              "      quickchartButtonEl.disabled = true;  // To prevent multiple clicks.\n",
              "      quickchartButtonEl.classList.add('colab-df-spinner');\n",
              "      try {\n",
              "        const charts = await google.colab.kernel.invokeFunction(\n",
              "            'suggestCharts', [key], {});\n",
              "      } catch (error) {\n",
              "        console.error('Error during call to suggestCharts:', error);\n",
              "      }\n",
              "      quickchartButtonEl.classList.remove('colab-df-spinner');\n",
              "      quickchartButtonEl.classList.add('colab-df-quickchart-complete');\n",
              "    }\n",
              "    (() => {\n",
              "      let quickchartButtonEl =\n",
              "        document.querySelector('#df-7261dc11-7110-4f0f-b442-9da53b55272d button');\n",
              "      quickchartButtonEl.style.display =\n",
              "        google.colab.kernel.accessAllowed ? 'block' : 'none';\n",
              "    })();\n",
              "  </script>\n",
              "</div>\n",
              "\n",
              "    </div>\n",
              "  </div>\n"
            ],
            "application/vnd.google.colaboratory.intrinsic+json": {
              "type": "dataframe",
              "variable_name": "combined_df"
            }
          },
          "metadata": {},
          "execution_count": 14
        }
      ]
    },
    {
      "cell_type": "markdown",
      "source": [
        "# Identify which features have the strongest relationship with 'danceability'"
      ],
      "metadata": {
        "id": "0j6xoGsw7tiC"
      }
    },
    {
      "cell_type": "code",
      "source": [
        "import seaborn as sns\n",
        "import matplotlib.pyplot as plt\n",
        "\n",
        "# calculate correlations only for the features against danceability\n",
        "feature_columns = ['energy', 'tempo', 'valence', 'loudness']  # list of features\n",
        "df_corr = combined_df[feature_columns + ['danceability']].corr()\n",
        "\n",
        "# Plot the heatmap to see the correlations\n",
        "sns.heatmap(df_corr, annot=True, cmap='coolwarm')\n",
        "plt.title('Correlation Matrix: Features vs Danceability')\n",
        "plt.show()"
      ],
      "metadata": {
        "id": "5w8u00oT7jQf",
        "outputId": "13bee35e-1696-47bd-fe80-151ae293fe0b",
        "colab": {
          "base_uri": "https://localhost:8080/",
          "height": 452
        }
      },
      "execution_count": 16,
      "outputs": [
        {
          "output_type": "display_data",
          "data": {
            "text/plain": [
              "<Figure size 640x480 with 2 Axes>"
            ],
            "image/png": "[encoded data removed]"
          },
          "metadata": {}
        }
      ]
    }
  ],
  "metadata": {
    "colab": {
      "provenance": [],
      "include_colab_link": true
    },
    "kernelspec": {
      "display_name": "Python 3",
      "name": "python3"
    },
    "language_info": {
      "name": "python"
    }
  },
  "nbformat": 4,
  "nbformat_minor": 0
}
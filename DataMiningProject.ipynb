{
  "cells": [
    {
      "cell_type": "markdown",
      "metadata": {
        "id": "view-in-github",
        "colab_type": "text"
      },
      "source": [
        "<a href=\"https://colab.research.google.com/github/richirey75/Data-Mining-CS4990/blob/erika/DataMiningProject.ipynb\" target=\"_parent\"><img src=\"https://colab.research.google.com/assets/colab-badge.svg\" alt=\"Open In Colab\"/></a>"
      ]
    },
    {
      "cell_type": "markdown",
      "metadata": {
        "id": "YIe97mI8ZitR"
      },
      "source": [
        "## Mounting my drive"
      ]
    },
    {
      "cell_type": "code",
      "execution_count": 1,
      "metadata": {
        "id": "xLKF-AtAXxF4",
        "colab": {
          "base_uri": "https://localhost:8080/"
        },
        "outputId": "9bacfbb0-663e-421e-b701-b7220d1e8730"
      },
      "outputs": [
        {
          "output_type": "stream",
          "name": "stdout",
          "text": [
            "Mounted at /content/drive\n"
          ]
        }
      ],
      "source": [
        "from google.colab import drive\n",
        "\n",
        "drive.mount('/content/drive')\n"
      ]
    },
    {
      "cell_type": "markdown",
      "metadata": {
        "id": "GLaEPJlCaoFh"
      },
      "source": [
        "## To make shell commands we need the \"!\" before the command"
      ]
    },
    {
      "cell_type": "code",
      "execution_count": 2,
      "metadata": {
        "id": "_ytZ9IYEZtFr",
        "colab": {
          "base_uri": "https://localhost:8080/"
        },
        "outputId": "48014097-20da-4d5e-c8ea-e28f9f9a063c"
      },
      "outputs": [
        {
          "output_type": "stream",
          "name": "stdout",
          "text": [
            "Python 3.10.12\n"
          ]
        }
      ],
      "source": [
        "!python --version"
      ]
    },
    {
      "cell_type": "markdown",
      "metadata": {
        "id": "serx2AaBb-V7"
      },
      "source": [
        "- The % is a special command in Google Colab and Jupyter notebooks called a \"magic command\". These commands provide special functionalities.\n",
        "\n",
        "- %cd is one such magic command which is used to change the current working directory."
      ]
    },
    {
      "cell_type": "code",
      "execution_count": 4,
      "metadata": {
        "colab": {
          "base_uri": "https://localhost:8080/"
        },
        "id": "mlOkpC4ybFyA",
        "outputId": "d009a336-58aa-4a93-9ee5-ea74cf3ef393"
      },
      "outputs": [
        {
          "output_type": "stream",
          "name": "stdout",
          "text": [
            "/content/drive/.shortcut-targets-by-id/1hLEMmjmhbJwf5855ZTdx4nTzxGUxkruH/CS4990GroupProject/CSV_files\n",
            "/content/drive/.shortcut-targets-by-id/1hLEMmjmhbJwf5855ZTdx4nTzxGUxkruH/CS4990GroupProject/CSV_files\n"
          ]
        }
      ],
      "source": [
        "%cd /content/drive/MyDrive/CS4990GroupProject/CSV_files\n",
        "!pwd"
      ]
    },
    {
      "cell_type": "markdown",
      "metadata": {
        "id": "ez9LiiPNfxIs"
      },
      "source": [
        "## USEFUL SHORTSCUTS\n",
        "\n",
        "- Ctrl + M + H: Show all shortcuts\n",
        "- Ctrl + M + B: Create a new cell below\n",
        "- Ctrl + M + A: Create a new cell above\n",
        "- Ctrl + M + D: Delete the current cell\n",
        "- Ctrl + M + Y: Change cell to code\n",
        "- Ctrl + M + M: Change cell to text\n",
        "- Ctrl + Enter: Run the current cell\n",
        "- Ctrl + Shift + Enter: Run the current cell and select the below cell"
      ]
    },
    {
      "cell_type": "markdown",
      "source": [
        "## Installation of Library\n",
        "- We will using this library\n",
        "  - [spotify library](https://spotipy.readthedocs.io/en/2.24.0/)\n"
      ],
      "metadata": {
        "id": "JFjXEGoBNhfq"
      }
    },
    {
      "cell_type": "code",
      "execution_count": 5,
      "metadata": {
        "colab": {
          "base_uri": "https://localhost:8080/"
        },
        "id": "7hlQXW-egyEb",
        "outputId": "109344e0-d8ab-4e60-c2fb-344f31b5be58"
      },
      "outputs": [
        {
          "output_type": "stream",
          "name": "stdout",
          "text": [
            "Collecting spotipy\n",
            "  Downloading spotipy-2.24.0-py3-none-any.whl.metadata (4.9 kB)\n",
            "Collecting redis>=3.5.3 (from spotipy)\n",
            "  Downloading redis-5.1.0-py3-none-any.whl.metadata (9.1 kB)\n",
            "Requirement already satisfied: requests>=2.25.0 in /usr/local/lib/python3.10/dist-packages (from spotipy) (2.32.3)\n",
            "Requirement already satisfied: urllib3>=1.26.0 in /usr/local/lib/python3.10/dist-packages (from spotipy) (2.2.3)\n",
            "Requirement already satisfied: async-timeout>=4.0.3 in /usr/local/lib/python3.10/dist-packages (from redis>=3.5.3->spotipy) (4.0.3)\n",
            "Requirement already satisfied: charset-normalizer<4,>=2 in /usr/local/lib/python3.10/dist-packages (from requests>=2.25.0->spotipy) (3.3.2)\n",
            "Requirement already satisfied: idna<4,>=2.5 in /usr/local/lib/python3.10/dist-packages (from requests>=2.25.0->spotipy) (3.10)\n",
            "Requirement already satisfied: certifi>=2017.4.17 in /usr/local/lib/python3.10/dist-packages (from requests>=2.25.0->spotipy) (2024.8.30)\n",
            "Downloading spotipy-2.24.0-py3-none-any.whl (30 kB)\n",
            "Downloading redis-5.1.0-py3-none-any.whl (261 kB)\n",
            "\u001b[2K   \u001b[90m━━━━━━━━━━━━━━━━━━━━━━━━━━━━━━━━━━━━━━━━\u001b[0m \u001b[32m261.2/261.2 kB\u001b[0m \u001b[31m8.0 MB/s\u001b[0m eta \u001b[36m0:00:00\u001b[0m\n",
            "\u001b[?25hInstalling collected packages: redis, spotipy\n",
            "Successfully installed redis-5.1.0 spotipy-2.24.0\n"
          ]
        }
      ],
      "source": [
        "!pip install spotipy --upgrade"
      ]
    },
    {
      "cell_type": "markdown",
      "metadata": {
        "id": "Sp9DUBB3t21T"
      },
      "source": [
        "## We need to import our libraries we will be using for the project\n",
        "  - spotipy\n",
        "  - pandas\n",
        "  - numpy"
      ]
    },
    {
      "cell_type": "code",
      "execution_count": 6,
      "metadata": {
        "id": "w6uabVyprPpu"
      },
      "outputs": [],
      "source": [
        "import spotipy\n",
        "from spotipy.oauth2 import SpotifyClientCredentials\n",
        "\n",
        "import pandas as pd\n",
        "import numpy as np"
      ]
    },
    {
      "cell_type": "markdown",
      "metadata": {
        "id": "JB5cpesluEcJ"
      },
      "source": [
        "## This is how we will identify to the API\n",
        "- We need to first get a key from [spotify dev](https://developer.spotify.com/)\n",
        "- Will get two keys\n",
        "  - Client Id key\n",
        "  - Client Secret key\n",
        "\n",
        "- Follow by inputting our keys and autheticating"
      ]
    },
    {
      "cell_type": "code",
      "execution_count": null,
      "metadata": {
        "id": "-Ea0oXkPsokV"
      },
      "outputs": [],
      "source": [
        "client_id = input(\"Enter your client_id: \")\n",
        "client_secret = input(\"Enter your client_secret: \")\n",
        "\n",
        "auth_manager = SpotifyClientCredentials(client_id=client_id, client_secret=client_secret)\n",
        "sp = spotipy.Spotify(auth_manager=auth_manager)"
      ]
    },
    {
      "cell_type": "markdown",
      "metadata": {
        "id": "j4GszzFEwtk9"
      },
      "source": [
        "## Search function to query an artist\n",
        "- As an example we the band call \"the cramberries\"\n",
        "- This is just as if you were searching for an artists in the spotify environnement\n",
        "- We get the artist ID"
      ]
    },
    {
      "cell_type": "code",
      "execution_count": 8,
      "metadata": {
        "colab": {
          "base_uri": "https://localhost:8080/",
          "height": 35
        },
        "id": "hIya5gY7ty9t",
        "outputId": "46a36230-c55f-49a5-f43e-200f4058df3a"
      },
      "outputs": [
        {
          "output_type": "execute_result",
          "data": {
            "text/plain": [
              "'7t0rwkOPGlDPEhaOcVtOt9'"
            ],
            "application/vnd.google.colaboratory.intrinsic+json": {
              "type": "string"
            }
          },
          "metadata": {},
          "execution_count": 8
        }
      ],
      "source": [
        "results = sp.search(q='The Cranberries', limit=1, type='artist')\n",
        "artist_id = results['artists']['items'][0]['id']\n",
        "artist_id"
      ]
    },
    {
      "cell_type": "markdown",
      "metadata": {
        "id": "yoOISDh60D5h"
      },
      "source": [
        "## Here is how to retreve albums from the artist_id from above\n",
        "- We will use the artist ID to retrieve the albums from the artist page"
      ]
    },
    {
      "cell_type": "code",
      "execution_count": 9,
      "metadata": {
        "colab": {
          "base_uri": "https://localhost:8080/"
        },
        "id": "oaeqPehDvkzQ",
        "outputId": "0bae407c-282e-46f6-9062-3cd2d572aa1b"
      },
      "outputs": [
        {
          "output_type": "execute_result",
          "data": {
            "text/plain": [
              "['To The Faithful Departed (Deluxe Edition)',\n",
              " 'Remembering Dolores',\n",
              " 'No Need To Argue (Remastered 2020)',\n",
              " 'No Need To Argue (Deluxe)',\n",
              " 'In the End',\n",
              " 'Something Else',\n",
              " 'Live At the Hammersmith Apollo, London 2012',\n",
              " 'Roses',\n",
              " 'Live 2010 - Zenith Paris, 22.03.10',\n",
              " 'Bualadh Bos: The Cranberries Live',\n",
              " 'Wake Up And Smell The Coffee',\n",
              " 'Bury The Hatchet (The Complete Sessions 1998-1999)',\n",
              " 'Bury The Hatchet',\n",
              " 'To The Faithful Departed (The Complete Sessions 1996-1997)',\n",
              " 'To The Faithful Departed',\n",
              " 'No Need To Argue (The Complete Sessions 1994-1995)',\n",
              " \"Everybody Else Is Doing It, So Why Can't We? (The Complete Sessions 1991-1993)\",\n",
              " \"Everybody Else Is Doing It, So Why Can't We? (Super Deluxe)\",\n",
              " \"Everybody Else Is Doing It, So Why Can't We?\"]"
            ]
          },
          "metadata": {},
          "execution_count": 9
        }
      ],
      "source": [
        "albums = sp.artist_albums(artist_id, album_type='album')\n",
        "\n",
        "album_names = [album['name'] for album in albums['items']]\n",
        "\n",
        "album_names"
      ]
    },
    {
      "cell_type": "markdown",
      "metadata": {
        "id": "yaUfvxT_0QZk"
      },
      "source": [
        "## We can extract the songs from an album\n",
        "- Here the code gives back the album songs from the 18 position on the list above"
      ]
    },
    {
      "cell_type": "code",
      "execution_count": 10,
      "metadata": {
        "colab": {
          "base_uri": "https://localhost:8080/"
        },
        "id": "_QV_DZa5vxIr",
        "outputId": "3dd3c88f-7077-4df2-e39e-029d9b1a773c"
      },
      "outputs": [
        {
          "output_type": "execute_result",
          "data": {
            "text/plain": [
              "['I Still Do',\n",
              " 'Dreams',\n",
              " 'Sunday',\n",
              " 'Pretty',\n",
              " 'Waltzing Back',\n",
              " 'Not Sorry',\n",
              " 'Linger',\n",
              " 'Wanted',\n",
              " \"Still Can't...\",\n",
              " 'I Will Always',\n",
              " 'How',\n",
              " 'Put Me Down']"
            ]
          },
          "metadata": {},
          "execution_count": 10
        }
      ],
      "source": [
        "tracks = sp.album_tracks(albums['items'][18]['id'])\n",
        "track_names = [track['name'] for track in tracks['items']]\n",
        "\n",
        "track_names"
      ]
    },
    {
      "cell_type": "markdown",
      "source": [
        "## Using Pandas to organize\n",
        "- We can use pandas to oprganize our data into a CSV file"
      ],
      "metadata": {
        "id": "0oqWgfL2WJ31"
      }
    },
    {
      "cell_type": "code",
      "execution_count": null,
      "metadata": {
        "id": "neWLV59gxaRj",
        "colab": {
          "base_uri": "https://localhost:8080/",
          "height": 426
        },
        "outputId": "5f4a7ebd-f32a-4fc5-d3c9-d07009c8ecb6"
      },
      "outputs": [
        {
          "output_type": "execute_result",
          "data": {
            "text/plain": [
              "       Track Names\n",
              "0       I Still Do\n",
              "1           Dreams\n",
              "2           Sunday\n",
              "3           Pretty\n",
              "4    Waltzing Back\n",
              "5        Not Sorry\n",
              "6           Linger\n",
              "7           Wanted\n",
              "8   Still Can't...\n",
              "9    I Will Always\n",
              "10             How\n",
              "11     Put Me Down"
            ],
            "text/html": [
              "\n",
              "  <div id=\"df-ca1912ba-c232-4480-904f-686938131d48\" class=\"colab-df-container\">\n",
              "    <div>\n",
              "<style scoped>\n",
              "    .dataframe tbody tr th:only-of-type {\n",
              "        vertical-align: middle;\n",
              "    }\n",
              "\n",
              "    .dataframe tbody tr th {\n",
              "        vertical-align: top;\n",
              "    }\n",
              "\n",
              "    .dataframe thead th {\n",
              "        text-align: right;\n",
              "    }\n",
              "</style>\n",
              "<table border=\"1\" class=\"dataframe\">\n",
              "  <thead>\n",
              "    <tr style=\"text-align: right;\">\n",
              "      <th></th>\n",
              "      <th>Track Names</th>\n",
              "    </tr>\n",
              "  </thead>\n",
              "  <tbody>\n",
              "    <tr>\n",
              "      <th>0</th>\n",
              "      <td>I Still Do</td>\n",
              "    </tr>\n",
              "    <tr>\n",
              "      <th>1</th>\n",
              "      <td>Dreams</td>\n",
              "    </tr>\n",
              "    <tr>\n",
              "      <th>2</th>\n",
              "      <td>Sunday</td>\n",
              "    </tr>\n",
              "    <tr>\n",
              "      <th>3</th>\n",
              "      <td>Pretty</td>\n",
              "    </tr>\n",
              "    <tr>\n",
              "      <th>4</th>\n",
              "      <td>Waltzing Back</td>\n",
              "    </tr>\n",
              "    <tr>\n",
              "      <th>5</th>\n",
              "      <td>Not Sorry</td>\n",
              "    </tr>\n",
              "    <tr>\n",
              "      <th>6</th>\n",
              "      <td>Linger</td>\n",
              "    </tr>\n",
              "    <tr>\n",
              "      <th>7</th>\n",
              "      <td>Wanted</td>\n",
              "    </tr>\n",
              "    <tr>\n",
              "      <th>8</th>\n",
              "      <td>Still Can't...</td>\n",
              "    </tr>\n",
              "    <tr>\n",
              "      <th>9</th>\n",
              "      <td>I Will Always</td>\n",
              "    </tr>\n",
              "    <tr>\n",
              "      <th>10</th>\n",
              "      <td>How</td>\n",
              "    </tr>\n",
              "    <tr>\n",
              "      <th>11</th>\n",
              "      <td>Put Me Down</td>\n",
              "    </tr>\n",
              "  </tbody>\n",
              "</table>\n",
              "</div>\n",
              "    <div class=\"colab-df-buttons\">\n",
              "\n",
              "  <div class=\"colab-df-container\">\n",
              "    <button class=\"colab-df-convert\" onclick=\"convertToInteractive('df-ca1912ba-c232-4480-904f-686938131d48')\"\n",
              "            title=\"Convert this dataframe to an interactive table.\"\n",
              "            style=\"display:none;\">\n",
              "\n",
              "  <svg xmlns=\"http://www.w3.org/2000/svg\" height=\"24px\" viewBox=\"0 -960 960 960\">\n",
              "    <path d=\"M120-120v-720h720v720H120Zm60-500h600v-160H180v160Zm220 220h160v-160H400v160Zm0 220h160v-160H400v160ZM180-400h160v-160H180v160Zm440 0h160v-160H620v160ZM180-180h160v-160H180v160Zm440 0h160v-160H620v160Z\"/>\n",
              "  </svg>\n",
              "    </button>\n",
              "\n",
              "  <style>\n",
              "    .colab-df-container {\n",
              "      display:flex;\n",
              "      gap: 12px;\n",
              "    }\n",
              "\n",
              "    .colab-df-convert {\n",
              "      background-color: #E8F0FE;\n",
              "      border: none;\n",
              "      border-radius: 50%;\n",
              "      cursor: pointer;\n",
              "      display: none;\n",
              "      fill: #1967D2;\n",
              "      height: 32px;\n",
              "      padding: 0 0 0 0;\n",
              "      width: 32px;\n",
              "    }\n",
              "\n",
              "    .colab-df-convert:hover {\n",
              "      background-color: #E2EBFA;\n",
              "      box-shadow: 0px 1px 2px rgba(60, 64, 67, 0.3), 0px 1px 3px 1px rgba(60, 64, 67, 0.15);\n",
              "      fill: #174EA6;\n",
              "    }\n",
              "\n",
              "    .colab-df-buttons div {\n",
              "      margin-bottom: 4px;\n",
              "    }\n",
              "\n",
              "    [theme=dark] .colab-df-convert {\n",
              "      background-color: #3B4455;\n",
              "      fill: #D2E3FC;\n",
              "    }\n",
              "\n",
              "    [theme=dark] .colab-df-convert:hover {\n",
              "      background-color: #434B5C;\n",
              "      box-shadow: 0px 1px 3px 1px rgba(0, 0, 0, 0.15);\n",
              "      filter: drop-shadow(0px 1px 2px rgba(0, 0, 0, 0.3));\n",
              "      fill: #FFFFFF;\n",
              "    }\n",
              "  </style>\n",
              "\n",
              "    <script>\n",
              "      const buttonEl =\n",
              "        document.querySelector('#df-ca1912ba-c232-4480-904f-686938131d48 button.colab-df-convert');\n",
              "      buttonEl.style.display =\n",
              "        google.colab.kernel.accessAllowed ? 'block' : 'none';\n",
              "\n",
              "      async function convertToInteractive(key) {\n",
              "        const element = document.querySelector('#df-ca1912ba-c232-4480-904f-686938131d48');\n",
              "        const dataTable =\n",
              "          await google.colab.kernel.invokeFunction('convertToInteractive',\n",
              "                                                    [key], {});\n",
              "        if (!dataTable) return;\n",
              "\n",
              "        const docLinkHtml = 'Like what you see? Visit the ' +\n",
              "          '<a target=\"_blank\" href=https://colab.research.google.com/notebooks/data_table.ipynb>data table notebook</a>'\n",
              "          + ' to learn more about interactive tables.';\n",
              "        element.innerHTML = '';\n",
              "        dataTable['output_type'] = 'display_data';\n",
              "        await google.colab.output.renderOutput(dataTable, element);\n",
              "        const docLink = document.createElement('div');\n",
              "        docLink.innerHTML = docLinkHtml;\n",
              "        element.appendChild(docLink);\n",
              "      }\n",
              "    </script>\n",
              "  </div>\n",
              "\n",
              "\n",
              "<div id=\"df-31aed396-caa8-4797-854c-d274ea0fb635\">\n",
              "  <button class=\"colab-df-quickchart\" onclick=\"quickchart('df-31aed396-caa8-4797-854c-d274ea0fb635')\"\n",
              "            title=\"Suggest charts\"\n",
              "            style=\"display:none;\">\n",
              "\n",
              "<svg xmlns=\"http://www.w3.org/2000/svg\" height=\"24px\"viewBox=\"0 0 24 24\"\n",
              "     width=\"24px\">\n",
              "    <g>\n",
              "        <path d=\"M19 3H5c-1.1 0-2 .9-2 2v14c0 1.1.9 2 2 2h14c1.1 0 2-.9 2-2V5c0-1.1-.9-2-2-2zM9 17H7v-7h2v7zm4 0h-2V7h2v10zm4 0h-2v-4h2v4z\"/>\n",
              "    </g>\n",
              "</svg>\n",
              "  </button>\n",
              "\n",
              "<style>\n",
              "  .colab-df-quickchart {\n",
              "      --bg-color: #E8F0FE;\n",
              "      --fill-color: #1967D2;\n",
              "      --hover-bg-color: #E2EBFA;\n",
              "      --hover-fill-color: #174EA6;\n",
              "      --disabled-fill-color: #AAA;\n",
              "      --disabled-bg-color: #DDD;\n",
              "  }\n",
              "\n",
              "  [theme=dark] .colab-df-quickchart {\n",
              "      --bg-color: #3B4455;\n",
              "      --fill-color: #D2E3FC;\n",
              "      --hover-bg-color: #434B5C;\n",
              "      --hover-fill-color: #FFFFFF;\n",
              "      --disabled-bg-color: #3B4455;\n",
              "      --disabled-fill-color: #666;\n",
              "  }\n",
              "\n",
              "  .colab-df-quickchart {\n",
              "    background-color: var(--bg-color);\n",
              "    border: none;\n",
              "    border-radius: 50%;\n",
              "    cursor: pointer;\n",
              "    display: none;\n",
              "    fill: var(--fill-color);\n",
              "    height: 32px;\n",
              "    padding: 0;\n",
              "    width: 32px;\n",
              "  }\n",
              "\n",
              "  .colab-df-quickchart:hover {\n",
              "    background-color: var(--hover-bg-color);\n",
              "    box-shadow: 0 1px 2px rgba(60, 64, 67, 0.3), 0 1px 3px 1px rgba(60, 64, 67, 0.15);\n",
              "    fill: var(--button-hover-fill-color);\n",
              "  }\n",
              "\n",
              "  .colab-df-quickchart-complete:disabled,\n",
              "  .colab-df-quickchart-complete:disabled:hover {\n",
              "    background-color: var(--disabled-bg-color);\n",
              "    fill: var(--disabled-fill-color);\n",
              "    box-shadow: none;\n",
              "  }\n",
              "\n",
              "  .colab-df-spinner {\n",
              "    border: 2px solid var(--fill-color);\n",
              "    border-color: transparent;\n",
              "    border-bottom-color: var(--fill-color);\n",
              "    animation:\n",
              "      spin 1s steps(1) infinite;\n",
              "  }\n",
              "\n",
              "  @keyframes spin {\n",
              "    0% {\n",
              "      border-color: transparent;\n",
              "      border-bottom-color: var(--fill-color);\n",
              "      border-left-color: var(--fill-color);\n",
              "    }\n",
              "    20% {\n",
              "      border-color: transparent;\n",
              "      border-left-color: var(--fill-color);\n",
              "      border-top-color: var(--fill-color);\n",
              "    }\n",
              "    30% {\n",
              "      border-color: transparent;\n",
              "      border-left-color: var(--fill-color);\n",
              "      border-top-color: var(--fill-color);\n",
              "      border-right-color: var(--fill-color);\n",
              "    }\n",
              "    40% {\n",
              "      border-color: transparent;\n",
              "      border-right-color: var(--fill-color);\n",
              "      border-top-color: var(--fill-color);\n",
              "    }\n",
              "    60% {\n",
              "      border-color: transparent;\n",
              "      border-right-color: var(--fill-color);\n",
              "    }\n",
              "    80% {\n",
              "      border-color: transparent;\n",
              "      border-right-color: var(--fill-color);\n",
              "      border-bottom-color: var(--fill-color);\n",
              "    }\n",
              "    90% {\n",
              "      border-color: transparent;\n",
              "      border-bottom-color: var(--fill-color);\n",
              "    }\n",
              "  }\n",
              "</style>\n",
              "\n",
              "  <script>\n",
              "    async function quickchart(key) {\n",
              "      const quickchartButtonEl =\n",
              "        document.querySelector('#' + key + ' button');\n",
              "      quickchartButtonEl.disabled = true;  // To prevent multiple clicks.\n",
              "      quickchartButtonEl.classList.add('colab-df-spinner');\n",
              "      try {\n",
              "        const charts = await google.colab.kernel.invokeFunction(\n",
              "            'suggestCharts', [key], {});\n",
              "      } catch (error) {\n",
              "        console.error('Error during call to suggestCharts:', error);\n",
              "      }\n",
              "      quickchartButtonEl.classList.remove('colab-df-spinner');\n",
              "      quickchartButtonEl.classList.add('colab-df-quickchart-complete');\n",
              "    }\n",
              "    (() => {\n",
              "      let quickchartButtonEl =\n",
              "        document.querySelector('#df-31aed396-caa8-4797-854c-d274ea0fb635 button');\n",
              "      quickchartButtonEl.style.display =\n",
              "        google.colab.kernel.accessAllowed ? 'block' : 'none';\n",
              "    })();\n",
              "  </script>\n",
              "</div>\n",
              "\n",
              "  <div id=\"id_1bf8107e-bf02-48a6-8bc0-b0582fda5230\">\n",
              "    <style>\n",
              "      .colab-df-generate {\n",
              "        background-color: #E8F0FE;\n",
              "        border: none;\n",
              "        border-radius: 50%;\n",
              "        cursor: pointer;\n",
              "        display: none;\n",
              "        fill: #1967D2;\n",
              "        height: 32px;\n",
              "        padding: 0 0 0 0;\n",
              "        width: 32px;\n",
              "      }\n",
              "\n",
              "      .colab-df-generate:hover {\n",
              "        background-color: #E2EBFA;\n",
              "        box-shadow: 0px 1px 2px rgba(60, 64, 67, 0.3), 0px 1px 3px 1px rgba(60, 64, 67, 0.15);\n",
              "        fill: #174EA6;\n",
              "      }\n",
              "\n",
              "      [theme=dark] .colab-df-generate {\n",
              "        background-color: #3B4455;\n",
              "        fill: #D2E3FC;\n",
              "      }\n",
              "\n",
              "      [theme=dark] .colab-df-generate:hover {\n",
              "        background-color: #434B5C;\n",
              "        box-shadow: 0px 1px 3px 1px rgba(0, 0, 0, 0.15);\n",
              "        filter: drop-shadow(0px 1px 2px rgba(0, 0, 0, 0.3));\n",
              "        fill: #FFFFFF;\n",
              "      }\n",
              "    </style>\n",
              "    <button class=\"colab-df-generate\" onclick=\"generateWithVariable('df')\"\n",
              "            title=\"Generate code using this dataframe.\"\n",
              "            style=\"display:none;\">\n",
              "\n",
              "  <svg xmlns=\"http://www.w3.org/2000/svg\" height=\"24px\"viewBox=\"0 0 24 24\"\n",
              "       width=\"24px\">\n",
              "    <path d=\"M7,19H8.4L18.45,9,17,7.55,7,17.6ZM5,21V16.75L18.45,3.32a2,2,0,0,1,2.83,0l1.4,1.43a1.91,1.91,0,0,1,.58,1.4,1.91,1.91,0,0,1-.58,1.4L9.25,21ZM18.45,9,17,7.55Zm-12,3A5.31,5.31,0,0,0,4.9,8.1,5.31,5.31,0,0,0,1,6.5,5.31,5.31,0,0,0,4.9,4.9,5.31,5.31,0,0,0,6.5,1,5.31,5.31,0,0,0,8.1,4.9,5.31,5.31,0,0,0,12,6.5,5.46,5.46,0,0,0,6.5,12Z\"/>\n",
              "  </svg>\n",
              "    </button>\n",
              "    <script>\n",
              "      (() => {\n",
              "      const buttonEl =\n",
              "        document.querySelector('#id_1bf8107e-bf02-48a6-8bc0-b0582fda5230 button.colab-df-generate');\n",
              "      buttonEl.style.display =\n",
              "        google.colab.kernel.accessAllowed ? 'block' : 'none';\n",
              "\n",
              "      buttonEl.onclick = () => {\n",
              "        google.colab.notebook.generateWithVariable('df');\n",
              "      }\n",
              "      })();\n",
              "    </script>\n",
              "  </div>\n",
              "\n",
              "    </div>\n",
              "  </div>\n"
            ],
            "application/vnd.google.colaboratory.intrinsic+json": {
              "type": "dataframe",
              "variable_name": "df",
              "summary": "{\n  \"name\": \"df\",\n  \"rows\": 12,\n  \"fields\": [\n    {\n      \"column\": \"Track Names\",\n      \"properties\": {\n        \"dtype\": \"string\",\n        \"num_unique_values\": 12,\n        \"samples\": [\n          \"How\",\n          \"I Will Always\",\n          \"I Still Do\"\n        ],\n        \"semantic_type\": \"\",\n        \"description\": \"\"\n      }\n    }\n  ]\n}"
            }
          },
          "metadata": {},
          "execution_count": 12
        }
      ],
      "source": [
        "df = pd.DataFrame({'Track Names': track_names})\n",
        "df.to_csv('track_names.csv', index=False)\n",
        "df"
      ]
    },
    {
      "cell_type": "markdown",
      "source": [
        "## We enter the file that we want to save the svc files to"
      ],
      "metadata": {
        "id": "c_Fm5lFOXYOh"
      }
    },
    {
      "cell_type": "code",
      "source": [
        "%cd /content/drive/MyDrive/CS4990GroupProject/CSV_files\n",
        "!pwd"
      ],
      "metadata": {
        "colab": {
          "base_uri": "https://localhost:8080/"
        },
        "id": "8bQvxu3MXDbk",
        "outputId": "cbd81888-2490-4482-b5ab-04298511af6e"
      },
      "execution_count": null,
      "outputs": [
        {
          "output_type": "stream",
          "name": "stdout",
          "text": [
            "/content/drive/MyDrive/CS4990GroupProject/CSV_files\n",
            "/content/drive/MyDrive/CS4990GroupProject/CSV_files\n"
          ]
        }
      ]
    },
    {
      "cell_type": "markdown",
      "source": [
        "# Now we use all the tools we learn above to queary an artist and retrieve all their information\n",
        "- We query the artist\n",
        "- Scrape their information\n",
        "- Scrape their albums\n",
        "- Scrape each song in their discography\n",
        "- Use panda to save them in CSV files\n",
        "- Lastly we save them in our drive"
      ],
      "metadata": {
        "id": "AHesw18KIrAJ"
      }
    },
    {
      "cell_type": "code",
      "source": [
        "# Artist information\n",
        "artist_name = input(\"Enter an artist name: \")\n",
        "result = sp.search(q=artist_name, limit=1, type='artist')\n",
        "artist = result['artists']['items'][0]\n",
        "\n",
        "artist_info = {\n",
        "    'name': artist['name'],\n",
        "    'id': artist['id'],\n",
        "    'popularity': artist['popularity'],\n",
        "    'genres': artist['genres'],\n",
        "    'followers': artist['followers']['total']\n",
        "}\n",
        "\n",
        "# Album and track information with audio features\n",
        "albums = sp.artist_albums(artist['id'], album_type='album')\n",
        "all_tracks = []\n",
        "\n",
        "for album in albums['items']:\n",
        "    album_info = {\n",
        "        'album_name': album['name'],\n",
        "        'album_id': album['id'],\n",
        "        'release_date': album['release_date'],\n",
        "        'total_tracks': album['total_tracks']\n",
        "    }\n",
        "\n",
        "    tracks = sp.album_tracks(album['id'])\n",
        "    for track in tracks['items']:\n",
        "        track_info = {\n",
        "            'track_name': track['name'],\n",
        "            'track_id': track['id'],\n",
        "            'duration_min': track['duration_ms'] / 60000\n",
        "        }\n",
        "        try:\n",
        "            track_info['popularity'] = track['popularity']\n",
        "        except KeyError:\n",
        "            track_info['popularity'] = None\n",
        "\n",
        "        # Get audio features\n",
        "        audio_features = sp.audio_features(track['id'])[0]\n",
        "        if audio_features:\n",
        "            track_info.update(audio_features)\n",
        "\n",
        "        all_tracks.append({**album_info, **track_info})\n",
        "\n",
        "# Create DataFrames\n",
        "artist_df = pd.DataFrame([artist_info])\n",
        "tracks_df = pd.DataFrame(all_tracks)\n",
        "\n",
        "# Save to CSV\n",
        "artist_df.to_csv(f'{artist_name}_artist_info.csv', index=False)\n",
        "tracks_df.to_csv(f'{artist_name}_tracks_info.csv', index=False)"
      ],
      "metadata": {
        "colab": {
          "base_uri": "https://localhost:8080/"
        },
        "id": "st-hY1ls0xc_",
        "outputId": "c48ebe4b-c6a1-4200-a67f-90f74bffacbd"
      },
      "execution_count": null,
      "outputs": [
        {
          "name": "stdout",
          "output_type": "stream",
          "text": [
            "Enter an artist name: Oasis\n"
          ]
        }
      ]
    },
    {
      "cell_type": "markdown",
      "source": [
        "## Here is to concatenate the CSV files"
      ],
      "metadata": {
        "id": "NtNNxO-JI64B"
      }
    },
    {
      "cell_type": "code",
      "source": [
        "df1 = pd.read_csv('Oasis_tracks_info.csv')\n",
        "df2 = pd.read_csv('cranberries_tracks_info.csv')\n",
        "\n",
        "\n",
        "\n",
        "\n",
        "combined_df = pd.concat([df1, df2]) # add more DataFrames to the list if needed\n",
        "combined_df.to_csv('combined_tracks_info.csv', index=False)"
      ],
      "metadata": {
        "id": "DgdiD8WC6YeL"
      },
      "execution_count": null,
      "outputs": []
    },
    {
      "cell_type": "markdown",
      "source": [
        "## Attribute Analysis and Visualization"
      ],
      "metadata": {
        "id": "MX8PbiAfQOlX"
      }
    },
    {
      "cell_type": "markdown",
      "source": [
        "### **Danceability**\n",
        "#### **Range of Valid Values**\n",
        "The range of valid values for danceability in the sample and population is **0.0 - 1.0**. A value of 0.0 is least danceable whereas 1.0 is most danceable.\n",
        "\n",
        "#### **Distribution**\n",
        "In this sample dataset of albums and tracks of The Cranberries, the mean danceability score is 0.41. Considering that 0.5 and higher is more danceable, this suggests that The Cranberries' music is less danceable on average. The minimum danceability score was 0.07 and the max 0.68.\n",
        "\n",
        "#### **Observations**\n",
        "The data appears to be more centralized at a danceability score of 0.4-0.5, suggesting that The Cranberries' music ranges from less danceable to somewhat danceable."
      ],
      "metadata": {
        "id": "Vg8D6i6sQ4pJ"
      }
    },
    {
      "cell_type": "code",
      "source": [
        "import numpy as np\n",
        "import pandas as pd\n",
        "import matplotlib.pyplot as plt\n",
        "\n",
        "#Load the data\n",
        "df = pd.read_csv('cranberries_tracks_info.csv')\n",
        "\n",
        "#Reference danceability data\n",
        "danceability = df['danceability']\n",
        "\n",
        "#Create histogram of danceability data\n",
        "plt.hist(danceability, bins=30, color='pink', edgecolor='black')\n",
        "\n",
        "#Add labels and title\n",
        "plt.xlabel('Danceability Measure')\n",
        "plt.ylabel('Frequency')\n",
        "plt.title('Danceability Distribution of The Cranberries')\n",
        "\n",
        "#Display the plot\n",
        "plt.show()\n",
        "\n",
        "#Display summary statistics\n",
        "danceability_hist = pd.DataFrame(danceability)\n",
        "summary = danceability_hist.describe()\n",
        "print(summary)\n"
      ],
      "metadata": {
        "id": "OryJ1sSkK7t-",
        "colab": {
          "base_uri": "https://localhost:8080/",
          "height": 628
        },
        "outputId": "0495a415-7bd7-45b0-bca7-c80ee7940163"
      },
      "execution_count": 99,
      "outputs": [
        {
          "output_type": "display_data",
          "data": {
            "text/plain": [
              "<Figure size 640x480 with 1 Axes>"
            ],
            "image/png": "[encoded data removed]"
          },
          "metadata": {}
        },
        {
          "output_type": "stream",
          "name": "stdout",
          "text": [
            "       danceability\n",
            "count    379.000000\n",
            "mean       0.413357\n",
            "std        0.123105\n",
            "min        0.067400\n",
            "25%        0.323000\n",
            "50%        0.421000\n",
            "75%        0.496000\n",
            "max        0.680000\n"
          ]
        }
      ]
    },
    {
      "cell_type": "markdown",
      "source": [
        "####**Speechiness**"
      ],
      "metadata": {
        "id": "7DYc--ygdXHA"
      }
    },
    {
      "cell_type": "code",
      "source": [
        "df = pd.read_csv('Taylor Swift_tracks_info.csv')\n",
        "\n",
        "#Reference speechiness and acousticness data\n",
        "ts_energy = df['energy']\n",
        "ts_acousticness = df['loudness']\n",
        "\n",
        "#Create scatter plot of speechiness and acousticness\n",
        "plt.scatter(ts_energy, ts_acousticness, color='teal')\n",
        "\n",
        "#Add labels and title\n",
        "plt.xlabel('Energy')\n",
        "plt.ylabel('Loudness')\n",
        "plt.title('Energy vs. Loudness Distribution for Taylor Swift')\n",
        "\n",
        "#Display the plot\n",
        "plt.show()\n",
        "\n",
        "#Display summary statistics\n",
        "scatter_plot = pd.DataFrame(ts_energy)\n",
        "summary = scatter_plot.describe()\n",
        "print(summary)"
      ],
      "metadata": {
        "id": "QHQWh3NsdWvI",
        "outputId": "5b2816b1-71da-4002-aa5a-6c79cf38d440",
        "colab": {
          "base_uri": "https://localhost:8080/",
          "height": 628
        }
      },
      "execution_count": 101,
      "outputs": [
        {
          "output_type": "display_data",
          "data": {
            "text/plain": [
              "<Figure size 640x480 with 1 Axes>"
            ],
            "image/png": "[encoded data removed]"
          },
          "metadata": {}
        },
        {
          "output_type": "stream",
          "name": "stdout",
          "text": [
            "           energy\n",
            "count  434.000000\n",
            "mean     0.543120\n",
            "std      0.188983\n",
            "min      0.128000\n",
            "25%      0.386000\n",
            "50%      0.547000\n",
            "75%      0.699750\n",
            "max      0.948000\n"
          ]
        }
      ]
    },
    {
      "cell_type": "markdown",
      "source": [
        "### **Mode**\n",
        "\n",
        "#### **Range of Values**\n",
        "The range of possible values for mode is either 0 or 1. It indicates the modality, major or minor, of a track. Minor is indicated by 0 and major by 1.\n",
        "\n",
        "#### **Distribution**\n",
        "\n",
        "#### **Observations**"
      ],
      "metadata": {
        "id": "-yzku7a43scP"
      }
    },
    {
      "cell_type": "code",
      "source": [
        "df = pd.read_csv('Bee Gees_tracks_info.csv')\n",
        "\n",
        "#Reference mode data\n",
        "categories = df['mode'].value_counts()\n",
        "\n",
        "# Create the bar graph\n",
        "plt.bar(categories.index, categories.values, color='#8BBBAF')\n",
        "\n",
        "# Add labels and title\n",
        "plt.xlabel('Categories')\n",
        "plt.ylabel('Frequency of Tracks and Albums')\n",
        "plt.title('Mode Bar Graph for the Bee Gees')\n",
        "\n",
        "# Display the graph\n",
        "plt.show()\n",
        "\n",
        "#Display summary statistics\n",
        "bar_graph = pd.DataFrame(categories)\n",
        "summary = bar_graph.describe()\n",
        "print(summary)"
      ],
      "metadata": {
        "id": "CcuUzpQT4gy1",
        "outputId": "f264738b-e443-4d0a-aa9a-7d5329e7a22c",
        "colab": {
          "base_uri": "https://localhost:8080/",
          "height": 628
        }
      },
      "execution_count": 110,
      "outputs": [
        {
          "output_type": "display_data",
          "data": {
            "text/plain": [
              "<Figure size 640x480 with 1 Axes>"
            ],
            "image/png": "[encoded data removed]"
          },
          "metadata": {}
        },
        {
          "output_type": "stream",
          "name": "stdout",
          "text": [
            "            count\n",
            "count    2.000000\n",
            "mean   137.500000\n",
            "std    111.015765\n",
            "min     59.000000\n",
            "25%     98.250000\n",
            "50%    137.500000\n",
            "75%    176.750000\n",
            "max    216.000000\n"
          ]
        }
      ]
    }
  ],
  "metadata": {
    "colab": {
      "provenance": [],
      "include_colab_link": true
    },
    "kernelspec": {
      "display_name": "Python 3",
      "name": "python3"
    },
    "language_info": {
      "name": "python"
    }
  },
  "nbformat": 4,
  "nbformat_minor": 0
}
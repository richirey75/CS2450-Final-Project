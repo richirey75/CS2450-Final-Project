{
  "cells": [
    {
      "cell_type": "markdown",
      "metadata": {
        "id": "view-in-github",
        "colab_type": "text"
      },
      "source": [
        "<a href=\"https://colab.research.google.com/github/richirey75/Data-Mining-CS4990/blob/richi/DataMiningProject.ipynb\" target=\"_parent\"><img src=\"https://colab.research.google.com/assets/colab-badge.svg\" alt=\"Open In Colab\"/></a>"
      ]
    },
    {
      "cell_type": "markdown",
      "metadata": {
        "id": "YIe97mI8ZitR"
      },
      "source": [
        "## Mounting my drive"
      ]
    },
    {
      "cell_type": "code",
      "execution_count": null,
      "metadata": {
        "id": "xLKF-AtAXxF4",
        "colab": {
          "base_uri": "https://localhost:8080/"
        },
        "outputId": "28237007-74b0-4551-9382-a7590190e118"
      },
      "outputs": [
        {
          "output_type": "stream",
          "name": "stdout",
          "text": [
            "Mounted at /content/drive\n"
          ]
        }
      ],
      "source": [
        "from google.colab import drive\n",
        "\n",
        "drive.mount('/content/drive')\n"
      ]
    },
    {
      "cell_type": "markdown",
      "metadata": {
        "id": "GLaEPJlCaoFh"
      },
      "source": [
        "## To make shell commands we need the \"!\" before the command"
      ]
    },
    {
      "cell_type": "code",
      "execution_count": null,
      "metadata": {
        "id": "_ytZ9IYEZtFr",
        "colab": {
          "base_uri": "https://localhost:8080/"
        },
        "outputId": "99439666-d817-4558-e56b-9c0237058f5c"
      },
      "outputs": [
        {
          "output_type": "stream",
          "name": "stdout",
          "text": [
            "Python 3.10.12\n"
          ]
        }
      ],
      "source": [
        "!python --version"
      ]
    },
    {
      "cell_type": "markdown",
      "metadata": {
        "id": "serx2AaBb-V7"
      },
      "source": [
        "- The % is a special command in Google Colab and Jupyter notebooks called a \"magic command\". These commands provide special functionalities.\n",
        "\n",
        "- %cd is one such magic command which is used to change the current working directory."
      ]
    },
    {
      "cell_type": "code",
      "execution_count": null,
      "metadata": {
        "colab": {
          "base_uri": "https://localhost:8080/"
        },
        "id": "mlOkpC4ybFyA",
        "outputId": "bc2c790f-8296-4591-cffb-a33c35d69f06"
      },
      "outputs": [
        {
          "output_type": "stream",
          "name": "stdout",
          "text": [
            "/content/drive/MyDrive/CS4990GroupProject/CSV_files\n",
            "/content/drive/MyDrive/CS4990GroupProject/CSV_files\n"
          ]
        }
      ],
      "source": [
        "%cd /content/drive/MyDrive/CS4990GroupProject/CSV_files\n",
        "!pwd"
      ]
    },
    {
      "cell_type": "markdown",
      "metadata": {
        "id": "ez9LiiPNfxIs"
      },
      "source": [
        "## USEFUL SHORTSCUTS\n",
        "\n",
        "- Ctrl + M + H: Show all shortcuts\n",
        "- Ctrl + M + B: Create a new cell below\n",
        "- Ctrl + M + A: Create a new cell above\n",
        "- Ctrl + M + D: Delete the current cell\n",
        "- Ctrl + M + Y: Change cell to code\n",
        "- Ctrl + M + M: Change cell to text\n",
        "- Ctrl + Enter: Run the current cell\n",
        "- Ctrl + Shift + Enter: Run the current cell and select the below cell"
      ]
    },
    {
      "cell_type": "markdown",
      "source": [
        "## Installation of Library\n",
        "- We will using this library\n",
        "  - [spotify library](https://spotipy.readthedocs.io/en/2.24.0/)\n"
      ],
      "metadata": {
        "id": "JFjXEGoBNhfq"
      }
    },
    {
      "cell_type": "code",
      "execution_count": null,
      "metadata": {
        "colab": {
          "base_uri": "https://localhost:8080/"
        },
        "id": "7hlQXW-egyEb",
        "outputId": "464d203a-5bd7-4364-cac1-ca8ab448aea1"
      },
      "outputs": [
        {
          "output_type": "stream",
          "name": "stdout",
          "text": [
            "Collecting spotipy\n",
            "  Downloading spotipy-2.24.0-py3-none-any.whl.metadata (4.9 kB)\n",
            "Collecting redis>=3.5.3 (from spotipy)\n",
            "  Downloading redis-5.1.0-py3-none-any.whl.metadata (9.1 kB)\n",
            "Requirement already satisfied: requests>=2.25.0 in /usr/local/lib/python3.10/dist-packages (from spotipy) (2.32.3)\n",
            "Requirement already satisfied: urllib3>=1.26.0 in /usr/local/lib/python3.10/dist-packages (from spotipy) (2.2.3)\n",
            "Requirement already satisfied: async-timeout>=4.0.3 in /usr/local/lib/python3.10/dist-packages (from redis>=3.5.3->spotipy) (4.0.3)\n",
            "Requirement already satisfied: charset-normalizer<4,>=2 in /usr/local/lib/python3.10/dist-packages (from requests>=2.25.0->spotipy) (3.3.2)\n",
            "Requirement already satisfied: idna<4,>=2.5 in /usr/local/lib/python3.10/dist-packages (from requests>=2.25.0->spotipy) (3.10)\n",
            "Requirement already satisfied: certifi>=2017.4.17 in /usr/local/lib/python3.10/dist-packages (from requests>=2.25.0->spotipy) (2024.8.30)\n",
            "Downloading spotipy-2.24.0-py3-none-any.whl (30 kB)\n",
            "Downloading redis-5.1.0-py3-none-any.whl (261 kB)\n",
            "\u001b[2K   \u001b[90m━━━━━━━━━━━━━━━━━━━━━━━━━━━━━━━━━━━━━━━━\u001b[0m \u001b[32m261.2/261.2 kB\u001b[0m \u001b[31m2.8 MB/s\u001b[0m eta \u001b[36m0:00:00\u001b[0m\n",
            "\u001b[?25hInstalling collected packages: redis, spotipy\n",
            "Successfully installed redis-5.1.0 spotipy-2.24.0\n"
          ]
        }
      ],
      "source": [
        "!pip install spotipy --upgrade"
      ]
    },
    {
      "cell_type": "markdown",
      "metadata": {
        "id": "Sp9DUBB3t21T"
      },
      "source": [
        "## We need to import our libraries we will be using for the project\n",
        "  - spotipy\n",
        "  - pandas\n",
        "  - numpy"
      ]
    },
    {
      "cell_type": "code",
      "execution_count": null,
      "metadata": {
        "id": "w6uabVyprPpu"
      },
      "outputs": [],
      "source": [
        "import spotipy\n",
        "from spotipy.oauth2 import SpotifyClientCredentials\n",
        "\n",
        "import pandas as pd\n",
        "import numpy as np"
      ]
    },
    {
      "cell_type": "markdown",
      "metadata": {
        "id": "JB5cpesluEcJ"
      },
      "source": [
        "## This is how we will identify to the API\n",
        "- We need to first get a key from [spotify dev](https://developer.spotify.com/)\n",
        "- Will get two keys\n",
        "  - Client Id key\n",
        "  - Client Secret key\n",
        "\n",
        "- Follow by inputting our keys and autheticating"
      ]
    },
    {
      "cell_type": "code",
      "execution_count": null,
      "metadata": {
        "id": "-Ea0oXkPsokV"
      },
      "outputs": [],
      "source": [
        "client_id = input(\"Enter your client_id: \")\n",
        "client_secret = input(\"Enter your client_secret: \")\n",
        "\n",
        "auth_manager = SpotifyClientCredentials(client_id=client_id, client_secret=client_secret)\n",
        "sp = spotipy.Spotify(auth_manager=auth_manager)"
      ]
    },
    {
      "cell_type": "markdown",
      "metadata": {
        "id": "j4GszzFEwtk9"
      },
      "source": [
        "## Search function to query an artist\n",
        "- As an example we the band call \"the cramberries\"\n",
        "- This is just as if you were searching for an artists in the spotify environnement\n",
        "- We get the artist ID"
      ]
    },
    {
      "cell_type": "code",
      "execution_count": null,
      "metadata": {
        "colab": {
          "base_uri": "https://localhost:8080/",
          "height": 35
        },
        "id": "hIya5gY7ty9t",
        "outputId": "a2feef5c-c693-4e74-f0e0-4b8ff9f55fc5"
      },
      "outputs": [
        {
          "output_type": "execute_result",
          "data": {
            "text/plain": [
              "'7t0rwkOPGlDPEhaOcVtOt9'"
            ],
            "application/vnd.google.colaboratory.intrinsic+json": {
              "type": "string"
            }
          },
          "metadata": {},
          "execution_count": 9
        }
      ],
      "source": [
        "results = sp.search(q='The Cranberries', limit=1, type='artist')\n",
        "artist_id = results['artists']['items'][0]['id']\n",
        "artist_id"
      ]
    },
    {
      "cell_type": "markdown",
      "metadata": {
        "id": "yoOISDh60D5h"
      },
      "source": [
        "## Here is how to retreve albums from the artist_id from above\n",
        "- We will use the artist ID to retrieve the albums from the artist page"
      ]
    },
    {
      "cell_type": "code",
      "execution_count": null,
      "metadata": {
        "colab": {
          "base_uri": "https://localhost:8080/"
        },
        "id": "oaeqPehDvkzQ",
        "outputId": "8ef427b9-2f7f-4e78-8bfb-e66100714056"
      },
      "outputs": [
        {
          "output_type": "execute_result",
          "data": {
            "text/plain": [
              "['To The Faithful Departed (Deluxe Edition)',\n",
              " 'Remembering Dolores',\n",
              " 'No Need To Argue (Remastered 2020)',\n",
              " 'No Need To Argue (Deluxe)',\n",
              " 'In the End',\n",
              " 'Something Else',\n",
              " 'Live At the Hammersmith Apollo, London 2012',\n",
              " 'Roses',\n",
              " 'Live 2010 - Zenith Paris, 22.03.10',\n",
              " 'Bualadh Bos: The Cranberries Live',\n",
              " 'Wake Up And Smell The Coffee',\n",
              " 'Bury The Hatchet (The Complete Sessions 1998-1999)',\n",
              " 'Bury The Hatchet',\n",
              " 'To The Faithful Departed (The Complete Sessions 1996-1997)',\n",
              " 'To The Faithful Departed',\n",
              " 'No Need To Argue (The Complete Sessions 1994-1995)',\n",
              " \"Everybody Else Is Doing It, So Why Can't We? - Super Deluxe\",\n",
              " \"Everybody Else Is Doing It, So Why Can't We? (The Complete Sessions 1991-1993)\",\n",
              " \"Everybody Else Is Doing It, So Why Can't We?\"]"
            ]
          },
          "metadata": {},
          "execution_count": 10
        }
      ],
      "source": [
        "albums = sp.artist_albums(artist_id, album_type='album')\n",
        "\n",
        "album_names = [album['name'] for album in albums['items']]\n",
        "\n",
        "album_names"
      ]
    },
    {
      "cell_type": "markdown",
      "metadata": {
        "id": "yaUfvxT_0QZk"
      },
      "source": [
        "## We can extract the songs from an album\n",
        "- Here the code gives back the album songs from the 18 position on the list above"
      ]
    },
    {
      "cell_type": "code",
      "execution_count": null,
      "metadata": {
        "colab": {
          "base_uri": "https://localhost:8080/"
        },
        "id": "_QV_DZa5vxIr",
        "outputId": "ef94b369-d142-47b3-dac1-5f981a567e94"
      },
      "outputs": [
        {
          "output_type": "execute_result",
          "data": {
            "text/plain": [
              "['I Still Do',\n",
              " 'Dreams',\n",
              " 'Sunday',\n",
              " 'Pretty',\n",
              " 'Waltzing Back',\n",
              " 'Not Sorry',\n",
              " 'Linger',\n",
              " 'Wanted',\n",
              " \"Still Can't...\",\n",
              " 'I Will Always',\n",
              " 'How',\n",
              " 'Put Me Down']"
            ]
          },
          "metadata": {},
          "execution_count": 11
        }
      ],
      "source": [
        "tracks = sp.album_tracks(albums['items'][18]['id'])\n",
        "track_names = [track['name'] for track in tracks['items']]\n",
        "\n",
        "track_names"
      ]
    },
    {
      "cell_type": "markdown",
      "source": [
        "## Using Pandas to organize\n",
        "- We can use pandas to oprganize our data into a CSV file"
      ],
      "metadata": {
        "id": "0oqWgfL2WJ31"
      }
    },
    {
      "cell_type": "code",
      "execution_count": null,
      "metadata": {
        "id": "neWLV59gxaRj",
        "colab": {
          "base_uri": "https://localhost:8080/",
          "height": 426
        },
        "outputId": "5f4a7ebd-f32a-4fc5-d3c9-d07009c8ecb6"
      },
      "outputs": [
        {
          "output_type": "execute_result",
          "data": {
            "text/plain": [
              "       Track Names\n",
              "0       I Still Do\n",
              "1           Dreams\n",
              "2           Sunday\n",
              "3           Pretty\n",
              "4    Waltzing Back\n",
              "5        Not Sorry\n",
              "6           Linger\n",
              "7           Wanted\n",
              "8   Still Can't...\n",
              "9    I Will Always\n",
              "10             How\n",
              "11     Put Me Down"
            ],
            "text/html": [
              "\n",
              "  <div id=\"df-ca1912ba-c232-4480-904f-686938131d48\" class=\"colab-df-container\">\n",
              "    <div>\n",
              "<style scoped>\n",
              "    .dataframe tbody tr th:only-of-type {\n",
              "        vertical-align: middle;\n",
              "    }\n",
              "\n",
              "    .dataframe tbody tr th {\n",
              "        vertical-align: top;\n",
              "    }\n",
              "\n",
              "    .dataframe thead th {\n",
              "        text-align: right;\n",
              "    }\n",
              "</style>\n",
              "<table border=\"1\" class=\"dataframe\">\n",
              "  <thead>\n",
              "    <tr style=\"text-align: right;\">\n",
              "      <th></th>\n",
              "      <th>Track Names</th>\n",
              "    </tr>\n",
              "  </thead>\n",
              "  <tbody>\n",
              "    <tr>\n",
              "      <th>0</th>\n",
              "      <td>I Still Do</td>\n",
              "    </tr>\n",
              "    <tr>\n",
              "      <th>1</th>\n",
              "      <td>Dreams</td>\n",
              "    </tr>\n",
              "    <tr>\n",
              "      <th>2</th>\n",
              "      <td>Sunday</td>\n",
              "    </tr>\n",
              "    <tr>\n",
              "      <th>3</th>\n",
              "      <td>Pretty</td>\n",
              "    </tr>\n",
              "    <tr>\n",
              "      <th>4</th>\n",
              "      <td>Waltzing Back</td>\n",
              "    </tr>\n",
              "    <tr>\n",
              "      <th>5</th>\n",
              "      <td>Not Sorry</td>\n",
              "    </tr>\n",
              "    <tr>\n",
              "      <th>6</th>\n",
              "      <td>Linger</td>\n",
              "    </tr>\n",
              "    <tr>\n",
              "      <th>7</th>\n",
              "      <td>Wanted</td>\n",
              "    </tr>\n",
              "    <tr>\n",
              "      <th>8</th>\n",
              "      <td>Still Can't...</td>\n",
              "    </tr>\n",
              "    <tr>\n",
              "      <th>9</th>\n",
              "      <td>I Will Always</td>\n",
              "    </tr>\n",
              "    <tr>\n",
              "      <th>10</th>\n",
              "      <td>How</td>\n",
              "    </tr>\n",
              "    <tr>\n",
              "      <th>11</th>\n",
              "      <td>Put Me Down</td>\n",
              "    </tr>\n",
              "  </tbody>\n",
              "</table>\n",
              "</div>\n",
              "    <div class=\"colab-df-buttons\">\n",
              "\n",
              "  <div class=\"colab-df-container\">\n",
              "    <button class=\"colab-df-convert\" onclick=\"convertToInteractive('df-ca1912ba-c232-4480-904f-686938131d48')\"\n",
              "            title=\"Convert this dataframe to an interactive table.\"\n",
              "            style=\"display:none;\">\n",
              "\n",
              "  <svg xmlns=\"http://www.w3.org/2000/svg\" height=\"24px\" viewBox=\"0 -960 960 960\">\n",
              "    <path d=\"M120-120v-720h720v720H120Zm60-500h600v-160H180v160Zm220 220h160v-160H400v160Zm0 220h160v-160H400v160ZM180-400h160v-160H180v160Zm440 0h160v-160H620v160ZM180-180h160v-160H180v160Zm440 0h160v-160H620v160Z\"/>\n",
              "  </svg>\n",
              "    </button>\n",
              "\n",
              "  <style>\n",
              "    .colab-df-container {\n",
              "      display:flex;\n",
              "      gap: 12px;\n",
              "    }\n",
              "\n",
              "    .colab-df-convert {\n",
              "      background-color: #E8F0FE;\n",
              "      border: none;\n",
              "      border-radius: 50%;\n",
              "      cursor: pointer;\n",
              "      display: none;\n",
              "      fill: #1967D2;\n",
              "      height: 32px;\n",
              "      padding: 0 0 0 0;\n",
              "      width: 32px;\n",
              "    }\n",
              "\n",
              "    .colab-df-convert:hover {\n",
              "      background-color: #E2EBFA;\n",
              "      box-shadow: 0px 1px 2px rgba(60, 64, 67, 0.3), 0px 1px 3px 1px rgba(60, 64, 67, 0.15);\n",
              "      fill: #174EA6;\n",
              "    }\n",
              "\n",
              "    .colab-df-buttons div {\n",
              "      margin-bottom: 4px;\n",
              "    }\n",
              "\n",
              "    [theme=dark] .colab-df-convert {\n",
              "      background-color: #3B4455;\n",
              "      fill: #D2E3FC;\n",
              "    }\n",
              "\n",
              "    [theme=dark] .colab-df-convert:hover {\n",
              "      background-color: #434B5C;\n",
              "      box-shadow: 0px 1px 3px 1px rgba(0, 0, 0, 0.15);\n",
              "      filter: drop-shadow(0px 1px 2px rgba(0, 0, 0, 0.3));\n",
              "      fill: #FFFFFF;\n",
              "    }\n",
              "  </style>\n",
              "\n",
              "    <script>\n",
              "      const buttonEl =\n",
              "        document.querySelector('#df-ca1912ba-c232-4480-904f-686938131d48 button.colab-df-convert');\n",
              "      buttonEl.style.display =\n",
              "        google.colab.kernel.accessAllowed ? 'block' : 'none';\n",
              "\n",
              "      async function convertToInteractive(key) {\n",
              "        const element = document.querySelector('#df-ca1912ba-c232-4480-904f-686938131d48');\n",
              "        const dataTable =\n",
              "          await google.colab.kernel.invokeFunction('convertToInteractive',\n",
              "                                                    [key], {});\n",
              "        if (!dataTable) return;\n",
              "\n",
              "        const docLinkHtml = 'Like what you see? Visit the ' +\n",
              "          '<a target=\"_blank\" href=https://colab.research.google.com/notebooks/data_table.ipynb>data table notebook</a>'\n",
              "          + ' to learn more about interactive tables.';\n",
              "        element.innerHTML = '';\n",
              "        dataTable['output_type'] = 'display_data';\n",
              "        await google.colab.output.renderOutput(dataTable, element);\n",
              "        const docLink = document.createElement('div');\n",
              "        docLink.innerHTML = docLinkHtml;\n",
              "        element.appendChild(docLink);\n",
              "      }\n",
              "    </script>\n",
              "  </div>\n",
              "\n",
              "\n",
              "<div id=\"df-31aed396-caa8-4797-854c-d274ea0fb635\">\n",
              "  <button class=\"colab-df-quickchart\" onclick=\"quickchart('df-31aed396-caa8-4797-854c-d274ea0fb635')\"\n",
              "            title=\"Suggest charts\"\n",
              "            style=\"display:none;\">\n",
              "\n",
              "<svg xmlns=\"http://www.w3.org/2000/svg\" height=\"24px\"viewBox=\"0 0 24 24\"\n",
              "     width=\"24px\">\n",
              "    <g>\n",
              "        <path d=\"M19 3H5c-1.1 0-2 .9-2 2v14c0 1.1.9 2 2 2h14c1.1 0 2-.9 2-2V5c0-1.1-.9-2-2-2zM9 17H7v-7h2v7zm4 0h-2V7h2v10zm4 0h-2v-4h2v4z\"/>\n",
              "    </g>\n",
              "</svg>\n",
              "  </button>\n",
              "\n",
              "<style>\n",
              "  .colab-df-quickchart {\n",
              "      --bg-color: #E8F0FE;\n",
              "      --fill-color: #1967D2;\n",
              "      --hover-bg-color: #E2EBFA;\n",
              "      --hover-fill-color: #174EA6;\n",
              "      --disabled-fill-color: #AAA;\n",
              "      --disabled-bg-color: #DDD;\n",
              "  }\n",
              "\n",
              "  [theme=dark] .colab-df-quickchart {\n",
              "      --bg-color: #3B4455;\n",
              "      --fill-color: #D2E3FC;\n",
              "      --hover-bg-color: #434B5C;\n",
              "      --hover-fill-color: #FFFFFF;\n",
              "      --disabled-bg-color: #3B4455;\n",
              "      --disabled-fill-color: #666;\n",
              "  }\n",
              "\n",
              "  .colab-df-quickchart {\n",
              "    background-color: var(--bg-color);\n",
              "    border: none;\n",
              "    border-radius: 50%;\n",
              "    cursor: pointer;\n",
              "    display: none;\n",
              "    fill: var(--fill-color);\n",
              "    height: 32px;\n",
              "    padding: 0;\n",
              "    width: 32px;\n",
              "  }\n",
              "\n",
              "  .colab-df-quickchart:hover {\n",
              "    background-color: var(--hover-bg-color);\n",
              "    box-shadow: 0 1px 2px rgba(60, 64, 67, 0.3), 0 1px 3px 1px rgba(60, 64, 67, 0.15);\n",
              "    fill: var(--button-hover-fill-color);\n",
              "  }\n",
              "\n",
              "  .colab-df-quickchart-complete:disabled,\n",
              "  .colab-df-quickchart-complete:disabled:hover {\n",
              "    background-color: var(--disabled-bg-color);\n",
              "    fill: var(--disabled-fill-color);\n",
              "    box-shadow: none;\n",
              "  }\n",
              "\n",
              "  .colab-df-spinner {\n",
              "    border: 2px solid var(--fill-color);\n",
              "    border-color: transparent;\n",
              "    border-bottom-color: var(--fill-color);\n",
              "    animation:\n",
              "      spin 1s steps(1) infinite;\n",
              "  }\n",
              "\n",
              "  @keyframes spin {\n",
              "    0% {\n",
              "      border-color: transparent;\n",
              "      border-bottom-color: var(--fill-color);\n",
              "      border-left-color: var(--fill-color);\n",
              "    }\n",
              "    20% {\n",
              "      border-color: transparent;\n",
              "      border-left-color: var(--fill-color);\n",
              "      border-top-color: var(--fill-color);\n",
              "    }\n",
              "    30% {\n",
              "      border-color: transparent;\n",
              "      border-left-color: var(--fill-color);\n",
              "      border-top-color: var(--fill-color);\n",
              "      border-right-color: var(--fill-color);\n",
              "    }\n",
              "    40% {\n",
              "      border-color: transparent;\n",
              "      border-right-color: var(--fill-color);\n",
              "      border-top-color: var(--fill-color);\n",
              "    }\n",
              "    60% {\n",
              "      border-color: transparent;\n",
              "      border-right-color: var(--fill-color);\n",
              "    }\n",
              "    80% {\n",
              "      border-color: transparent;\n",
              "      border-right-color: var(--fill-color);\n",
              "      border-bottom-color: var(--fill-color);\n",
              "    }\n",
              "    90% {\n",
              "      border-color: transparent;\n",
              "      border-bottom-color: var(--fill-color);\n",
              "    }\n",
              "  }\n",
              "</style>\n",
              "\n",
              "  <script>\n",
              "    async function quickchart(key) {\n",
              "      const quickchartButtonEl =\n",
              "        document.querySelector('#' + key + ' button');\n",
              "      quickchartButtonEl.disabled = true;  // To prevent multiple clicks.\n",
              "      quickchartButtonEl.classList.add('colab-df-spinner');\n",
              "      try {\n",
              "        const charts = await google.colab.kernel.invokeFunction(\n",
              "            'suggestCharts', [key], {});\n",
              "      } catch (error) {\n",
              "        console.error('Error during call to suggestCharts:', error);\n",
              "      }\n",
              "      quickchartButtonEl.classList.remove('colab-df-spinner');\n",
              "      quickchartButtonEl.classList.add('colab-df-quickchart-complete');\n",
              "    }\n",
              "    (() => {\n",
              "      let quickchartButtonEl =\n",
              "        document.querySelector('#df-31aed396-caa8-4797-854c-d274ea0fb635 button');\n",
              "      quickchartButtonEl.style.display =\n",
              "        google.colab.kernel.accessAllowed ? 'block' : 'none';\n",
              "    })();\n",
              "  </script>\n",
              "</div>\n",
              "\n",
              "  <div id=\"id_1bf8107e-bf02-48a6-8bc0-b0582fda5230\">\n",
              "    <style>\n",
              "      .colab-df-generate {\n",
              "        background-color: #E8F0FE;\n",
              "        border: none;\n",
              "        border-radius: 50%;\n",
              "        cursor: pointer;\n",
              "        display: none;\n",
              "        fill: #1967D2;\n",
              "        height: 32px;\n",
              "        padding: 0 0 0 0;\n",
              "        width: 32px;\n",
              "      }\n",
              "\n",
              "      .colab-df-generate:hover {\n",
              "        background-color: #E2EBFA;\n",
              "        box-shadow: 0px 1px 2px rgba(60, 64, 67, 0.3), 0px 1px 3px 1px rgba(60, 64, 67, 0.15);\n",
              "        fill: #174EA6;\n",
              "      }\n",
              "\n",
              "      [theme=dark] .colab-df-generate {\n",
              "        background-color: #3B4455;\n",
              "        fill: #D2E3FC;\n",
              "      }\n",
              "\n",
              "      [theme=dark] .colab-df-generate:hover {\n",
              "        background-color: #434B5C;\n",
              "        box-shadow: 0px 1px 3px 1px rgba(0, 0, 0, 0.15);\n",
              "        filter: drop-shadow(0px 1px 2px rgba(0, 0, 0, 0.3));\n",
              "        fill: #FFFFFF;\n",
              "      }\n",
              "    </style>\n",
              "    <button class=\"colab-df-generate\" onclick=\"generateWithVariable('df')\"\n",
              "            title=\"Generate code using this dataframe.\"\n",
              "            style=\"display:none;\">\n",
              "\n",
              "  <svg xmlns=\"http://www.w3.org/2000/svg\" height=\"24px\"viewBox=\"0 0 24 24\"\n",
              "       width=\"24px\">\n",
              "    <path d=\"M7,19H8.4L18.45,9,17,7.55,7,17.6ZM5,21V16.75L18.45,3.32a2,2,0,0,1,2.83,0l1.4,1.43a1.91,1.91,0,0,1,.58,1.4,1.91,1.91,0,0,1-.58,1.4L9.25,21ZM18.45,9,17,7.55Zm-12,3A5.31,5.31,0,0,0,4.9,8.1,5.31,5.31,0,0,0,1,6.5,5.31,5.31,0,0,0,4.9,4.9,5.31,5.31,0,0,0,6.5,1,5.31,5.31,0,0,0,8.1,4.9,5.31,5.31,0,0,0,12,6.5,5.46,5.46,0,0,0,6.5,12Z\"/>\n",
              "  </svg>\n",
              "    </button>\n",
              "    <script>\n",
              "      (() => {\n",
              "      const buttonEl =\n",
              "        document.querySelector('#id_1bf8107e-bf02-48a6-8bc0-b0582fda5230 button.colab-df-generate');\n",
              "      buttonEl.style.display =\n",
              "        google.colab.kernel.accessAllowed ? 'block' : 'none';\n",
              "\n",
              "      buttonEl.onclick = () => {\n",
              "        google.colab.notebook.generateWithVariable('df');\n",
              "      }\n",
              "      })();\n",
              "    </script>\n",
              "  </div>\n",
              "\n",
              "    </div>\n",
              "  </div>\n"
            ],
            "application/vnd.google.colaboratory.intrinsic+json": {
              "type": "dataframe",
              "variable_name": "df",
              "summary": "{\n  \"name\": \"df\",\n  \"rows\": 12,\n  \"fields\": [\n    {\n      \"column\": \"Track Names\",\n      \"properties\": {\n        \"dtype\": \"string\",\n        \"num_unique_values\": 12,\n        \"samples\": [\n          \"How\",\n          \"I Will Always\",\n          \"I Still Do\"\n        ],\n        \"semantic_type\": \"\",\n        \"description\": \"\"\n      }\n    }\n  ]\n}"
            }
          },
          "metadata": {},
          "execution_count": 12
        }
      ],
      "source": [
        "df = pd.DataFrame({'Track Names': track_names})\n",
        "df.to_csv('track_names.csv', index=False)\n",
        "df"
      ]
    },
    {
      "cell_type": "markdown",
      "source": [
        "## We enter the file that we want to save the svc files to"
      ],
      "metadata": {
        "id": "c_Fm5lFOXYOh"
      }
    },
    {
      "cell_type": "code",
      "source": [
        "%cd /content/drive/MyDrive/CS4990GroupProject/CSV_files\n",
        "!pwd"
      ],
      "metadata": {
        "colab": {
          "base_uri": "https://localhost:8080/"
        },
        "id": "8bQvxu3MXDbk",
        "outputId": "a783ccbd-e04a-4517-b18f-36efde11c949"
      },
      "execution_count": null,
      "outputs": [
        {
          "output_type": "stream",
          "name": "stdout",
          "text": [
            "/content/drive/MyDrive/CS4990GroupProject/CSV_files\n",
            "/content/drive/MyDrive/CS4990GroupProject/CSV_files\n"
          ]
        }
      ]
    },
    {
      "cell_type": "markdown",
      "source": [
        "# Now we use all the tools we learn above to queary an artist and retrieve all their information\n",
        "- We query the artist\n",
        "- Scrape their information\n",
        "- Scrape their albums\n",
        "- Scrape each song in their discography\n",
        "- Use panda to save them in CSV files\n",
        "- Lastly we save them in our drive"
      ],
      "metadata": {
        "id": "AHesw18KIrAJ"
      }
    },
    {
      "cell_type": "code",
      "source": [
        "# Artist information\n",
        "artist_name = input(\"Enter an artist name: \")\n",
        "result = sp.search(q=artist_name, limit=1, type='artist')\n",
        "artist = result['artists']['items'][0]\n",
        "\n",
        "artist_info = {\n",
        "    'name': artist['name'],\n",
        "    'id': artist['id'],\n",
        "    'popularity': artist['popularity'],\n",
        "    'genres': artist['genres'],\n",
        "    'followers': artist['followers']['total']\n",
        "}\n",
        "\n",
        "# Album and track information with audio features\n",
        "albums = sp.artist_albums(artist['id'], album_type='album')\n",
        "all_tracks = []\n",
        "\n",
        "for album in albums['items']:\n",
        "    album_info = {\n",
        "        'album_name': album['name'],\n",
        "        'album_id': album['id'],\n",
        "        'release_date': album['release_date'],\n",
        "        'total_tracks': album['total_tracks']\n",
        "    }\n",
        "\n",
        "    tracks = sp.album_tracks(album['id'])\n",
        "    for track in tracks['items']:\n",
        "        track_info = {\n",
        "            'track_name': track['name'],\n",
        "            'track_id': track['id'],\n",
        "            'duration_min': track['duration_ms'] / 60000\n",
        "        }\n",
        "        try:\n",
        "            track_info['popularity'] = track['popularity']\n",
        "        except KeyError:\n",
        "            track_info['popularity'] = None\n",
        "\n",
        "        # Get audio features\n",
        "        audio_features = sp.audio_features(track['id'])[0]\n",
        "        if audio_features:\n",
        "            track_info.update(audio_features)\n",
        "\n",
        "        all_tracks.append({**album_info, **track_info})\n",
        "\n",
        "# Create DataFrames\n",
        "artist_df = pd.DataFrame([artist_info])\n",
        "tracks_df = pd.DataFrame(all_tracks)\n",
        "\n",
        "# Save to CSV\n",
        "artist_df.to_csv(f'{artist_name}_artist_info.csv', index=False)\n",
        "tracks_df.to_csv(f'{artist_name}_tracks_info.csv', index=False)"
      ],
      "metadata": {
        "colab": {
          "base_uri": "https://localhost:8080/"
        },
        "id": "st-hY1ls0xc_",
        "outputId": "42427088-d422-4b13-b904-01f076e7742e"
      },
      "execution_count": null,
      "outputs": [
        {
          "name": "stdout",
          "output_type": "stream",
          "text": [
            "Enter an artist name: Oasis\n"
          ]
        }
      ]
    },
    {
      "cell_type": "markdown",
      "source": [
        "# Here is to concatenate the CSV files"
      ],
      "metadata": {
        "id": "NtNNxO-JI64B"
      }
    },
    {
      "cell_type": "code",
      "source": [
        "artist1 = pd.read_csv('Oasis_tracks_info.csv')\n",
        "artist2 = pd.read_csv('cranberries_tracks_info.csv')\n",
        "\n",
        "combined_df = pd.concat([artist1, artist2]) # add more DataFrames to the list if needed\n",
        "combined_df.to_csv('Oasis_Cranberries_tracks_info.csv', index=False)"
      ],
      "metadata": {
        "id": "DgdiD8WC6YeL"
      },
      "execution_count": null,
      "outputs": []
    },
    {
      "cell_type": "markdown",
      "source": [
        "# Start to process the data using clustering\n",
        "#### Need to add our libraries that we will be using and to read the files in our directory\n"
      ],
      "metadata": {
        "id": "lOufblt1Pj38"
      }
    },
    {
      "cell_type": "code",
      "source": [
        "import pandas as pd\n",
        "import plotly.express as px\n",
        "from sklearn.cluster import KMeans\n",
        "from sklearn.preprocessing import StandardScaler"
      ],
      "metadata": {
        "id": "SSUOUOkswU3C"
      },
      "execution_count": null,
      "outputs": []
    },
    {
      "source": [
        "# Load the data\n",
        "df = pd.read_csv('Oasis_tracks_info.csv')\n",
        "\n",
        "# Select audio features for clustering\n",
        "features = ['danceability', 'energy', 'loudness', 'speechiness', 'acousticness',\n",
        "            'instrumentalness', 'liveness', 'valence', 'tempo']\n",
        "X = df[features]\n",
        "\n",
        "# Scale the features\n",
        "scaler = StandardScaler()\n",
        "X_scaled = scaler.fit_transform(X)\n",
        "\n",
        "# Perform K-Means clustering\n",
        "kmeans = KMeans(n_clusters=2, random_state=42)  # You can adjust the number of clusters\n",
        "kmeans.fit(X_scaled)\n",
        "df['cluster'] = kmeans.labels_\n"
      ],
      "cell_type": "code",
      "metadata": {
        "id": "Nw4dtuBUuL3G"
      },
      "execution_count": null,
      "outputs": []
    },
    {
      "source": [
        "# Create the interactive 3D scatter plot\n",
        "fig = px.scatter_3d(df, x='energy', y='danceability', z='valence',\n",
        "                    color='cluster', color_continuous_scale='viridis',\n",
        "                    opacity=0.7, title='Clusters of Oasis Tracks (Interactive)')\n",
        "\n",
        "# Define cluster labels based on analysis (example)\n",
        "cluster_labels = {\n",
        "    0: 'High Energy, High Danceability',\n",
        "    1: 'Low Energy, Low Danceability',\n",
        "    2: 'Medium Energy, Medium Danceability'\n",
        "}\n",
        "df['cluster_label'] = df['cluster'].map(cluster_labels)\n",
        "\n",
        "# Create the interactive 3D scatter plot with labels\n",
        "fig = px.scatter_3d(df, x='energy', y='danceability', z='valence',\n",
        "                    color='cluster_label', color_discrete_sequence=px.colors.qualitative.Set1,\n",
        "                    opacity=0.7, title='Clusters of Oasis Tracks (Interactive)')\n",
        "\n",
        "\n",
        "\n",
        "# Show the plot\n",
        "fig.show()"
      ],
      "cell_type": "code",
      "metadata": {
        "id": "Xm1M1Txeui_A",
        "outputId": "6c2ffb8a-de1d-4dcd-b0dc-2f698b6cb14a",
        "colab": {
          "base_uri": "https://localhost:8080/",
          "height": 542
        }
      },
      "execution_count": null,
      "outputs": [
        {
          "output_type": "display_data",
          "data": {
            "text/html": [
              "<html>\n",
              "<head><meta charset=\"utf-8\" /></head>\n",
              "<body>\n",
              "    <div>            <script src=\"https://cdnjs.cloudflare.com/ajax/libs/mathjax/2.7.5/MathJax.js?config=TeX-AMS-MML_SVG\"></script><script type=\"text/javascript\">if (window.MathJax && window.MathJax.Hub && window.MathJax.Hub.Config) {window.MathJax.Hub.Config({SVG: {font: \"STIX-Web\"}});}</script>                <script type=\"text/javascript\">window.PlotlyConfig = {MathJaxConfig: 'local'};</script>\n",
              "        <script charset=\"utf-8\" src=\"https://cdn.plot.ly/plotly-2.35.2.min.js\"></script>                <div id=\"73928759-fead-4ca0-a0a9-9eca177feb93\" class=\"plotly-graph-div\" style=\"height:525px; width:100%;\"></div>            <script type=\"text/javascript\">                                    window.PLOTLYENV=window.PLOTLYENV || {};                                    if (document.getElementById(\"73928759-fead-4ca0-a0a9-9eca177feb93\")) {                    Plotly.newPlot(                        \"73928759-fead-4ca0-a0a9-9eca177feb93\",                        [{\"hovertemplate\":\"energy=%{x}\\u003cbr\\u003edanceability=%{y}\\u003cbr\\u003evalence=%{z}\\u003cbr\\u003ecluster=%{marker.color}\\u003cextra\\u003e\\u003c\\u002fextra\\u003e\",\"legendgroup\":\"\",\"marker\":{\"color\":[1,1,1,1,1,1,1,1,1,1,0,1,1,1,1,1,1,1,1,1,1,1,1,1,1,1,0,1,1,1,1,1,1,1,1,1,1,1,1,1,1,1,1,1,1,1,1,1,1,1,1,0,1,0,1,1,1,1,1,1,1,1,1,1,0,1,1,0,1,0,1,0,1,1,1,1,1,0,1,1,1,1,1,1,1,1,1,1,1,1,0,1,1,1,0,1,1,1,0,0,0,1,1,0,0,0,1,1,1,1,1,1,1,1,1,1,1,1,1,1,1,1,1,0,1,1,0,1,0,1,1,1,1,1,1,1,1,1,1,1,1,1,1,1,1,1,0,0,0,0,0,0,0,1,1,0,1,1,1,1,1,0,0,0,1,0,1,0,1,1,1,1,1,1,1,1,1,1,1,0,1,0,1,1,0,1,1,1,1,1,1,0,1,1,0,1,0,1,0,0,0,1,1,1,0,0,1,1,1,1,1,1,1,1,1,1,1,1,1,0,1,1,0,1,0,1,0,1,1,1,1,1,1,1,1,0,1,1,0,1,1,1,1,1,0,1,0,0,0,0,0,0,0],\"coloraxis\":\"coloraxis\",\"opacity\":0.7,\"symbol\":\"circle\"},\"mode\":\"markers\",\"name\":\"\",\"scene\":\"scene\",\"showlegend\":false,\"x\":[0.97,0.929,0.822,0.908,0.824,0.913,0.945,0.742,0.988,0.943,0.435,0.978,0.9,0.757,0.96,0.768,0.947,0.899,0.831,0.922,0.925,0.712,0.901,0.856,0.928,0.859,0.465,0.806,0.926,0.928,0.962,0.869,0.943,0.897,0.909,0.933,0.977,0.737,0.812,0.852,0.634,0.926,0.953,0.949,0.946,0.858,0.961,0.877,0.985,0.769,0.854,0.558,0.865,0.561,0.917,0.939,0.848,0.87,0.911,0.842,0.935,0.87,0.885,0.951,0.468,0.857,0.801,0.632,0.953,0.642,0.887,0.618,0.964,0.893,0.937,0.849,0.953,0.618,0.836,0.964,0.848,0.977,0.836,0.752,0.857,0.974,0.951,0.929,0.87,0.999,0.684,0.987,0.846,0.706,0.468,0.939,0.791,0.967,0.558,0.561,0.632,0.738,0.737,0.642,0.69,2.01e-05,0.939,0.878,0.99,0.951,0.991,0.951,0.987,0.91,0.952,0.94,0.946,0.888,0.996,0.825,0.857,0.801,0.931,0.59,0.664,0.708,0.584,0.76,0.611,0.861,0.979,0.884,0.825,0.976,0.919,0.784,0.831,0.942,0.814,0.74,0.835,0.98,0.938,0.809,0.858,0.976,0.735,0.543,0.368,0.307,0.373,0.258,0.526,0.936,0.832,0.632,0.867,0.888,0.801,0.922,0.781,0.783,0.272,0.566,0.832,0.397,0.919,0.743,0.926,0.954,0.985,0.893,0.936,0.935,0.702,0.927,0.846,0.905,0.982,0.989,0.817,0.423,0.931,0.839,0.797,0.896,0.983,0.951,0.891,0.909,0.933,0.596,0.813,0.781,0.609,0.854,0.694,0.743,0.552,0.608,0.414,0.901,0.777,0.832,0.605,0.671,0.883,0.85,0.713,0.97,0.929,0.822,0.908,0.824,0.913,0.945,0.742,0.988,0.943,0.435,0.891,0.93,0.578,0.98,0.33,0.905,0.501,0.969,0.782,0.883,0.564,0.861,0.977,0.902,0.902,0.458,0.92,0.908,0.733,0.928,0.955,0.981,0.633,0.998,0.633,0.901,0.371,0.419,0.415,0.5,0.466,0.687,0.321],\"y\":[0.315,0.0839,0.286,0.256,0.314,0.359,0.115,0.294,0.305,0.0657,0.588,0.153,0.142,0.382,0.314,0.192,0.171,0.374,0.364,0.15,0.305,0.288,0.236,0.341,0.314,0.134,0.512,0.275,0.26,0.258,0.119,0.168,0.197,0.155,0.213,0.145,0.209,0.372,0.204,0.18,0.277,0.164,0.168,0.212,0.113,0.169,0.181,0.39,0.244,0.29,0.41,0.331,0.3,0.491,0.349,0.416,0.229,0.479,0.117,0.365,0.263,0.568,0.139,0.401,0.475,0.408,0.31,0.405,0.329,0.463,0.268,0.428,0.437,0.414,0.444,0.403,0.329,0.428,0.465,0.437,0.487,0.378,0.308,0.415,0.379,0.404,0.401,0.105,0.568,0.405,0.603,0.403,0.127,0.371,0.475,0.416,0.48,0.298,0.331,0.491,0.405,0.4,0.365,0.463,0.386,0.354,0.328,0.333,0.305,0.226,0.28,0.256,0.228,0.14,0.165,0.285,0.112,0.151,0.142,0.152,0.408,0.31,0.409,0.398,0.349,0.372,0.353,0.34,0.279,0.299,0.355,0.301,0.194,0.341,0.344,0.389,0.396,0.456,0.33,0.328,0.294,0.381,0.363,0.419,0.335,0.366,0.482,0.576,0.516,0.39,0.567,0.422,0.482,0.186,0.321,0.448,0.467,0.444,0.364,0.405,0.35,0.421,0.178,0.467,0.38,0.298,0.409,0.471,0.438,0.346,0.223,0.375,0.328,0.151,0.278,0.259,0.421,0.484,0.33,0.179,0.293,0.376,0.178,0.217,0.471,0.509,0.334,0.44,0.373,0.316,0.238,0.417,0.329,0.477,0.333,0.328,0.598,0.168,0.501,0.279,0.534,0.129,0.207,0.175,0.556,0.342,0.373,0.108,0.145,0.315,0.0839,0.286,0.256,0.314,0.359,0.115,0.294,0.305,0.0657,0.588,0.322,0.362,0.528,0.342,0.45,0.262,0.399,0.248,0.153,0.31,0.145,0.154,0.129,0.252,0.316,0.433,0.168,0.31,0.518,0.304,0.406,0.296,0.288,0.345,0.305,0.278,0.296,0.437,0.44,0.456,0.624,0.378,0.562],\"z\":[0.481,0.16,0.19,0.341,0.0546,0.589,0.195,0.44,0.0513,0.264,0.305,0.385,0.404,0.173,0.259,0.266,0.35,0.476,0.732,0.414,0.33,0.274,0.232,0.416,0.352,0.18,0.073,0.196,0.253,0.422,0.15,0.177,0.113,0.391,0.194,0.132,0.25,0.434,0.321,0.502,0.205,0.223,0.329,0.198,0.217,0.206,0.0447,0.689,0.228,0.198,0.456,0.0985,0.466,0.543,0.206,0.36,0.362,0.48,0.197,0.377,0.0688,0.585,0.216,0.332,0.13,0.622,0.312,0.141,0.0374,0.506,0.344,0.0839,0.236,0.345,0.191,0.338,0.0374,0.0839,0.476,0.236,0.623,0.0893,0.0529,0.633,0.123,0.234,0.332,0.632,0.585,0.366,0.28,0.599,0.107,0.291,0.13,0.36,0.626,0.274,0.0985,0.543,0.141,0.358,0.214,0.506,0.173,0.224,0.511,0.158,0.192,0.147,0.12,0.355,0.282,0.415,0.175,0.232,0.223,0.112,0.0643,0.338,0.622,0.312,0.154,0.113,0.287,0.39,0.212,0.342,0.219,0.229,0.219,0.263,0.35,0.187,0.354,0.188,0.18,0.322,0.297,0.24,0.214,0.216,0.464,0.234,0.403,0.222,0.117,0.644,0.41,0.19,0.29,0.271,0.513,0.361,0.311,0.156,0.696,0.552,0.454,0.564,0.547,0.536,0.102,0.279,0.383,0.181,0.666,0.46,0.378,0.059,0.139,0.434,0.31,0.202,0.166,0.0734,0.613,0.486,0.104,0.0192,0.138,0.299,0.184,0.246,0.872,0.315,0.169,0.72,0.539,0.381,0.189,0.156,0.526,0.43,0.726,0.349,0.594,0.336,0.212,0.463,0.182,0.13,0.341,0.215,0.375,0.581,0.38,0.307,0.314,0.481,0.16,0.19,0.341,0.0546,0.589,0.195,0.44,0.0513,0.264,0.305,0.295,0.338,0.161,0.555,0.123,0.252,0.622,0.112,0.341,0.289,0.351,0.335,0.04,0.306,0.303,0.23,0.278,0.43,0.233,0.523,0.602,0.406,0.257,0.05,0.524,0.37,0.158,0.262,0.157,0.529,0.505,0.548,0.713],\"type\":\"scatter3d\"}],                        {\"template\":{\"data\":{\"histogram2dcontour\":[{\"type\":\"histogram2dcontour\",\"colorbar\":{\"outlinewidth\":0,\"ticks\":\"\"},\"colorscale\":[[0.0,\"#0d0887\"],[0.1111111111111111,\"#46039f\"],[0.2222222222222222,\"#7201a8\"],[0.3333333333333333,\"#9c179e\"],[0.4444444444444444,\"#bd3786\"],[0.5555555555555556,\"#d8576b\"],[0.6666666666666666,\"#ed7953\"],[0.7777777777777778,\"#fb9f3a\"],[0.8888888888888888,\"#fdca26\"],[1.0,\"#f0f921\"]]}],\"choropleth\":[{\"type\":\"choropleth\",\"colorbar\":{\"outlinewidth\":0,\"ticks\":\"\"}}],\"histogram2d\":[{\"type\":\"histogram2d\",\"colorbar\":{\"outlinewidth\":0,\"ticks\":\"\"},\"colorscale\":[[0.0,\"#0d0887\"],[0.1111111111111111,\"#46039f\"],[0.2222222222222222,\"#7201a8\"],[0.3333333333333333,\"#9c179e\"],[0.4444444444444444,\"#bd3786\"],[0.5555555555555556,\"#d8576b\"],[0.6666666666666666,\"#ed7953\"],[0.7777777777777778,\"#fb9f3a\"],[0.8888888888888888,\"#fdca26\"],[1.0,\"#f0f921\"]]}],\"heatmap\":[{\"type\":\"heatmap\",\"colorbar\":{\"outlinewidth\":0,\"ticks\":\"\"},\"colorscale\":[[0.0,\"#0d0887\"],[0.1111111111111111,\"#46039f\"],[0.2222222222222222,\"#7201a8\"],[0.3333333333333333,\"#9c179e\"],[0.4444444444444444,\"#bd3786\"],[0.5555555555555556,\"#d8576b\"],[0.6666666666666666,\"#ed7953\"],[0.7777777777777778,\"#fb9f3a\"],[0.8888888888888888,\"#fdca26\"],[1.0,\"#f0f921\"]]}],\"heatmapgl\":[{\"type\":\"heatmapgl\",\"colorbar\":{\"outlinewidth\":0,\"ticks\":\"\"},\"colorscale\":[[0.0,\"#0d0887\"],[0.1111111111111111,\"#46039f\"],[0.2222222222222222,\"#7201a8\"],[0.3333333333333333,\"#9c179e\"],[0.4444444444444444,\"#bd3786\"],[0.5555555555555556,\"#d8576b\"],[0.6666666666666666,\"#ed7953\"],[0.7777777777777778,\"#fb9f3a\"],[0.8888888888888888,\"#fdca26\"],[1.0,\"#f0f921\"]]}],\"contourcarpet\":[{\"type\":\"contourcarpet\",\"colorbar\":{\"outlinewidth\":0,\"ticks\":\"\"}}],\"contour\":[{\"type\":\"contour\",\"colorbar\":{\"outlinewidth\":0,\"ticks\":\"\"},\"colorscale\":[[0.0,\"#0d0887\"],[0.1111111111111111,\"#46039f\"],[0.2222222222222222,\"#7201a8\"],[0.3333333333333333,\"#9c179e\"],[0.4444444444444444,\"#bd3786\"],[0.5555555555555556,\"#d8576b\"],[0.6666666666666666,\"#ed7953\"],[0.7777777777777778,\"#fb9f3a\"],[0.8888888888888888,\"#fdca26\"],[1.0,\"#f0f921\"]]}],\"surface\":[{\"type\":\"surface\",\"colorbar\":{\"outlinewidth\":0,\"ticks\":\"\"},\"colorscale\":[[0.0,\"#0d0887\"],[0.1111111111111111,\"#46039f\"],[0.2222222222222222,\"#7201a8\"],[0.3333333333333333,\"#9c179e\"],[0.4444444444444444,\"#bd3786\"],[0.5555555555555556,\"#d8576b\"],[0.6666666666666666,\"#ed7953\"],[0.7777777777777778,\"#fb9f3a\"],[0.8888888888888888,\"#fdca26\"],[1.0,\"#f0f921\"]]}],\"mesh3d\":[{\"type\":\"mesh3d\",\"colorbar\":{\"outlinewidth\":0,\"ticks\":\"\"}}],\"scatter\":[{\"fillpattern\":{\"fillmode\":\"overlay\",\"size\":10,\"solidity\":0.2},\"type\":\"scatter\"}],\"parcoords\":[{\"type\":\"parcoords\",\"line\":{\"colorbar\":{\"outlinewidth\":0,\"ticks\":\"\"}}}],\"scatterpolargl\":[{\"type\":\"scatterpolargl\",\"marker\":{\"colorbar\":{\"outlinewidth\":0,\"ticks\":\"\"}}}],\"bar\":[{\"error_x\":{\"color\":\"#2a3f5f\"},\"error_y\":{\"color\":\"#2a3f5f\"},\"marker\":{\"line\":{\"color\":\"#E5ECF6\",\"width\":0.5},\"pattern\":{\"fillmode\":\"overlay\",\"size\":10,\"solidity\":0.2}},\"type\":\"bar\"}],\"scattergeo\":[{\"type\":\"scattergeo\",\"marker\":{\"colorbar\":{\"outlinewidth\":0,\"ticks\":\"\"}}}],\"scatterpolar\":[{\"type\":\"scatterpolar\",\"marker\":{\"colorbar\":{\"outlinewidth\":0,\"ticks\":\"\"}}}],\"histogram\":[{\"marker\":{\"pattern\":{\"fillmode\":\"overlay\",\"size\":10,\"solidity\":0.2}},\"type\":\"histogram\"}],\"scattergl\":[{\"type\":\"scattergl\",\"marker\":{\"colorbar\":{\"outlinewidth\":0,\"ticks\":\"\"}}}],\"scatter3d\":[{\"type\":\"scatter3d\",\"line\":{\"colorbar\":{\"outlinewidth\":0,\"ticks\":\"\"}},\"marker\":{\"colorbar\":{\"outlinewidth\":0,\"ticks\":\"\"}}}],\"scattermapbox\":[{\"type\":\"scattermapbox\",\"marker\":{\"colorbar\":{\"outlinewidth\":0,\"ticks\":\"\"}}}],\"scatterternary\":[{\"type\":\"scatterternary\",\"marker\":{\"colorbar\":{\"outlinewidth\":0,\"ticks\":\"\"}}}],\"scattercarpet\":[{\"type\":\"scattercarpet\",\"marker\":{\"colorbar\":{\"outlinewidth\":0,\"ticks\":\"\"}}}],\"carpet\":[{\"aaxis\":{\"endlinecolor\":\"#2a3f5f\",\"gridcolor\":\"white\",\"linecolor\":\"white\",\"minorgridcolor\":\"white\",\"startlinecolor\":\"#2a3f5f\"},\"baxis\":{\"endlinecolor\":\"#2a3f5f\",\"gridcolor\":\"white\",\"linecolor\":\"white\",\"minorgridcolor\":\"white\",\"startlinecolor\":\"#2a3f5f\"},\"type\":\"carpet\"}],\"table\":[{\"cells\":{\"fill\":{\"color\":\"#EBF0F8\"},\"line\":{\"color\":\"white\"}},\"header\":{\"fill\":{\"color\":\"#C8D4E3\"},\"line\":{\"color\":\"white\"}},\"type\":\"table\"}],\"barpolar\":[{\"marker\":{\"line\":{\"color\":\"#E5ECF6\",\"width\":0.5},\"pattern\":{\"fillmode\":\"overlay\",\"size\":10,\"solidity\":0.2}},\"type\":\"barpolar\"}],\"pie\":[{\"automargin\":true,\"type\":\"pie\"}]},\"layout\":{\"autotypenumbers\":\"strict\",\"colorway\":[\"#636efa\",\"#EF553B\",\"#00cc96\",\"#ab63fa\",\"#FFA15A\",\"#19d3f3\",\"#FF6692\",\"#B6E880\",\"#FF97FF\",\"#FECB52\"],\"font\":{\"color\":\"#2a3f5f\"},\"hovermode\":\"closest\",\"hoverlabel\":{\"align\":\"left\"},\"paper_bgcolor\":\"white\",\"plot_bgcolor\":\"#E5ECF6\",\"polar\":{\"bgcolor\":\"#E5ECF6\",\"angularaxis\":{\"gridcolor\":\"white\",\"linecolor\":\"white\",\"ticks\":\"\"},\"radialaxis\":{\"gridcolor\":\"white\",\"linecolor\":\"white\",\"ticks\":\"\"}},\"ternary\":{\"bgcolor\":\"#E5ECF6\",\"aaxis\":{\"gridcolor\":\"white\",\"linecolor\":\"white\",\"ticks\":\"\"},\"baxis\":{\"gridcolor\":\"white\",\"linecolor\":\"white\",\"ticks\":\"\"},\"caxis\":{\"gridcolor\":\"white\",\"linecolor\":\"white\",\"ticks\":\"\"}},\"coloraxis\":{\"colorbar\":{\"outlinewidth\":0,\"ticks\":\"\"}},\"colorscale\":{\"sequential\":[[0.0,\"#0d0887\"],[0.1111111111111111,\"#46039f\"],[0.2222222222222222,\"#7201a8\"],[0.3333333333333333,\"#9c179e\"],[0.4444444444444444,\"#bd3786\"],[0.5555555555555556,\"#d8576b\"],[0.6666666666666666,\"#ed7953\"],[0.7777777777777778,\"#fb9f3a\"],[0.8888888888888888,\"#fdca26\"],[1.0,\"#f0f921\"]],\"sequentialminus\":[[0.0,\"#0d0887\"],[0.1111111111111111,\"#46039f\"],[0.2222222222222222,\"#7201a8\"],[0.3333333333333333,\"#9c179e\"],[0.4444444444444444,\"#bd3786\"],[0.5555555555555556,\"#d8576b\"],[0.6666666666666666,\"#ed7953\"],[0.7777777777777778,\"#fb9f3a\"],[0.8888888888888888,\"#fdca26\"],[1.0,\"#f0f921\"]],\"diverging\":[[0,\"#8e0152\"],[0.1,\"#c51b7d\"],[0.2,\"#de77ae\"],[0.3,\"#f1b6da\"],[0.4,\"#fde0ef\"],[0.5,\"#f7f7f7\"],[0.6,\"#e6f5d0\"],[0.7,\"#b8e186\"],[0.8,\"#7fbc41\"],[0.9,\"#4d9221\"],[1,\"#276419\"]]},\"xaxis\":{\"gridcolor\":\"white\",\"linecolor\":\"white\",\"ticks\":\"\",\"title\":{\"standoff\":15},\"zerolinecolor\":\"white\",\"automargin\":true,\"zerolinewidth\":2},\"yaxis\":{\"gridcolor\":\"white\",\"linecolor\":\"white\",\"ticks\":\"\",\"title\":{\"standoff\":15},\"zerolinecolor\":\"white\",\"automargin\":true,\"zerolinewidth\":2},\"scene\":{\"xaxis\":{\"backgroundcolor\":\"#E5ECF6\",\"gridcolor\":\"white\",\"linecolor\":\"white\",\"showbackground\":true,\"ticks\":\"\",\"zerolinecolor\":\"white\",\"gridwidth\":2},\"yaxis\":{\"backgroundcolor\":\"#E5ECF6\",\"gridcolor\":\"white\",\"linecolor\":\"white\",\"showbackground\":true,\"ticks\":\"\",\"zerolinecolor\":\"white\",\"gridwidth\":2},\"zaxis\":{\"backgroundcolor\":\"#E5ECF6\",\"gridcolor\":\"white\",\"linecolor\":\"white\",\"showbackground\":true,\"ticks\":\"\",\"zerolinecolor\":\"white\",\"gridwidth\":2}},\"shapedefaults\":{\"line\":{\"color\":\"#2a3f5f\"}},\"annotationdefaults\":{\"arrowcolor\":\"#2a3f5f\",\"arrowhead\":0,\"arrowwidth\":1},\"geo\":{\"bgcolor\":\"white\",\"landcolor\":\"#E5ECF6\",\"subunitcolor\":\"white\",\"showland\":true,\"showlakes\":true,\"lakecolor\":\"white\"},\"title\":{\"x\":0.05},\"mapbox\":{\"style\":\"light\"}}},\"scene\":{\"domain\":{\"x\":[0.0,1.0],\"y\":[0.0,1.0]},\"xaxis\":{\"title\":{\"text\":\"energy\"}},\"yaxis\":{\"title\":{\"text\":\"danceability\"}},\"zaxis\":{\"title\":{\"text\":\"valence\"}}},\"coloraxis\":{\"colorbar\":{\"title\":{\"text\":\"cluster\"}},\"colorscale\":[[0.0,\"#440154\"],[0.1111111111111111,\"#482878\"],[0.2222222222222222,\"#3e4989\"],[0.3333333333333333,\"#31688e\"],[0.4444444444444444,\"#26828e\"],[0.5555555555555556,\"#1f9e89\"],[0.6666666666666666,\"#35b779\"],[0.7777777777777778,\"#6ece58\"],[0.8888888888888888,\"#b5de2b\"],[1.0,\"#fde725\"]]},\"legend\":{\"tracegroupgap\":0},\"title\":{\"text\":\"Clusters of Oasis Tracks (Interactive)\"}},                        {\"responsive\": true}                    ).then(function(){\n",
              "                            \n",
              "var gd = document.getElementById('73928759-fead-4ca0-a0a9-9eca177feb93');\n",
              "var x = new MutationObserver(function (mutations, observer) {{\n",
              "        var display = window.getComputedStyle(gd).display;\n",
              "        if (!display || display === 'none') {{\n",
              "            console.log([gd, 'removed!']);\n",
              "            Plotly.purge(gd);\n",
              "            observer.disconnect();\n",
              "        }}\n",
              "}});\n",
              "\n",
              "// Listen for the removal of the full notebook cells\n",
              "var notebookContainer = gd.closest('#notebook-container');\n",
              "if (notebookContainer) {{\n",
              "    x.observe(notebookContainer, {childList: true});\n",
              "}}\n",
              "\n",
              "// Listen for the clearing of the current output cell\n",
              "var outputEl = gd.closest('.output');\n",
              "if (outputEl) {{\n",
              "    x.observe(outputEl, {childList: true});\n",
              "}}\n",
              "\n",
              "                        })                };                            </script>        </div>\n",
              "</body>\n",
              "</html>"
            ]
          },
          "metadata": {}
        }
      ]
    },
    {
      "source": [
        "# Select audio features for clustering\n",
        "features = ['danceability', 'energy', 'loudness', 'speechiness', 'acousticness',\n",
        "            'instrumentalness', 'liveness', 'valence', 'tempo']\n",
        "X = df[features]\n",
        "\n",
        "# Scale the features\n",
        "scaler = StandardScaler()\n",
        "X_scaled = scaler.fit_transform(X)\n",
        "\n",
        "# Perform K-Means clustering\n",
        "kmeans = KMeans(n_clusters=3, random_state=42)\n",
        "kmeans.fit(X_scaled)\n",
        "df['cluster'] = kmeans.labels_\n",
        "\n",
        "# Analyze cluster characteristics\n",
        "cluster_centers = pd.DataFrame(scaler.inverse_transform(kmeans.cluster_centers_), columns=features)\n",
        "# Print or inspect cluster_centers to understand their feature values\n",
        "\n",
        "# Define cluster labels based on analysis (example)\n",
        "cluster_labels = {\n",
        "    0: 'High Energy, High Danceability',\n",
        "    1: 'Low Energy, Low Danceability',\n",
        "    2: 'Medium Energy, Medium Danceability'\n",
        "}\n",
        "df['cluster_label'] = df['cluster'].map(cluster_labels)\n",
        "\n",
        "# Create the interactive 3D scatter plot with labels\n",
        "fig = px.scatter_3d(df, x='energy', y='danceability', z='valence',\n",
        "                    color='cluster_label', color_discrete_sequence=px.colors.qualitative.Set1,\n",
        "                    opacity=0.7, title='Clusters of Oasis Tracks (Interactive)')\n",
        "\n",
        "fig.show()"
      ],
      "cell_type": "code",
      "metadata": {
        "id": "xCsGRLM1w2gb",
        "outputId": "ba856a81-34b1-451d-e6f9-158c2dddfcd7",
        "colab": {
          "base_uri": "https://localhost:8080/",
          "height": 542
        }
      },
      "execution_count": null,
      "outputs": [
        {
          "output_type": "display_data",
          "data": {
            "text/html": [
              "<html>\n",
              "<head><meta charset=\"utf-8\" /></head>\n",
              "<body>\n",
              "    <div>            <script src=\"https://cdnjs.cloudflare.com/ajax/libs/mathjax/2.7.5/MathJax.js?config=TeX-AMS-MML_SVG\"></script><script type=\"text/javascript\">if (window.MathJax && window.MathJax.Hub && window.MathJax.Hub.Config) {window.MathJax.Hub.Config({SVG: {font: \"STIX-Web\"}});}</script>                <script type=\"text/javascript\">window.PlotlyConfig = {MathJaxConfig: 'local'};</script>\n",
              "        <script charset=\"utf-8\" src=\"https://cdn.plot.ly/plotly-2.35.2.min.js\"></script>                <div id=\"5c42e9b0-e982-4d84-8265-50756a5178f5\" class=\"plotly-graph-div\" style=\"height:525px; width:100%;\"></div>            <script type=\"text/javascript\">                                    window.PLOTLYENV=window.PLOTLYENV || {};                                    if (document.getElementById(\"5c42e9b0-e982-4d84-8265-50756a5178f5\")) {                    Plotly.newPlot(                        \"5c42e9b0-e982-4d84-8265-50756a5178f5\",                        [{\"hovertemplate\":\"cluster_label=Low Energy, Low Danceability\\u003cbr\\u003eenergy=%{x}\\u003cbr\\u003edanceability=%{y}\\u003cbr\\u003evalence=%{z}\\u003cextra\\u003e\\u003c\\u002fextra\\u003e\",\"legendgroup\":\"Low Energy, Low Danceability\",\"marker\":{\"color\":\"rgb(228,26,28)\",\"opacity\":0.7,\"symbol\":\"circle\"},\"mode\":\"markers\",\"name\":\"Low Energy, Low Danceability\",\"scene\":\"scene\",\"showlegend\":true,\"x\":[0.97,0.822,0.908,0.913,0.742,0.9,0.757,0.96,0.768,0.947,0.899,0.831,0.922,0.925,0.712,0.901,0.856,0.928,0.737,0.812,0.852,0.634,0.877,0.769,0.854,0.558,0.865,0.917,0.939,0.848,0.87,0.842,0.87,0.885,0.951,0.857,0.801,0.632,0.887,0.618,0.964,0.893,0.937,0.849,0.618,0.836,0.964,0.848,0.977,0.836,0.752,0.857,0.974,0.951,0.929,0.87,0.999,0.987,0.706,0.939,0.791,0.967,0.558,0.632,0.738,0.737,0.69,0.939,0.878,0.857,0.801,0.931,0.664,0.708,0.584,0.76,0.611,0.861,0.884,0.825,0.976,0.919,0.784,0.831,0.942,0.814,0.98,0.938,0.809,0.858,0.976,0.735,0.832,0.867,0.888,0.801,0.922,0.781,0.783,0.832,0.919,0.743,0.926,0.954,0.893,0.936,0.846,0.905,0.817,0.839,0.797,0.896,0.983,0.951,0.891,0.909,0.813,0.781,0.854,0.743,0.832,0.97,0.822,0.908,0.913,0.742,0.93,0.98,0.905,0.782,0.883,0.564,0.902,0.902,0.908,0.733,0.928,0.955,0.981,0.633,0.901,0.687],\"y\":[0.315,0.286,0.256,0.359,0.294,0.142,0.382,0.314,0.192,0.171,0.374,0.364,0.15,0.305,0.288,0.236,0.341,0.314,0.372,0.204,0.18,0.277,0.39,0.29,0.41,0.331,0.3,0.349,0.416,0.229,0.479,0.365,0.568,0.139,0.401,0.408,0.31,0.405,0.268,0.428,0.437,0.414,0.444,0.403,0.428,0.465,0.437,0.487,0.378,0.308,0.415,0.379,0.404,0.401,0.105,0.568,0.405,0.403,0.371,0.416,0.48,0.298,0.331,0.405,0.4,0.365,0.386,0.328,0.333,0.408,0.31,0.409,0.349,0.372,0.353,0.34,0.279,0.299,0.301,0.194,0.341,0.344,0.389,0.396,0.456,0.33,0.381,0.363,0.419,0.335,0.366,0.482,0.321,0.467,0.444,0.364,0.405,0.35,0.421,0.38,0.409,0.471,0.438,0.346,0.375,0.328,0.421,0.484,0.293,0.217,0.471,0.509,0.334,0.44,0.373,0.316,0.329,0.477,0.328,0.168,0.175,0.315,0.286,0.256,0.359,0.294,0.362,0.342,0.262,0.153,0.31,0.145,0.252,0.316,0.31,0.518,0.304,0.406,0.296,0.288,0.278,0.378],\"z\":[0.481,0.19,0.341,0.589,0.44,0.404,0.173,0.259,0.266,0.35,0.476,0.732,0.414,0.33,0.274,0.232,0.416,0.352,0.434,0.321,0.502,0.205,0.689,0.198,0.456,0.0985,0.466,0.206,0.36,0.362,0.48,0.377,0.585,0.216,0.332,0.622,0.312,0.141,0.344,0.0839,0.236,0.345,0.191,0.338,0.0839,0.476,0.236,0.623,0.0893,0.0529,0.633,0.123,0.234,0.332,0.632,0.585,0.366,0.599,0.291,0.36,0.626,0.274,0.0985,0.141,0.358,0.214,0.173,0.511,0.158,0.622,0.312,0.154,0.287,0.39,0.212,0.342,0.219,0.229,0.263,0.35,0.187,0.354,0.188,0.18,0.322,0.297,0.216,0.464,0.234,0.403,0.222,0.117,0.311,0.696,0.552,0.454,0.564,0.547,0.536,0.383,0.666,0.46,0.378,0.059,0.434,0.31,0.613,0.486,0.138,0.246,0.872,0.315,0.169,0.72,0.539,0.381,0.526,0.43,0.349,0.336,0.215,0.481,0.19,0.341,0.589,0.44,0.338,0.555,0.252,0.341,0.289,0.351,0.306,0.303,0.43,0.233,0.523,0.602,0.406,0.257,0.37,0.548],\"type\":\"scatter3d\"},{\"hovertemplate\":\"cluster_label=Medium Energy, Medium Danceability\\u003cbr\\u003eenergy=%{x}\\u003cbr\\u003edanceability=%{y}\\u003cbr\\u003evalence=%{z}\\u003cextra\\u003e\\u003c\\u002fextra\\u003e\",\"legendgroup\":\"Medium Energy, Medium Danceability\",\"marker\":{\"color\":\"rgb(55,126,184)\",\"opacity\":0.7,\"symbol\":\"circle\"},\"mode\":\"markers\",\"name\":\"Medium Energy, Medium Danceability\",\"scene\":\"scene\",\"showlegend\":true,\"x\":[0.929,0.824,0.945,0.988,0.943,0.978,0.859,0.806,0.926,0.928,0.962,0.869,0.943,0.897,0.909,0.933,0.977,0.926,0.953,0.949,0.946,0.858,0.961,0.985,0.911,0.935,0.953,0.953,0.846,0.99,0.951,0.991,0.951,0.987,0.91,0.952,0.94,0.946,0.888,0.996,0.825,0.979,0.74,0.835,0.936,0.985,0.935,0.702,0.927,0.982,0.989,0.931,0.933,0.901,0.777,0.883,0.85,0.713,0.929,0.824,0.945,0.988,0.943,0.891,0.969,0.861,0.977,0.92,0.998],\"y\":[0.0839,0.314,0.115,0.305,0.0657,0.153,0.134,0.275,0.26,0.258,0.119,0.168,0.197,0.155,0.213,0.145,0.209,0.164,0.168,0.212,0.113,0.169,0.181,0.244,0.117,0.263,0.329,0.329,0.127,0.305,0.226,0.28,0.256,0.228,0.14,0.165,0.285,0.112,0.151,0.142,0.152,0.355,0.328,0.294,0.186,0.223,0.151,0.278,0.259,0.33,0.179,0.178,0.238,0.129,0.207,0.373,0.108,0.145,0.0839,0.314,0.115,0.305,0.0657,0.322,0.248,0.154,0.129,0.168,0.345],\"z\":[0.16,0.0546,0.195,0.0513,0.264,0.385,0.18,0.196,0.253,0.422,0.15,0.177,0.113,0.391,0.194,0.132,0.25,0.223,0.329,0.198,0.217,0.206,0.0447,0.228,0.197,0.0688,0.0374,0.0374,0.107,0.192,0.147,0.12,0.355,0.282,0.415,0.175,0.232,0.223,0.112,0.0643,0.338,0.219,0.24,0.214,0.361,0.139,0.202,0.166,0.0734,0.104,0.0192,0.184,0.189,0.13,0.341,0.38,0.307,0.314,0.16,0.0546,0.195,0.0513,0.264,0.295,0.112,0.335,0.04,0.278,0.05],\"type\":\"scatter3d\"},{\"hovertemplate\":\"cluster_label=High Energy, High Danceability\\u003cbr\\u003eenergy=%{x}\\u003cbr\\u003edanceability=%{y}\\u003cbr\\u003evalence=%{z}\\u003cextra\\u003e\\u003c\\u002fextra\\u003e\",\"legendgroup\":\"High Energy, High Danceability\",\"marker\":{\"color\":\"rgb(77,175,74)\",\"opacity\":0.7,\"symbol\":\"circle\"},\"mode\":\"markers\",\"name\":\"High Energy, High Danceability\",\"scene\":\"scene\",\"showlegend\":true,\"x\":[0.435,0.465,0.561,0.468,0.642,0.684,0.468,0.561,0.642,2.01e-05,0.59,0.543,0.368,0.307,0.373,0.258,0.526,0.632,0.272,0.566,0.397,0.423,0.596,0.609,0.694,0.552,0.608,0.414,0.605,0.671,0.435,0.578,0.33,0.501,0.458,0.633,0.371,0.419,0.415,0.5,0.466,0.321],\"y\":[0.588,0.512,0.491,0.475,0.463,0.603,0.475,0.491,0.463,0.354,0.398,0.576,0.516,0.39,0.567,0.422,0.482,0.448,0.178,0.467,0.298,0.376,0.417,0.333,0.598,0.501,0.279,0.534,0.556,0.342,0.588,0.528,0.45,0.399,0.433,0.305,0.296,0.437,0.44,0.456,0.624,0.562],\"z\":[0.305,0.073,0.543,0.13,0.506,0.28,0.13,0.543,0.506,0.224,0.113,0.644,0.41,0.19,0.29,0.271,0.513,0.156,0.102,0.279,0.181,0.299,0.156,0.726,0.594,0.212,0.463,0.182,0.375,0.581,0.305,0.161,0.123,0.622,0.23,0.524,0.158,0.262,0.157,0.529,0.505,0.713],\"type\":\"scatter3d\"}],                        {\"template\":{\"data\":{\"histogram2dcontour\":[{\"type\":\"histogram2dcontour\",\"colorbar\":{\"outlinewidth\":0,\"ticks\":\"\"},\"colorscale\":[[0.0,\"#0d0887\"],[0.1111111111111111,\"#46039f\"],[0.2222222222222222,\"#7201a8\"],[0.3333333333333333,\"#9c179e\"],[0.4444444444444444,\"#bd3786\"],[0.5555555555555556,\"#d8576b\"],[0.6666666666666666,\"#ed7953\"],[0.7777777777777778,\"#fb9f3a\"],[0.8888888888888888,\"#fdca26\"],[1.0,\"#f0f921\"]]}],\"choropleth\":[{\"type\":\"choropleth\",\"colorbar\":{\"outlinewidth\":0,\"ticks\":\"\"}}],\"histogram2d\":[{\"type\":\"histogram2d\",\"colorbar\":{\"outlinewidth\":0,\"ticks\":\"\"},\"colorscale\":[[0.0,\"#0d0887\"],[0.1111111111111111,\"#46039f\"],[0.2222222222222222,\"#7201a8\"],[0.3333333333333333,\"#9c179e\"],[0.4444444444444444,\"#bd3786\"],[0.5555555555555556,\"#d8576b\"],[0.6666666666666666,\"#ed7953\"],[0.7777777777777778,\"#fb9f3a\"],[0.8888888888888888,\"#fdca26\"],[1.0,\"#f0f921\"]]}],\"heatmap\":[{\"type\":\"heatmap\",\"colorbar\":{\"outlinewidth\":0,\"ticks\":\"\"},\"colorscale\":[[0.0,\"#0d0887\"],[0.1111111111111111,\"#46039f\"],[0.2222222222222222,\"#7201a8\"],[0.3333333333333333,\"#9c179e\"],[0.4444444444444444,\"#bd3786\"],[0.5555555555555556,\"#d8576b\"],[0.6666666666666666,\"#ed7953\"],[0.7777777777777778,\"#fb9f3a\"],[0.8888888888888888,\"#fdca26\"],[1.0,\"#f0f921\"]]}],\"heatmapgl\":[{\"type\":\"heatmapgl\",\"colorbar\":{\"outlinewidth\":0,\"ticks\":\"\"},\"colorscale\":[[0.0,\"#0d0887\"],[0.1111111111111111,\"#46039f\"],[0.2222222222222222,\"#7201a8\"],[0.3333333333333333,\"#9c179e\"],[0.4444444444444444,\"#bd3786\"],[0.5555555555555556,\"#d8576b\"],[0.6666666666666666,\"#ed7953\"],[0.7777777777777778,\"#fb9f3a\"],[0.8888888888888888,\"#fdca26\"],[1.0,\"#f0f921\"]]}],\"contourcarpet\":[{\"type\":\"contourcarpet\",\"colorbar\":{\"outlinewidth\":0,\"ticks\":\"\"}}],\"contour\":[{\"type\":\"contour\",\"colorbar\":{\"outlinewidth\":0,\"ticks\":\"\"},\"colorscale\":[[0.0,\"#0d0887\"],[0.1111111111111111,\"#46039f\"],[0.2222222222222222,\"#7201a8\"],[0.3333333333333333,\"#9c179e\"],[0.4444444444444444,\"#bd3786\"],[0.5555555555555556,\"#d8576b\"],[0.6666666666666666,\"#ed7953\"],[0.7777777777777778,\"#fb9f3a\"],[0.8888888888888888,\"#fdca26\"],[1.0,\"#f0f921\"]]}],\"surface\":[{\"type\":\"surface\",\"colorbar\":{\"outlinewidth\":0,\"ticks\":\"\"},\"colorscale\":[[0.0,\"#0d0887\"],[0.1111111111111111,\"#46039f\"],[0.2222222222222222,\"#7201a8\"],[0.3333333333333333,\"#9c179e\"],[0.4444444444444444,\"#bd3786\"],[0.5555555555555556,\"#d8576b\"],[0.6666666666666666,\"#ed7953\"],[0.7777777777777778,\"#fb9f3a\"],[0.8888888888888888,\"#fdca26\"],[1.0,\"#f0f921\"]]}],\"mesh3d\":[{\"type\":\"mesh3d\",\"colorbar\":{\"outlinewidth\":0,\"ticks\":\"\"}}],\"scatter\":[{\"fillpattern\":{\"fillmode\":\"overlay\",\"size\":10,\"solidity\":0.2},\"type\":\"scatter\"}],\"parcoords\":[{\"type\":\"parcoords\",\"line\":{\"colorbar\":{\"outlinewidth\":0,\"ticks\":\"\"}}}],\"scatterpolargl\":[{\"type\":\"scatterpolargl\",\"marker\":{\"colorbar\":{\"outlinewidth\":0,\"ticks\":\"\"}}}],\"bar\":[{\"error_x\":{\"color\":\"#2a3f5f\"},\"error_y\":{\"color\":\"#2a3f5f\"},\"marker\":{\"line\":{\"color\":\"#E5ECF6\",\"width\":0.5},\"pattern\":{\"fillmode\":\"overlay\",\"size\":10,\"solidity\":0.2}},\"type\":\"bar\"}],\"scattergeo\":[{\"type\":\"scattergeo\",\"marker\":{\"colorbar\":{\"outlinewidth\":0,\"ticks\":\"\"}}}],\"scatterpolar\":[{\"type\":\"scatterpolar\",\"marker\":{\"colorbar\":{\"outlinewidth\":0,\"ticks\":\"\"}}}],\"histogram\":[{\"marker\":{\"pattern\":{\"fillmode\":\"overlay\",\"size\":10,\"solidity\":0.2}},\"type\":\"histogram\"}],\"scattergl\":[{\"type\":\"scattergl\",\"marker\":{\"colorbar\":{\"outlinewidth\":0,\"ticks\":\"\"}}}],\"scatter3d\":[{\"type\":\"scatter3d\",\"line\":{\"colorbar\":{\"outlinewidth\":0,\"ticks\":\"\"}},\"marker\":{\"colorbar\":{\"outlinewidth\":0,\"ticks\":\"\"}}}],\"scattermapbox\":[{\"type\":\"scattermapbox\",\"marker\":{\"colorbar\":{\"outlinewidth\":0,\"ticks\":\"\"}}}],\"scatterternary\":[{\"type\":\"scatterternary\",\"marker\":{\"colorbar\":{\"outlinewidth\":0,\"ticks\":\"\"}}}],\"scattercarpet\":[{\"type\":\"scattercarpet\",\"marker\":{\"colorbar\":{\"outlinewidth\":0,\"ticks\":\"\"}}}],\"carpet\":[{\"aaxis\":{\"endlinecolor\":\"#2a3f5f\",\"gridcolor\":\"white\",\"linecolor\":\"white\",\"minorgridcolor\":\"white\",\"startlinecolor\":\"#2a3f5f\"},\"baxis\":{\"endlinecolor\":\"#2a3f5f\",\"gridcolor\":\"white\",\"linecolor\":\"white\",\"minorgridcolor\":\"white\",\"startlinecolor\":\"#2a3f5f\"},\"type\":\"carpet\"}],\"table\":[{\"cells\":{\"fill\":{\"color\":\"#EBF0F8\"},\"line\":{\"color\":\"white\"}},\"header\":{\"fill\":{\"color\":\"#C8D4E3\"},\"line\":{\"color\":\"white\"}},\"type\":\"table\"}],\"barpolar\":[{\"marker\":{\"line\":{\"color\":\"#E5ECF6\",\"width\":0.5},\"pattern\":{\"fillmode\":\"overlay\",\"size\":10,\"solidity\":0.2}},\"type\":\"barpolar\"}],\"pie\":[{\"automargin\":true,\"type\":\"pie\"}]},\"layout\":{\"autotypenumbers\":\"strict\",\"colorway\":[\"#636efa\",\"#EF553B\",\"#00cc96\",\"#ab63fa\",\"#FFA15A\",\"#19d3f3\",\"#FF6692\",\"#B6E880\",\"#FF97FF\",\"#FECB52\"],\"font\":{\"color\":\"#2a3f5f\"},\"hovermode\":\"closest\",\"hoverlabel\":{\"align\":\"left\"},\"paper_bgcolor\":\"white\",\"plot_bgcolor\":\"#E5ECF6\",\"polar\":{\"bgcolor\":\"#E5ECF6\",\"angularaxis\":{\"gridcolor\":\"white\",\"linecolor\":\"white\",\"ticks\":\"\"},\"radialaxis\":{\"gridcolor\":\"white\",\"linecolor\":\"white\",\"ticks\":\"\"}},\"ternary\":{\"bgcolor\":\"#E5ECF6\",\"aaxis\":{\"gridcolor\":\"white\",\"linecolor\":\"white\",\"ticks\":\"\"},\"baxis\":{\"gridcolor\":\"white\",\"linecolor\":\"white\",\"ticks\":\"\"},\"caxis\":{\"gridcolor\":\"white\",\"linecolor\":\"white\",\"ticks\":\"\"}},\"coloraxis\":{\"colorbar\":{\"outlinewidth\":0,\"ticks\":\"\"}},\"colorscale\":{\"sequential\":[[0.0,\"#0d0887\"],[0.1111111111111111,\"#46039f\"],[0.2222222222222222,\"#7201a8\"],[0.3333333333333333,\"#9c179e\"],[0.4444444444444444,\"#bd3786\"],[0.5555555555555556,\"#d8576b\"],[0.6666666666666666,\"#ed7953\"],[0.7777777777777778,\"#fb9f3a\"],[0.8888888888888888,\"#fdca26\"],[1.0,\"#f0f921\"]],\"sequentialminus\":[[0.0,\"#0d0887\"],[0.1111111111111111,\"#46039f\"],[0.2222222222222222,\"#7201a8\"],[0.3333333333333333,\"#9c179e\"],[0.4444444444444444,\"#bd3786\"],[0.5555555555555556,\"#d8576b\"],[0.6666666666666666,\"#ed7953\"],[0.7777777777777778,\"#fb9f3a\"],[0.8888888888888888,\"#fdca26\"],[1.0,\"#f0f921\"]],\"diverging\":[[0,\"#8e0152\"],[0.1,\"#c51b7d\"],[0.2,\"#de77ae\"],[0.3,\"#f1b6da\"],[0.4,\"#fde0ef\"],[0.5,\"#f7f7f7\"],[0.6,\"#e6f5d0\"],[0.7,\"#b8e186\"],[0.8,\"#7fbc41\"],[0.9,\"#4d9221\"],[1,\"#276419\"]]},\"xaxis\":{\"gridcolor\":\"white\",\"linecolor\":\"white\",\"ticks\":\"\",\"title\":{\"standoff\":15},\"zerolinecolor\":\"white\",\"automargin\":true,\"zerolinewidth\":2},\"yaxis\":{\"gridcolor\":\"white\",\"linecolor\":\"white\",\"ticks\":\"\",\"title\":{\"standoff\":15},\"zerolinecolor\":\"white\",\"automargin\":true,\"zerolinewidth\":2},\"scene\":{\"xaxis\":{\"backgroundcolor\":\"#E5ECF6\",\"gridcolor\":\"white\",\"linecolor\":\"white\",\"showbackground\":true,\"ticks\":\"\",\"zerolinecolor\":\"white\",\"gridwidth\":2},\"yaxis\":{\"backgroundcolor\":\"#E5ECF6\",\"gridcolor\":\"white\",\"linecolor\":\"white\",\"showbackground\":true,\"ticks\":\"\",\"zerolinecolor\":\"white\",\"gridwidth\":2},\"zaxis\":{\"backgroundcolor\":\"#E5ECF6\",\"gridcolor\":\"white\",\"linecolor\":\"white\",\"showbackground\":true,\"ticks\":\"\",\"zerolinecolor\":\"white\",\"gridwidth\":2}},\"shapedefaults\":{\"line\":{\"color\":\"#2a3f5f\"}},\"annotationdefaults\":{\"arrowcolor\":\"#2a3f5f\",\"arrowhead\":0,\"arrowwidth\":1},\"geo\":{\"bgcolor\":\"white\",\"landcolor\":\"#E5ECF6\",\"subunitcolor\":\"white\",\"showland\":true,\"showlakes\":true,\"lakecolor\":\"white\"},\"title\":{\"x\":0.05},\"mapbox\":{\"style\":\"light\"}}},\"scene\":{\"domain\":{\"x\":[0.0,1.0],\"y\":[0.0,1.0]},\"xaxis\":{\"title\":{\"text\":\"energy\"}},\"yaxis\":{\"title\":{\"text\":\"danceability\"}},\"zaxis\":{\"title\":{\"text\":\"valence\"}}},\"legend\":{\"title\":{\"text\":\"cluster_label\"},\"tracegroupgap\":0},\"title\":{\"text\":\"Clusters of Oasis Tracks (Interactive)\"}},                        {\"responsive\": true}                    ).then(function(){\n",
              "                            \n",
              "var gd = document.getElementById('5c42e9b0-e982-4d84-8265-50756a5178f5');\n",
              "var x = new MutationObserver(function (mutations, observer) {{\n",
              "        var display = window.getComputedStyle(gd).display;\n",
              "        if (!display || display === 'none') {{\n",
              "            console.log([gd, 'removed!']);\n",
              "            Plotly.purge(gd);\n",
              "            observer.disconnect();\n",
              "        }}\n",
              "}});\n",
              "\n",
              "// Listen for the removal of the full notebook cells\n",
              "var notebookContainer = gd.closest('#notebook-container');\n",
              "if (notebookContainer) {{\n",
              "    x.observe(notebookContainer, {childList: true});\n",
              "}}\n",
              "\n",
              "// Listen for the clearing of the current output cell\n",
              "var outputEl = gd.closest('.output');\n",
              "if (outputEl) {{\n",
              "    x.observe(outputEl, {childList: true});\n",
              "}}\n",
              "\n",
              "                        })                };                            </script>        </div>\n",
              "</body>\n",
              "</html>"
            ]
          },
          "metadata": {}
        }
      ]
    },
    {
      "cell_type": "code",
      "source": [
        "Oasis_tracks.info()"
      ],
      "metadata": {
        "id": "0YZOhSqLTJfz",
        "outputId": "5827860c-c01e-42cc-ba22-db38dc69171e",
        "colab": {
          "base_uri": "https://localhost:8080/"
        }
      },
      "execution_count": null,
      "outputs": [
        {
          "output_type": "stream",
          "name": "stdout",
          "text": [
            "<class 'pandas.core.frame.DataFrame'>\n",
            "RangeIndex: 253 entries, 0 to 252\n",
            "Data columns (total 26 columns):\n",
            " #   Column            Non-Null Count  Dtype  \n",
            "---  ------            --------------  -----  \n",
            " 0   album_name        253 non-null    object \n",
            " 1   album_id          253 non-null    object \n",
            " 2   release_date      253 non-null    object \n",
            " 3   total_tracks      253 non-null    int64  \n",
            " 4   track_name        253 non-null    object \n",
            " 5   track_id          253 non-null    object \n",
            " 6   duration_min      253 non-null    float64\n",
            " 7   popularity        0 non-null      float64\n",
            " 8   danceability      253 non-null    float64\n",
            " 9   energy            253 non-null    float64\n",
            " 10  key               253 non-null    int64  \n",
            " 11  loudness          253 non-null    float64\n",
            " 12  mode              253 non-null    int64  \n",
            " 13  speechiness       253 non-null    float64\n",
            " 14  acousticness      253 non-null    float64\n",
            " 15  instrumentalness  253 non-null    float64\n",
            " 16  liveness          253 non-null    float64\n",
            " 17  valence           253 non-null    float64\n",
            " 18  tempo             253 non-null    float64\n",
            " 19  type              253 non-null    object \n",
            " 20  id                253 non-null    object \n",
            " 21  uri               253 non-null    object \n",
            " 22  track_href        253 non-null    object \n",
            " 23  analysis_url      253 non-null    object \n",
            " 24  duration_ms       253 non-null    int64  \n",
            " 25  time_signature    253 non-null    int64  \n",
            "dtypes: float64(11), int64(5), object(10)\n",
            "memory usage: 51.5+ KB\n"
          ]
        }
      ]
    },
    {
      "cell_type": "code",
      "source": [
        "Oasis_tracks.plot(x='energy', y='danceability', kind='scatter')"
      ],
      "metadata": {
        "id": "AV9qC0tVW6DO",
        "outputId": "2b197303-b3b8-4052-fe02-7694b3c180d5",
        "colab": {
          "base_uri": "https://localhost:8080/",
          "height": 466
        }
      },
      "execution_count": null,
      "outputs": [
        {
          "output_type": "execute_result",
          "data": {
            "text/plain": [
              "<Axes: xlabel='energy', ylabel='danceability'>"
            ]
          },
          "metadata": {},
          "execution_count": 26
        },
        {
          "output_type": "display_data",
          "data": {
            "text/plain": [
              "<Figure size 640x480 with 1 Axes>"
            ],
            "image/png": "[encoded data removed]"
          },
          "metadata": {}
        }
      ]
    },
    {
      "cell_type": "markdown",
      "source": [],
      "metadata": {
        "id": "qu5K_2nJrwHN"
      }
    },
    {
      "cell_type": "code",
      "source": [
        "cluster_centers"
      ],
      "metadata": {
        "id": "VlF3o2VarGN8",
        "outputId": "8d376d6d-133d-468b-cf00-b8043fb60efa",
        "colab": {
          "base_uri": "https://localhost:8080/",
          "height": 143
        }
      },
      "execution_count": null,
      "outputs": [
        {
          "output_type": "execute_result",
          "data": {
            "text/plain": [
              "   danceability    energy  loudness  speechiness  acousticness  \\\n",
              "0      0.455024  0.484691 -7.744262     0.029079      0.475721   \n",
              "1      0.348563  0.845514 -3.996232     0.045725      0.028887   \n",
              "2      0.206351  0.918290 -3.924681     0.081714      0.027083   \n",
              "\n",
              "   instrumentalness  liveness   valence       tempo  \n",
              "0          0.058903  0.256221  0.339667  107.115381  \n",
              "1          0.067110  0.291089  0.361148  121.926113  \n",
              "2          0.354229  0.654719  0.196145  129.121870  "
            ],
            "text/html": [
              "\n",
              "  <div id=\"df-be5fff87-7c21-4d08-9acc-e5062b28dfc5\" class=\"colab-df-container\">\n",
              "    <div>\n",
              "<style scoped>\n",
              "    .dataframe tbody tr th:only-of-type {\n",
              "        vertical-align: middle;\n",
              "    }\n",
              "\n",
              "    .dataframe tbody tr th {\n",
              "        vertical-align: top;\n",
              "    }\n",
              "\n",
              "    .dataframe thead th {\n",
              "        text-align: right;\n",
              "    }\n",
              "</style>\n",
              "<table border=\"1\" class=\"dataframe\">\n",
              "  <thead>\n",
              "    <tr style=\"text-align: right;\">\n",
              "      <th></th>\n",
              "      <th>danceability</th>\n",
              "      <th>energy</th>\n",
              "      <th>loudness</th>\n",
              "      <th>speechiness</th>\n",
              "      <th>acousticness</th>\n",
              "      <th>instrumentalness</th>\n",
              "      <th>liveness</th>\n",
              "      <th>valence</th>\n",
              "      <th>tempo</th>\n",
              "    </tr>\n",
              "  </thead>\n",
              "  <tbody>\n",
              "    <tr>\n",
              "      <th>0</th>\n",
              "      <td>0.455024</td>\n",
              "      <td>0.484691</td>\n",
              "      <td>-7.744262</td>\n",
              "      <td>0.029079</td>\n",
              "      <td>0.475721</td>\n",
              "      <td>0.058903</td>\n",
              "      <td>0.256221</td>\n",
              "      <td>0.339667</td>\n",
              "      <td>107.115381</td>\n",
              "    </tr>\n",
              "    <tr>\n",
              "      <th>1</th>\n",
              "      <td>0.348563</td>\n",
              "      <td>0.845514</td>\n",
              "      <td>-3.996232</td>\n",
              "      <td>0.045725</td>\n",
              "      <td>0.028887</td>\n",
              "      <td>0.067110</td>\n",
              "      <td>0.291089</td>\n",
              "      <td>0.361148</td>\n",
              "      <td>121.926113</td>\n",
              "    </tr>\n",
              "    <tr>\n",
              "      <th>2</th>\n",
              "      <td>0.206351</td>\n",
              "      <td>0.918290</td>\n",
              "      <td>-3.924681</td>\n",
              "      <td>0.081714</td>\n",
              "      <td>0.027083</td>\n",
              "      <td>0.354229</td>\n",
              "      <td>0.654719</td>\n",
              "      <td>0.196145</td>\n",
              "      <td>129.121870</td>\n",
              "    </tr>\n",
              "  </tbody>\n",
              "</table>\n",
              "</div>\n",
              "    <div class=\"colab-df-buttons\">\n",
              "\n",
              "  <div class=\"colab-df-container\">\n",
              "    <button class=\"colab-df-convert\" onclick=\"convertToInteractive('df-be5fff87-7c21-4d08-9acc-e5062b28dfc5')\"\n",
              "            title=\"Convert this dataframe to an interactive table.\"\n",
              "            style=\"display:none;\">\n",
              "\n",
              "  <svg xmlns=\"http://www.w3.org/2000/svg\" height=\"24px\" viewBox=\"0 -960 960 960\">\n",
              "    <path d=\"M120-120v-720h720v720H120Zm60-500h600v-160H180v160Zm220 220h160v-160H400v160Zm0 220h160v-160H400v160ZM180-400h160v-160H180v160Zm440 0h160v-160H620v160ZM180-180h160v-160H180v160Zm440 0h160v-160H620v160Z\"/>\n",
              "  </svg>\n",
              "    </button>\n",
              "\n",
              "  <style>\n",
              "    .colab-df-container {\n",
              "      display:flex;\n",
              "      gap: 12px;\n",
              "    }\n",
              "\n",
              "    .colab-df-convert {\n",
              "      background-color: #E8F0FE;\n",
              "      border: none;\n",
              "      border-radius: 50%;\n",
              "      cursor: pointer;\n",
              "      display: none;\n",
              "      fill: #1967D2;\n",
              "      height: 32px;\n",
              "      padding: 0 0 0 0;\n",
              "      width: 32px;\n",
              "    }\n",
              "\n",
              "    .colab-df-convert:hover {\n",
              "      background-color: #E2EBFA;\n",
              "      box-shadow: 0px 1px 2px rgba(60, 64, 67, 0.3), 0px 1px 3px 1px rgba(60, 64, 67, 0.15);\n",
              "      fill: #174EA6;\n",
              "    }\n",
              "\n",
              "    .colab-df-buttons div {\n",
              "      margin-bottom: 4px;\n",
              "    }\n",
              "\n",
              "    [theme=dark] .colab-df-convert {\n",
              "      background-color: #3B4455;\n",
              "      fill: #D2E3FC;\n",
              "    }\n",
              "\n",
              "    [theme=dark] .colab-df-convert:hover {\n",
              "      background-color: #434B5C;\n",
              "      box-shadow: 0px 1px 3px 1px rgba(0, 0, 0, 0.15);\n",
              "      filter: drop-shadow(0px 1px 2px rgba(0, 0, 0, 0.3));\n",
              "      fill: #FFFFFF;\n",
              "    }\n",
              "  </style>\n",
              "\n",
              "    <script>\n",
              "      const buttonEl =\n",
              "        document.querySelector('#df-be5fff87-7c21-4d08-9acc-e5062b28dfc5 button.colab-df-convert');\n",
              "      buttonEl.style.display =\n",
              "        google.colab.kernel.accessAllowed ? 'block' : 'none';\n",
              "\n",
              "      async function convertToInteractive(key) {\n",
              "        const element = document.querySelector('#df-be5fff87-7c21-4d08-9acc-e5062b28dfc5');\n",
              "        const dataTable =\n",
              "          await google.colab.kernel.invokeFunction('convertToInteractive',\n",
              "                                                    [key], {});\n",
              "        if (!dataTable) return;\n",
              "\n",
              "        const docLinkHtml = 'Like what you see? Visit the ' +\n",
              "          '<a target=\"_blank\" href=https://colab.research.google.com/notebooks/data_table.ipynb>data table notebook</a>'\n",
              "          + ' to learn more about interactive tables.';\n",
              "        element.innerHTML = '';\n",
              "        dataTable['output_type'] = 'display_data';\n",
              "        await google.colab.output.renderOutput(dataTable, element);\n",
              "        const docLink = document.createElement('div');\n",
              "        docLink.innerHTML = docLinkHtml;\n",
              "        element.appendChild(docLink);\n",
              "      }\n",
              "    </script>\n",
              "  </div>\n",
              "\n",
              "\n",
              "<div id=\"df-57693c35-39fb-40f5-a6d0-2af6dd87d532\">\n",
              "  <button class=\"colab-df-quickchart\" onclick=\"quickchart('df-57693c35-39fb-40f5-a6d0-2af6dd87d532')\"\n",
              "            title=\"Suggest charts\"\n",
              "            style=\"display:none;\">\n",
              "\n",
              "<svg xmlns=\"http://www.w3.org/2000/svg\" height=\"24px\"viewBox=\"0 0 24 24\"\n",
              "     width=\"24px\">\n",
              "    <g>\n",
              "        <path d=\"M19 3H5c-1.1 0-2 .9-2 2v14c0 1.1.9 2 2 2h14c1.1 0 2-.9 2-2V5c0-1.1-.9-2-2-2zM9 17H7v-7h2v7zm4 0h-2V7h2v10zm4 0h-2v-4h2v4z\"/>\n",
              "    </g>\n",
              "</svg>\n",
              "  </button>\n",
              "\n",
              "<style>\n",
              "  .colab-df-quickchart {\n",
              "      --bg-color: #E8F0FE;\n",
              "      --fill-color: #1967D2;\n",
              "      --hover-bg-color: #E2EBFA;\n",
              "      --hover-fill-color: #174EA6;\n",
              "      --disabled-fill-color: #AAA;\n",
              "      --disabled-bg-color: #DDD;\n",
              "  }\n",
              "\n",
              "  [theme=dark] .colab-df-quickchart {\n",
              "      --bg-color: #3B4455;\n",
              "      --fill-color: #D2E3FC;\n",
              "      --hover-bg-color: #434B5C;\n",
              "      --hover-fill-color: #FFFFFF;\n",
              "      --disabled-bg-color: #3B4455;\n",
              "      --disabled-fill-color: #666;\n",
              "  }\n",
              "\n",
              "  .colab-df-quickchart {\n",
              "    background-color: var(--bg-color);\n",
              "    border: none;\n",
              "    border-radius: 50%;\n",
              "    cursor: pointer;\n",
              "    display: none;\n",
              "    fill: var(--fill-color);\n",
              "    height: 32px;\n",
              "    padding: 0;\n",
              "    width: 32px;\n",
              "  }\n",
              "\n",
              "  .colab-df-quickchart:hover {\n",
              "    background-color: var(--hover-bg-color);\n",
              "    box-shadow: 0 1px 2px rgba(60, 64, 67, 0.3), 0 1px 3px 1px rgba(60, 64, 67, 0.15);\n",
              "    fill: var(--button-hover-fill-color);\n",
              "  }\n",
              "\n",
              "  .colab-df-quickchart-complete:disabled,\n",
              "  .colab-df-quickchart-complete:disabled:hover {\n",
              "    background-color: var(--disabled-bg-color);\n",
              "    fill: var(--disabled-fill-color);\n",
              "    box-shadow: none;\n",
              "  }\n",
              "\n",
              "  .colab-df-spinner {\n",
              "    border: 2px solid var(--fill-color);\n",
              "    border-color: transparent;\n",
              "    border-bottom-color: var(--fill-color);\n",
              "    animation:\n",
              "      spin 1s steps(1) infinite;\n",
              "  }\n",
              "\n",
              "  @keyframes spin {\n",
              "    0% {\n",
              "      border-color: transparent;\n",
              "      border-bottom-color: var(--fill-color);\n",
              "      border-left-color: var(--fill-color);\n",
              "    }\n",
              "    20% {\n",
              "      border-color: transparent;\n",
              "      border-left-color: var(--fill-color);\n",
              "      border-top-color: var(--fill-color);\n",
              "    }\n",
              "    30% {\n",
              "      border-color: transparent;\n",
              "      border-left-color: var(--fill-color);\n",
              "      border-top-color: var(--fill-color);\n",
              "      border-right-color: var(--fill-color);\n",
              "    }\n",
              "    40% {\n",
              "      border-color: transparent;\n",
              "      border-right-color: var(--fill-color);\n",
              "      border-top-color: var(--fill-color);\n",
              "    }\n",
              "    60% {\n",
              "      border-color: transparent;\n",
              "      border-right-color: var(--fill-color);\n",
              "    }\n",
              "    80% {\n",
              "      border-color: transparent;\n",
              "      border-right-color: var(--fill-color);\n",
              "      border-bottom-color: var(--fill-color);\n",
              "    }\n",
              "    90% {\n",
              "      border-color: transparent;\n",
              "      border-bottom-color: var(--fill-color);\n",
              "    }\n",
              "  }\n",
              "</style>\n",
              "\n",
              "  <script>\n",
              "    async function quickchart(key) {\n",
              "      const quickchartButtonEl =\n",
              "        document.querySelector('#' + key + ' button');\n",
              "      quickchartButtonEl.disabled = true;  // To prevent multiple clicks.\n",
              "      quickchartButtonEl.classList.add('colab-df-spinner');\n",
              "      try {\n",
              "        const charts = await google.colab.kernel.invokeFunction(\n",
              "            'suggestCharts', [key], {});\n",
              "      } catch (error) {\n",
              "        console.error('Error during call to suggestCharts:', error);\n",
              "      }\n",
              "      quickchartButtonEl.classList.remove('colab-df-spinner');\n",
              "      quickchartButtonEl.classList.add('colab-df-quickchart-complete');\n",
              "    }\n",
              "    (() => {\n",
              "      let quickchartButtonEl =\n",
              "        document.querySelector('#df-57693c35-39fb-40f5-a6d0-2af6dd87d532 button');\n",
              "      quickchartButtonEl.style.display =\n",
              "        google.colab.kernel.accessAllowed ? 'block' : 'none';\n",
              "    })();\n",
              "  </script>\n",
              "</div>\n",
              "\n",
              "  <div id=\"id_eb587dfb-0294-4433-bb28-67dcab667e72\">\n",
              "    <style>\n",
              "      .colab-df-generate {\n",
              "        background-color: #E8F0FE;\n",
              "        border: none;\n",
              "        border-radius: 50%;\n",
              "        cursor: pointer;\n",
              "        display: none;\n",
              "        fill: #1967D2;\n",
              "        height: 32px;\n",
              "        padding: 0 0 0 0;\n",
              "        width: 32px;\n",
              "      }\n",
              "\n",
              "      .colab-df-generate:hover {\n",
              "        background-color: #E2EBFA;\n",
              "        box-shadow: 0px 1px 2px rgba(60, 64, 67, 0.3), 0px 1px 3px 1px rgba(60, 64, 67, 0.15);\n",
              "        fill: #174EA6;\n",
              "      }\n",
              "\n",
              "      [theme=dark] .colab-df-generate {\n",
              "        background-color: #3B4455;\n",
              "        fill: #D2E3FC;\n",
              "      }\n",
              "\n",
              "      [theme=dark] .colab-df-generate:hover {\n",
              "        background-color: #434B5C;\n",
              "        box-shadow: 0px 1px 3px 1px rgba(0, 0, 0, 0.15);\n",
              "        filter: drop-shadow(0px 1px 2px rgba(0, 0, 0, 0.3));\n",
              "        fill: #FFFFFF;\n",
              "      }\n",
              "    </style>\n",
              "    <button class=\"colab-df-generate\" onclick=\"generateWithVariable('cluster_centers')\"\n",
              "            title=\"Generate code using this dataframe.\"\n",
              "            style=\"display:none;\">\n",
              "\n",
              "  <svg xmlns=\"http://www.w3.org/2000/svg\" height=\"24px\"viewBox=\"0 0 24 24\"\n",
              "       width=\"24px\">\n",
              "    <path d=\"M7,19H8.4L18.45,9,17,7.55,7,17.6ZM5,21V16.75L18.45,3.32a2,2,0,0,1,2.83,0l1.4,1.43a1.91,1.91,0,0,1,.58,1.4,1.91,1.91,0,0,1-.58,1.4L9.25,21ZM18.45,9,17,7.55Zm-12,3A5.31,5.31,0,0,0,4.9,8.1,5.31,5.31,0,0,0,1,6.5,5.31,5.31,0,0,0,4.9,4.9,5.31,5.31,0,0,0,6.5,1,5.31,5.31,0,0,0,8.1,4.9,5.31,5.31,0,0,0,12,6.5,5.46,5.46,0,0,0,6.5,12Z\"/>\n",
              "  </svg>\n",
              "    </button>\n",
              "    <script>\n",
              "      (() => {\n",
              "      const buttonEl =\n",
              "        document.querySelector('#id_eb587dfb-0294-4433-bb28-67dcab667e72 button.colab-df-generate');\n",
              "      buttonEl.style.display =\n",
              "        google.colab.kernel.accessAllowed ? 'block' : 'none';\n",
              "\n",
              "      buttonEl.onclick = () => {\n",
              "        google.colab.notebook.generateWithVariable('cluster_centers');\n",
              "      }\n",
              "      })();\n",
              "    </script>\n",
              "  </div>\n",
              "\n",
              "    </div>\n",
              "  </div>\n"
            ],
            "application/vnd.google.colaboratory.intrinsic+json": {
              "type": "dataframe",
              "variable_name": "cluster_centers",
              "summary": "{\n  \"name\": \"cluster_centers\",\n  \"rows\": 3,\n  \"fields\": [\n    {\n      \"column\": \"danceability\",\n      \"properties\": {\n        \"dtype\": \"number\",\n        \"std\": 0.12476415455204631,\n        \"min\": 0.20635072463768114,\n        \"max\": 0.4550238095238095,\n        \"num_unique_values\": 3,\n        \"samples\": [\n          0.4550238095238095,\n          0.34856338028169015,\n          0.20635072463768114\n        ],\n        \"semantic_type\": \"\",\n        \"description\": \"\"\n      }\n    },\n    {\n      \"column\": \"energy\",\n      \"properties\": {\n        \"dtype\": \"number\",\n        \"std\": 0.2321987834058687,\n        \"min\": 0.4846909547619048,\n        \"max\": 0.9182898550724637,\n        \"num_unique_values\": 3,\n        \"samples\": [\n          0.4846909547619048,\n          0.8455140845070422,\n          0.9182898550724637\n        ],\n        \"semantic_type\": \"\",\n        \"description\": \"\"\n      }\n    },\n    {\n      \"column\": \"loudness\",\n      \"properties\": {\n        \"dtype\": \"number\",\n        \"std\": 2.1848738277912747,\n        \"min\": -7.744261904761904,\n        \"max\": -3.9246811594202895,\n        \"num_unique_values\": 3,\n        \"samples\": [\n          -7.744261904761904,\n          -3.996232394366197,\n          -3.9246811594202895\n        ],\n        \"semantic_type\": \"\",\n        \"description\": \"\"\n      }\n    },\n    {\n      \"column\": \"speechiness\",\n      \"properties\": {\n        \"dtype\": \"number\",\n        \"std\": 0.02690375985172454,\n        \"min\": 0.029078571428571426,\n        \"max\": 0.08171449275362319,\n        \"num_unique_values\": 3,\n        \"samples\": [\n          0.029078571428571426,\n          0.04572535211267606,\n          0.08171449275362319\n        ],\n        \"semantic_type\": \"\",\n        \"description\": \"\"\n      }\n    },\n    {\n      \"column\": \"acousticness\",\n      \"properties\": {\n        \"dtype\": \"number\",\n        \"std\": 0.258502326391917,\n        \"min\": 0.027083354057971007,\n        \"max\": 0.4757214285714285,\n        \"num_unique_values\": 3,\n        \"samples\": [\n          0.4757214285714285,\n          0.02888662373239434,\n          0.027083354057971007\n        ],\n        \"semantic_type\": \"\",\n        \"description\": \"\"\n      }\n    },\n    {\n      \"column\": \"instrumentalness\",\n      \"properties\": {\n        \"dtype\": \"number\",\n        \"std\": 0.16818716689108187,\n        \"min\": 0.05890310047619046,\n        \"max\": 0.3542287057971014,\n        \"num_unique_values\": 3,\n        \"samples\": [\n          0.05890310047619046,\n          0.06711032077464786,\n          0.3542287057971014\n        ],\n        \"semantic_type\": \"\",\n        \"description\": \"\"\n      }\n    },\n    {\n      \"column\": \"liveness\",\n      \"properties\": {\n        \"dtype\": \"number\",\n        \"std\": 0.22069674094665617,\n        \"min\": 0.2562214285714285,\n        \"max\": 0.6547188405797102,\n        \"num_unique_values\": 3,\n        \"samples\": [\n          0.2562214285714285,\n          0.29108943661971826,\n          0.6547188405797102\n        ],\n        \"semantic_type\": \"\",\n        \"description\": \"\"\n      }\n    },\n    {\n      \"column\": \"valence\",\n      \"properties\": {\n        \"dtype\": \"number\",\n        \"std\": 0.08970870376079873,\n        \"min\": 0.19614492753623186,\n        \"max\": 0.3611478873239437,\n        \"num_unique_values\": 3,\n        \"samples\": [\n          0.3396666666666667,\n          0.3611478873239437,\n          0.19614492753623186\n        ],\n        \"semantic_type\": \"\",\n        \"description\": \"\"\n      }\n    },\n    {\n      \"column\": \"tempo\",\n      \"properties\": {\n        \"dtype\": \"number\",\n        \"std\": 11.220682038580161,\n        \"min\": 107.11538095238096,\n        \"max\": 129.1218695652174,\n        \"num_unique_values\": 3,\n        \"samples\": [\n          107.11538095238096,\n          121.92611267605633,\n          129.1218695652174\n        ],\n        \"semantic_type\": \"\",\n        \"description\": \"\"\n      }\n    }\n  ]\n}"
            }
          },
          "metadata": {},
          "execution_count": 65
        }
      ]
    },
    {
      "cell_type": "code",
      "source": [],
      "metadata": {
        "id": "96IYY1q2sDo3"
      },
      "execution_count": null,
      "outputs": []
    }
  ],
  "metadata": {
    "colab": {
      "provenance": [],
      "include_colab_link": true
    },
    "kernelspec": {
      "display_name": "Python 3",
      "name": "python3"
    },
    "language_info": {
      "name": "python"
    }
  },
  "nbformat": 4,
  "nbformat_minor": 0
}